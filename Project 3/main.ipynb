{
 "cells": [
  {
   "cell_type": "code",
   "execution_count": 1,
   "id": "dc3749b76e893bd4",
   "metadata": {
    "collapsed": false,
    "ExecuteTime": {
     "end_time": "2024-04-27T17:52:38.312217Z",
     "start_time": "2024-04-27T17:52:37.222326Z"
    }
   },
   "outputs": [],
   "source": [
    "from torchtext.data.utils import get_tokenizer\n",
    "from torchtext.vocab import build_vocab_from_iterator\n",
    "from torch.utils.data import DataLoader, TensorDataset\n",
    "import torch.nn.functional as F\n",
    "import torch.optim as optim\n",
    "import torch.nn as nn\n",
    "import matplotlib.pyplot as plt\n",
    "from datetime import datetime\n",
    "import pandas as pd\n",
    "import numpy as np\n",
    "import torch\n",
    "import os\n",
    "import re"
   ]
  },
  {
   "cell_type": "code",
   "execution_count": 2,
   "id": "7b216aac8fa49f71",
   "metadata": {
    "collapsed": false,
    "ExecuteTime": {
     "end_time": "2024-04-27T17:52:38.320183Z",
     "start_time": "2024-04-27T17:52:38.313660Z"
    }
   },
   "outputs": [],
   "source": [
    "torch.manual_seed(256)\n",
    "torch.cuda.manual_seed(256)\n",
    "np.random.seed(256)"
   ]
  },
  {
   "cell_type": "code",
   "execution_count": 3,
   "id": "8ebf58a160f821f6",
   "metadata": {
    "collapsed": false,
    "ExecuteTime": {
     "end_time": "2024-04-27T17:52:38.320381Z",
     "start_time": "2024-04-27T17:52:38.316846Z"
    }
   },
   "outputs": [
    {
     "name": "stdout",
     "output_type": "stream",
     "text": [
      "Using cpu device.\n"
     ]
    }
   ],
   "source": [
    "device = torch.device(\"cuda\" if torch.cuda.is_available() else \"cpu\")\n",
    "print(f\"Using {device} device.\")"
   ]
  },
  {
   "cell_type": "markdown",
   "id": "56f18624e811dc2d",
   "metadata": {
    "collapsed": false
   },
   "source": [
    "## 2.1 Word embedding"
   ]
  },
  {
   "cell_type": "markdown",
   "id": "ecdeb62e62883d05",
   "metadata": {
    "collapsed": false
   },
   "source": [
    "1. Read txt files and tokenize them to obtain train/validation/test lists of words."
   ]
  },
  {
   "cell_type": "code",
   "execution_count": 4,
   "id": "180dd603429352f4",
   "metadata": {
    "collapsed": false,
    "ExecuteTime": {
     "end_time": "2024-04-27T17:52:38.323786Z",
     "start_time": "2024-04-27T17:52:38.320281Z"
    }
   },
   "outputs": [],
   "source": [
    "TOKENIZER = get_tokenizer(\"basic_english\")\n",
    "\n",
    "\n",
    "def read_txt_files(datapath):\n",
    "    files = os.listdir(datapath)\n",
    "    files = [datapath + f for f in files if f.endswith(\".txt\")]\n",
    "\n",
    "    lines = []\n",
    "    for f_name in files:\n",
    "        with open(f_name) as f:\n",
    "            lines += f.readlines()\n",
    "    return lines\n",
    "\n",
    "\n",
    "def tokenize(lines, tokenizer=TOKENIZER):\n",
    "    list_text = []\n",
    "    for line in lines:\n",
    "        list_text += tokenizer(line)\n",
    "    return list_text\n",
    "\n",
    "\n",
    "def yield_tokens(lines, tokenizer=TOKENIZER):\n",
    "    no_digits = \"\\w*[0-9]+\\w*\"  # Regex to match words containing numbers\n",
    "    no_names = \"\\w*[A-Z]+\\w*\"  # Regex to match words with capital letters (names)\n",
    "    no_spaces = \"\\s+\"  # Regex to match sequences of whitespace\n",
    "\n",
    "    # Processing each line to remove digits, names, and extra spaces\n",
    "    for line in lines:\n",
    "        line = re.sub(no_digits, \" \", line)\n",
    "        line = re.sub(no_names, \" \", line)\n",
    "        line = re.sub(no_spaces, \" \", line)\n",
    "        # Yielding the tokenized and cleaned line\n",
    "        yield tokenizer(line)"
   ]
  },
  {
   "cell_type": "code",
   "execution_count": 5,
   "outputs": [],
   "source": [
    "def ensure_directory_exists(folder):\n",
    "    \"\"\"Creates the directory if it does not exist.\"\"\"\n",
    "    os.makedirs(folder, exist_ok=True)"
   ],
   "metadata": {
    "collapsed": false,
    "ExecuteTime": {
     "end_time": "2024-04-27T17:52:38.325001Z",
     "start_time": "2024-04-27T17:52:38.323117Z"
    }
   },
   "id": "968e05ea7d10545e"
  },
  {
   "cell_type": "code",
   "execution_count": 6,
   "id": "e46a7ce8b9c09f97",
   "metadata": {
    "collapsed": false,
    "ExecuteTime": {
     "end_time": "2024-04-27T17:52:38.815876Z",
     "start_time": "2024-04-27T17:52:38.438296Z"
    }
   },
   "outputs": [],
   "source": [
    "GENERATED_PATH = \"./generated/\"  # Path where generated data files are stored\n",
    "ensure_directory_exists(GENERATED_PATH)\n",
    "\n",
    "# Check if the training data file already exists in the generated path\n",
    "if os.path.isfile(GENERATED_PATH + \"words_train.pt\"):\n",
    "    # Load preprocessed training, validation, and test word lists from .pt files\n",
    "    words_train = torch.load(GENERATED_PATH + \"words_train.pt\")\n",
    "    words_val = torch.load(GENERATED_PATH + \"words_val.pt\")\n",
    "    words_test = torch.load(GENERATED_PATH + \"words_test.pt\")\n",
    "else:\n",
    "    # If preprocessed data does not exist, read text files\n",
    "    lines_books_train = read_txt_files(\"data/data_train/\")\n",
    "    lines_books_val = read_txt_files(\"data/data_val/\")\n",
    "    lines_books_test = read_txt_files(\"data/data_test/\")\n",
    "\n",
    "    # Tokenize the lines from train, validation, and test datasets\n",
    "    words_train = tokenize(lines_books_train)\n",
    "    words_val = tokenize(lines_books_val)\n",
    "    words_test = tokenize(lines_books_test)\n",
    "\n",
    "    # Save the tokenized word lists to .pt files\n",
    "    torch.save(words_train, GENERATED_PATH + \"words_train.pt\")\n",
    "    torch.save(words_val, GENERATED_PATH + \"words_val.pt\")\n",
    "    torch.save(words_test, GENERATED_PATH + \"words_test.pt\")"
   ]
  },
  {
   "cell_type": "markdown",
   "id": "e3d6615cee6d135c",
   "metadata": {
    "collapsed": false
   },
   "source": [
    "2. Define a vocabulary based on the training dataset. To avoid getting a too large vocabulary, a solution can be to keep only words that appear at least 100 times in the training dataset. Report the total number of words in the training dataset, the number of distinct words in the training dataset, and the size of the defined vocabulary. Comment on your results."
   ]
  },
  {
   "cell_type": "code",
   "execution_count": 7,
   "id": "79cd1cab7154c135",
   "metadata": {
    "collapsed": false,
    "ExecuteTime": {
     "end_time": "2024-04-27T17:52:38.822209Z",
     "start_time": "2024-04-27T17:52:38.817046Z"
    }
   },
   "outputs": [],
   "source": [
    "MIN_FREQ = 100\n",
    "\n",
    "\n",
    "def create_vocabulary(lines, min_freq=MIN_FREQ):\n",
    "    # Building vocabulary from an iterator of tokenized lines, filtering out infrequent tokens\n",
    "    vocab = build_vocab_from_iterator(yield_tokens(lines), min_freq=min_freq,\n",
    "                                      specials=[\"<unk>\", \",\", \".\", \"(\", \")\", \"?\", \"!\"])\n",
    "    # Appending token \"I\", since we removed all words with an uppercase when building the vocabulary\n",
    "    vocab.append_token(\"i\")\n",
    "    # Setting default index for unknown words\n",
    "    vocab.set_default_index(vocab[\"<unk>\"])\n",
    "    return vocab"
   ]
  },
  {
   "cell_type": "code",
   "execution_count": 8,
   "id": "cf7baee7fcace153",
   "metadata": {
    "collapsed": false,
    "ExecuteTime": {
     "end_time": "2024-04-27T17:52:38.990723Z",
     "start_time": "2024-04-27T17:52:38.965817Z"
    }
   },
   "outputs": [],
   "source": [
    "VOCAB_FILENAME = \"vocabulary.pt\"\n",
    "\n",
    "# Check if the vocabulary file already exists in the generated path\n",
    "if os.path.isfile(GENERATED_PATH + VOCAB_FILENAME):\n",
    "    # Load the vocabulary from a file if it already exists\n",
    "    vocab = torch.load(GENERATED_PATH + VOCAB_FILENAME)\n",
    "else:\n",
    "    # If the vocabulary file does not exist, create a new vocabulary from training data\n",
    "    vocab = create_vocabulary(lines_books_train, min_freq=MIN_FREQ)\n",
    "    # Save the newly created vocabulary to a file\n",
    "    torch.save(vocab, GENERATED_PATH + VOCAB_FILENAME)\n",
    "\n",
    "VOCAB_SIZE = len(vocab)"
   ]
  },
  {
   "cell_type": "code",
   "execution_count": 9,
   "id": "9f174be539d0b11b",
   "metadata": {
    "collapsed": false,
    "ExecuteTime": {
     "end_time": "2024-04-27T17:52:39.234356Z",
     "start_time": "2024-04-27T17:52:39.225955Z"
    }
   },
   "outputs": [
    {
     "name": "stdout",
     "output_type": "stream",
     "text": [
      "Total number of words in the training dataset: 2,684,706\n",
      "Total number of words in the validation dataset: 49,526\n",
      "Total number of words in the test dataset: 124,152\n",
      "\n",
      "Number of distinct words in the training dataset: 52,105\n",
      "Number of distinct words in the validation dataset: 5,778\n",
      "Number of distinct words in the test dataset: 9,585\n",
      "\n",
      "Size of the defined vocabulary: 1,880\n"
     ]
    }
   ],
   "source": [
    "print(f\"Total number of words in the training dataset: {len(words_train):,}\")\n",
    "print(f\"Total number of words in the validation dataset: {len(words_val):,}\")\n",
    "print(f\"Total number of words in the test dataset: {len(words_test):,}\", end=\"\\n\\n\")\n",
    "\n",
    "print(f\"Number of distinct words in the training dataset: {len(set(words_train)):,}\")\n",
    "print(f\"Number of distinct words in the validation dataset: {len(set(words_val)):,}\")\n",
    "print(f\"Number of distinct words in the test dataset: {len(set(words_test)):,}\", end=\"\\n\\n\")\n",
    "\n",
    "print(f\"Size of the defined vocabulary: {VOCAB_SIZE:,}\")"
   ]
  },
  {
   "cell_type": "code",
   "execution_count": 10,
   "id": "b4c4165ae11f6e10",
   "metadata": {
    "collapsed": false,
    "ExecuteTime": {
     "end_time": "2024-04-27T17:52:39.385993Z",
     "start_time": "2024-04-27T17:52:39.373284Z"
    }
   },
   "outputs": [],
   "source": [
    "def count_occurrences(words, vocab):\n",
    "    occurrences = torch.zeros(len(vocab), dtype=torch.int)\n",
    "    for w in words:\n",
    "        occurrences[vocab[w]] += 1\n",
    "    return occurrences"
   ]
  },
  {
   "cell_type": "code",
   "execution_count": 11,
   "id": "1e516a890cd3ce97",
   "metadata": {
    "collapsed": false,
    "ExecuteTime": {
     "end_time": "2024-04-27T17:52:48.841777Z",
     "start_time": "2024-04-27T17:52:39.615939Z"
    }
   },
   "outputs": [],
   "source": [
    "word_counts_df = pd.DataFrame({\n",
    "    \"Word\": vocab.lookup_tokens(range(len(vocab))),\n",
    "    \"Occurrences\": count_occurrences(words_train, vocab).numpy()\n",
    "})\n",
    "\n",
    "sorted_word_counts = word_counts_df.sort_values(by=\"Occurrences\", ascending=False).reset_index(drop=True)\n",
    "sorted_word_counts.index = sorted_word_counts.index + 1"
   ]
  },
  {
   "cell_type": "code",
   "execution_count": 12,
   "id": "2aa1dbc37499968d",
   "metadata": {
    "collapsed": false,
    "ExecuteTime": {
     "end_time": "2024-04-27T17:52:48.851755Z",
     "start_time": "2024-04-27T17:52:48.844695Z"
    }
   },
   "outputs": [
    {
     "data": {
      "text/plain": "                Word  Occurrences\n1              <unk>       433907\n2                  ,       182537\n3                the       151278\n4                  .       123727\n5                and        82289\n...              ...          ...\n1876          pistol          100\n1877         slipped          100\n1878  station-master          100\n1879          wounds          100\n1880           agree          100\n\n[1880 rows x 2 columns]",
      "text/html": "<div>\n<style scoped>\n    .dataframe tbody tr th:only-of-type {\n        vertical-align: middle;\n    }\n\n    .dataframe tbody tr th {\n        vertical-align: top;\n    }\n\n    .dataframe thead th {\n        text-align: right;\n    }\n</style>\n<table border=\"1\" class=\"dataframe\">\n  <thead>\n    <tr style=\"text-align: right;\">\n      <th></th>\n      <th>Word</th>\n      <th>Occurrences</th>\n    </tr>\n  </thead>\n  <tbody>\n    <tr>\n      <th>1</th>\n      <td>&lt;unk&gt;</td>\n      <td>433907</td>\n    </tr>\n    <tr>\n      <th>2</th>\n      <td>,</td>\n      <td>182537</td>\n    </tr>\n    <tr>\n      <th>3</th>\n      <td>the</td>\n      <td>151278</td>\n    </tr>\n    <tr>\n      <th>4</th>\n      <td>.</td>\n      <td>123727</td>\n    </tr>\n    <tr>\n      <th>5</th>\n      <td>and</td>\n      <td>82289</td>\n    </tr>\n    <tr>\n      <th>...</th>\n      <td>...</td>\n      <td>...</td>\n    </tr>\n    <tr>\n      <th>1876</th>\n      <td>pistol</td>\n      <td>100</td>\n    </tr>\n    <tr>\n      <th>1877</th>\n      <td>slipped</td>\n      <td>100</td>\n    </tr>\n    <tr>\n      <th>1878</th>\n      <td>station-master</td>\n      <td>100</td>\n    </tr>\n    <tr>\n      <th>1879</th>\n      <td>wounds</td>\n      <td>100</td>\n    </tr>\n    <tr>\n      <th>1880</th>\n      <td>agree</td>\n      <td>100</td>\n    </tr>\n  </tbody>\n</table>\n<p>1880 rows × 2 columns</p>\n</div>"
     },
     "execution_count": 12,
     "metadata": {},
     "output_type": "execute_result"
    }
   ],
   "source": [
    "sorted_word_counts"
   ]
  },
  {
   "cell_type": "code",
   "execution_count": 13,
   "id": "1121f0251a057029",
   "metadata": {
    "collapsed": false,
    "ExecuteTime": {
     "end_time": "2024-04-27T17:52:48.854297Z",
     "start_time": "2024-04-27T17:52:48.852309Z"
    }
   },
   "outputs": [],
   "source": [
    "CONTEXT_SIZE = 3  # Number of words considered before and after the target word\n",
    "\n",
    "\n",
    "def create_context_target_dataset(text, vocab, context_size=CONTEXT_SIZE):\n",
    "    contexts = []\n",
    "    targets = []\n",
    "\n",
    "    for i in range(context_size, len(text) - context_size):\n",
    "        target = text[i]\n",
    "        target_idx = vocab[target]\n",
    "\n",
    "        context = [vocab[text[j]] for j in range(i - context_size, i + context_size + 1) if j != i]\n",
    "\n",
    "        targets.append(target_idx)\n",
    "        contexts.append(torch.tensor(context))\n",
    "\n",
    "    return TensorDataset(torch.stack(contexts), torch.tensor(targets))\n",
    "\n",
    "# def create_context_target_dataset(text, vocab, context_size=CONTEXT_SIZE, max_occurrences=None):\n",
    "#     target_counts = {}\n",
    "#     contexts = []\n",
    "#     targets = []\n",
    "# \n",
    "#     # Loop over the words list with enough space to form the context window\n",
    "#     for i in range(context_size, len(text) - context_size):\n",
    "#         target_word = text[i]\n",
    "# \n",
    "#         # Skip if the target word is punctuation\n",
    "#         if target_word in [',', '.', '(', ')', '?', '!']:\n",
    "#             continue\n",
    "# \n",
    "#         # Convert the word to its vocabulary index, skip if not in vocabulary\n",
    "#         target_idx = vocab.get_stoi().get(target_word, None)\n",
    "#         if target_idx is None:\n",
    "#             continue\n",
    "# \n",
    "#         # Limit occurrences of each word\n",
    "#         if max_occurrences is not None:\n",
    "#             if target_word in target_counts and target_counts[target_word] >= max_occurrences:\n",
    "#                 continue\n",
    "#             target_counts[target_word] = target_counts.get(target_word, 0) + 1\n",
    "# \n",
    "#         # Extract the context words: context_size words before and context_size words after the target word\n",
    "#         context = [vocab[text[j]] for j in range(i - context_size, i + context_size + 1) if j != i]\n",
    "#         contexts.append(torch.tensor(context))\n",
    "#         targets.append(target_idx)\n",
    "# \n",
    "#     return TensorDataset(torch.stack(contexts), torch.tensor(targets, dtype=torch.long))"
   ]
  },
  {
   "cell_type": "code",
   "execution_count": 14,
   "id": "ec1c029e087bb33a",
   "metadata": {
    "collapsed": false,
    "ExecuteTime": {
     "end_time": "2024-04-27T17:52:48.919001Z",
     "start_time": "2024-04-27T17:52:48.856212Z"
    }
   },
   "outputs": [],
   "source": [
    "def load_dataset(words, vocab, filename, generated_path=GENERATED_PATH):\n",
    "    full_path = os.path.join(generated_path, filename)\n",
    "    if os.path.isfile(full_path):\n",
    "        return torch.load(full_path)\n",
    "    else:\n",
    "        dataset = create_context_target_dataset(words, vocab)\n",
    "        torch.save(dataset, full_path)\n",
    "        return dataset\n",
    "\n",
    "\n",
    "data_train = load_dataset(words_train, vocab, \"data_train.pt\")\n",
    "data_val = load_dataset(words_val, vocab, \"data_val.pt\")\n",
    "data_test = load_dataset(words_test, vocab, \"data_test.pt\")"
   ]
  },
  {
   "cell_type": "code",
   "execution_count": 15,
   "id": "32c46f4667cd0cd7",
   "metadata": {
    "collapsed": false,
    "ExecuteTime": {
     "end_time": "2024-04-27T17:52:48.919173Z",
     "start_time": "2024-04-27T17:52:48.908755Z"
    }
   },
   "outputs": [
    {
     "name": "stdout",
     "output_type": "stream",
     "text": [
      "Training dataset size: 2,684,700\n",
      "Validation dataset size: 49,520\n",
      "Test dataset size: 124,146\n"
     ]
    }
   ],
   "source": [
    "print(f\"Training dataset size: {len(data_train):,}\")\n",
    "print(f\"Validation dataset size: {len(data_val):,}\")\n",
    "print(f\"Test dataset size: {len(data_test):,}\")"
   ]
  },
  {
   "cell_type": "code",
   "execution_count": 16,
   "id": "ec3168a690e0a5ca",
   "metadata": {
    "collapsed": false,
    "ExecuteTime": {
     "end_time": "2024-04-27T17:52:48.919260Z",
     "start_time": "2024-04-27T17:52:48.912532Z"
    }
   },
   "outputs": [],
   "source": [
    "BATCH_SIZE = 128\n",
    "\n",
    "train_loader = DataLoader(data_train, batch_size=BATCH_SIZE, shuffle=True)\n",
    "val_loader = DataLoader(data_val, batch_size=BATCH_SIZE, shuffle=True)\n",
    "test_loader = DataLoader(data_test, batch_size=BATCH_SIZE, shuffle=True)"
   ]
  },
  {
   "cell_type": "markdown",
   "id": "63eaf39159ad4b4c",
   "metadata": {
    "collapsed": false
   },
   "source": [
    "3. Define a continuous bag of words model architecture based on this vocabulary that contains an embedding layer. To drastically reduce the computational cost, the dimension of the embedding `emb_dim` can be very low such as 16, 12, or even 10. Of course, in a real setting, a larger space would be used. You are not allowed to use `nn.LazyLinear` in this project."
   ]
  },
  {
   "cell_type": "markdown",
   "id": "2a7291fb9d6248cd",
   "metadata": {
    "collapsed": false
   },
   "source": [
    "https://pytorch.org/tutorials/beginner/nlp/word_embeddings_tutorial.html"
   ]
  },
  {
   "cell_type": "code",
   "execution_count": 17,
   "id": "9a2231208b9d8d5f",
   "metadata": {
    "collapsed": false,
    "ExecuteTime": {
     "end_time": "2024-04-27T17:52:48.919408Z",
     "start_time": "2024-04-27T17:52:48.916545Z"
    }
   },
   "outputs": [],
   "source": [
    "class CBOW(nn.Module):\n",
    "    def __init__(self, emb_dim, hidden_dim, vocab_size=VOCAB_SIZE):\n",
    "        super(CBOW, self).__init__()\n",
    "        self.embedding = nn.Embedding(vocab_size, emb_dim)\n",
    "        self.lin1 = nn.Linear(emb_dim, hidden_dim)\n",
    "        self.relu = nn.ReLU()\n",
    "        self.lin2 = nn.Linear(hidden_dim, vocab_size)\n",
    "\n",
    "    def forward(self, x):\n",
    "        out = self.embedding(x).sum(dim=1)\n",
    "        out = self.lin1(out)\n",
    "        out = self.relu(out)\n",
    "        out = self.lin2(out)\n",
    "        out = F.log_softmax(out, dim=1)\n",
    "        return out"
   ]
  },
  {
   "cell_type": "code",
   "execution_count": 18,
   "id": "301f3f01ab9ba8c3",
   "metadata": {
    "collapsed": false,
    "ExecuteTime": {
     "end_time": "2024-04-27T17:52:48.926804Z",
     "start_time": "2024-04-27T17:52:48.919604Z"
    }
   },
   "outputs": [],
   "source": [
    "def train_model(model, train_loader, optimizer, loss_fn, epochs):\n",
    "    training_losses = []\n",
    "\n",
    "    for epoch in range(1, epochs + 1):\n",
    "        model.train()\n",
    "        train_loss = 0\n",
    "        for contexts, targets in train_loader:\n",
    "            contexts, targets = contexts.to(device), targets.to(device)\n",
    "            optimizer.zero_grad()\n",
    "            outputs = model(contexts)\n",
    "            loss = loss_fn(outputs, targets)\n",
    "            loss.backward()\n",
    "            optimizer.step()\n",
    "            train_loss += loss.item()\n",
    "        avg_train_loss = train_loss / len(train_loader)\n",
    "        training_losses.append(avg_train_loss)\n",
    "\n",
    "        timestamp = datetime.now().strftime('%H:%M:%S.%f')\n",
    "        print(f\"{timestamp} | Epoch {epoch} | Training Loss: {avg_train_loss:.5f}\")\n",
    "\n",
    "    return training_losses"
   ]
  },
  {
   "cell_type": "code",
   "execution_count": 19,
   "id": "d2aee5e15b33d61d",
   "metadata": {
    "collapsed": false,
    "ExecuteTime": {
     "end_time": "2024-04-27T17:52:48.926926Z",
     "start_time": "2024-04-27T17:52:48.922803Z"
    }
   },
   "outputs": [],
   "source": [
    "def calculate_weights(data, num_classes):\n",
    "    # Initialize counts with zeros for each possible word index\n",
    "    counts = torch.zeros(num_classes, dtype=torch.int)\n",
    "\n",
    "    # Count occurrences of each word in the dataset\n",
    "    for word in data:\n",
    "        word_idx = vocab[word]\n",
    "        counts[word_idx] += 1\n",
    "\n",
    "    # Total number of samples\n",
    "    total_samples = counts.sum()\n",
    "\n",
    "    # Weights for each class\n",
    "    weights = total_samples / (counts * VOCAB_SIZE)\n",
    "\n",
    "    # Replace inf/NaN with zero (in case some classes do not appear in the counts)\n",
    "    weights[torch.isinf(weights) | torch.isnan(weights)] = 0\n",
    "\n",
    "    # Normalize weights so that their maximum is 1\n",
    "    # weights = weights / weights.max()\n",
    "\n",
    "    return weights.to(device)"
   ]
  },
  {
   "cell_type": "code",
   "execution_count": 20,
   "id": "2c1f1e7f0bdb68e8",
   "metadata": {
    "collapsed": false,
    "ExecuteTime": {
     "end_time": "2024-04-27T17:52:57.353837Z",
     "start_time": "2024-04-27T17:52:48.926341Z"
    }
   },
   "outputs": [],
   "source": [
    "class_weights = calculate_weights(words_train, num_classes=VOCAB_SIZE)"
   ]
  },
  {
   "cell_type": "code",
   "execution_count": 21,
   "id": "2aa57128dac9bd7b",
   "metadata": {
    "collapsed": false,
    "ExecuteTime": {
     "end_time": "2024-04-27T17:52:57.361502Z",
     "start_time": "2024-04-27T17:52:57.354515Z"
    }
   },
   "outputs": [],
   "source": [
    "def save_losses(train_losses, model_name, folder=\"losses\"):\n",
    "    ensure_directory_exists(folder)\n",
    "    filepath = os.path.join(folder, f\"{model_name}_losses.csv\")\n",
    "    df = pd.DataFrame({\n",
    "        \"train_loss\": train_losses\n",
    "    })\n",
    "    df.to_csv(filepath, index=False)"
   ]
  },
  {
   "cell_type": "code",
   "execution_count": 22,
   "id": "a3ea4eb82686c07c",
   "metadata": {
    "collapsed": false,
    "ExecuteTime": {
     "end_time": "2024-04-27T17:52:57.361623Z",
     "start_time": "2024-04-27T17:52:57.357449Z"
    }
   },
   "outputs": [],
   "source": [
    "def load_losses(model_name, folder=\"losses\"):\n",
    "    filepath = os.path.join(folder, f\"{model_name}_losses.csv\")\n",
    "    df = pd.read_csv(filepath)\n",
    "    return df['train_loss'].tolist()"
   ]
  },
  {
   "cell_type": "code",
   "execution_count": 23,
   "id": "758c2a6da3ca3de9",
   "metadata": {
    "collapsed": false,
    "ExecuteTime": {
     "end_time": "2024-04-27T17:52:57.361655Z",
     "start_time": "2024-04-27T17:52:57.359296Z"
    }
   },
   "outputs": [],
   "source": [
    "def save_model(model, model_name, folder=\"models\"):\n",
    "    ensure_directory_exists(folder)\n",
    "    filepath = os.path.join(folder, f\"{model_name}.pth\")\n",
    "    torch.save(model.state_dict(), filepath)"
   ]
  },
  {
   "cell_type": "code",
   "execution_count": 24,
   "id": "3386be4c347be17c",
   "metadata": {
    "collapsed": false,
    "ExecuteTime": {
     "end_time": "2024-04-27T17:52:57.364790Z",
     "start_time": "2024-04-27T17:52:57.362083Z"
    }
   },
   "outputs": [],
   "source": [
    "def load_model(model, model_name, folder=\"models\"):\n",
    "    filepath = os.path.join(folder, f\"{model_name}.pth\")\n",
    "    model.load_state_dict(torch.load(filepath, map_location=device))\n",
    "    model.to(device)\n",
    "    return model"
   ]
  },
  {
   "cell_type": "code",
   "execution_count": 25,
   "id": "deee06aa6ca0c7da",
   "metadata": {
    "collapsed": false,
    "ExecuteTime": {
     "end_time": "2024-04-27T17:52:57.365972Z",
     "start_time": "2024-04-27T17:52:57.364737Z"
    }
   },
   "outputs": [],
   "source": [
    "CBOW_configs = [\n",
    "    {'emb_dim': 10, 'hidden_dim': 64, 'learning_rate': 1e-3, 'model_name': 'CBOW_model_emb10_hidden64_lr1e-3'},\n",
    "    {'emb_dim': 16, 'hidden_dim': 64, 'learning_rate': 1e-4, 'model_name': 'CBOW_model_emb16_hidden64_lr1e-4'},\n",
    "    {'emb_dim': 10, 'hidden_dim': 128, 'learning_rate': 1e-4, 'model_name': 'CBOW_model_emb10_hidden128_lr1e-4'},\n",
    "    {'emb_dim': 20, 'hidden_dim': 128, 'learning_rate': 1e-5, 'model_name': 'CBOW_model_emb20_hidden128_lr1e-5'},\n",
    "    {'emb_dim': 64, 'hidden_dim': 128, 'learning_rate': 1e-5, 'model_name': 'CBOW_model_emb64_hidden128_lr1e-5'},\n",
    "    {'emb_dim': 84, 'hidden_dim': 128, 'learning_rate': 1e-5, 'model_name': 'CBOW_model_emb84_hidden128_lr1e-5'},\n",
    "    {'emb_dim': 64, 'hidden_dim': 256, 'learning_rate': 1e-4, 'model_name': 'CBOW_model_emb64_hidden256_lr1e-4'},\n",
    "    {'emb_dim': 128, 'hidden_dim': 128, 'learning_rate': 1e-4, 'model_name': 'CBOW_model_emb128_hidden128_lr1e-4'},\n",
    "    {'emb_dim': 64, 'hidden_dim': 128, 'learning_rate': 1e-3, 'model_name': 'CBOW_model_emb64_hidden128_lr1e-3'}\n",
    "]"
   ]
  },
  {
   "cell_type": "code",
   "execution_count": 26,
   "outputs": [],
   "source": [
    "def train_and_save_models(configs, model_constructor, train_loader):\n",
    "    for config in configs:\n",
    "        torch.manual_seed(256)\n",
    "        torch.cuda.manual_seed(256)\n",
    "        np.random.seed(256)\n",
    "\n",
    "        if model_constructor == CBOW:\n",
    "            model = model_constructor(emb_dim=config['emb_dim'], hidden_dim=config['hidden_dim']).to(device)\n",
    "        elif model_constructor == SimpleMLP:\n",
    "            model = model_constructor(trained_embeddings, emb_dim=trained_embeddings.shape[1],\n",
    "                                      hidden_dim=config['hidden_dim']).to(device)\n",
    "\n",
    "        optimizer = optim.Adam(model.parameters(), lr=config['learning_rate'])\n",
    "\n",
    "        if model_constructor == CBOW:\n",
    "            loss_fn = nn.NLLLoss()\n",
    "        elif model_constructor == SimpleMLP:\n",
    "            loss_fn = nn.CrossEntropyLoss()\n",
    "\n",
    "        print(f\"Training {config['model_name']}:\")\n",
    "        model_losses = train_model(model, train_loader, optimizer, loss_fn, epochs=50)\n",
    "\n",
    "        save_model(model, config['model_name'])\n",
    "        save_losses(model_losses, config['model_name'])"
   ],
   "metadata": {
    "collapsed": false,
    "ExecuteTime": {
     "end_time": "2024-04-27T17:52:57.374282Z",
     "start_time": "2024-04-27T17:52:57.367658Z"
    }
   },
   "id": "60a3c5aa02a491a9"
  },
  {
   "cell_type": "code",
   "execution_count": null,
   "outputs": [],
   "source": [
    "train_and_save_models(CBOW_configs, CBOW, train_loader)"
   ],
   "metadata": {
    "collapsed": false
   },
   "id": "91a048a2f4350cb6"
  },
  {
   "cell_type": "code",
   "execution_count": 28,
   "id": "508ddf1503b6fa10",
   "metadata": {
    "collapsed": false,
    "ExecuteTime": {
     "end_time": "2024-04-27T17:53:11.632474Z",
     "start_time": "2024-04-27T17:53:11.618602Z"
    }
   },
   "outputs": [],
   "source": [
    "def plot_losses(model_names):\n",
    "    cmap = plt.get_cmap(\"Paired\")\n",
    "\n",
    "    for i, model_name in enumerate(model_names):\n",
    "        losses = load_losses(model_name)\n",
    "        plt.plot(losses, label=model_name, color=cmap(i))\n",
    "\n",
    "    plt.title(\"Model Losses During Training\")\n",
    "    plt.xlabel(\"Epochs\")\n",
    "    plt.ylabel(\"Training Loss\")\n",
    "    plt.legend(loc='center left', bbox_to_anchor=(1, 0.5), title=\"Model Names\")\n",
    "    plt.grid(color='silver', linestyle='--', linewidth=0.5)\n",
    "    plt.show()"
   ]
  },
  {
   "cell_type": "code",
   "execution_count": 29,
   "id": "450ca9e7a13b1c99",
   "metadata": {
    "collapsed": false,
    "ExecuteTime": {
     "end_time": "2024-04-27T17:53:12.325540Z",
     "start_time": "2024-04-27T17:53:12.136927Z"
    }
   },
   "outputs": [
    {
     "data": {
      "text/plain": "<Figure size 640x480 with 1 Axes>",
      "image/png": "[encoded data removed]"
     },
     "metadata": {},
     "output_type": "display_data"
    }
   ],
   "source": [
    "plot_losses([config['model_name'] for config in CBOW_configs])"
   ]
  },
  {
   "cell_type": "markdown",
   "id": "7fb1dc9393049b56",
   "metadata": {
    "collapsed": false
   },
   "source": [
    "4. Train several models, select the best one, and evaluate its performance. Note that the performance here is potentially extremely low, but the real objective is not to train a good predictor, only to have a good representation of the semantics of each word in the vocabulary."
   ]
  },
  {
   "cell_type": "code",
   "execution_count": 509,
   "id": "1202182fa734da97",
   "metadata": {
    "collapsed": false,
    "ExecuteTime": {
     "end_time": "2024-04-28T19:52:19.696277Z",
     "start_time": "2024-04-28T19:52:19.663339Z"
    }
   },
   "outputs": [],
   "source": [
    "def accuracy(model, data_loader):\n",
    "    model.eval()\n",
    "    correct = 0\n",
    "    total = 0\n",
    "    with torch.no_grad():\n",
    "        for contexts, targets in data_loader:\n",
    "            contexts, targets = contexts.to(device), targets.to(device)\n",
    "            outputs = model(contexts)\n",
    "            _, predicted = torch.max(outputs.data, 1)\n",
    "            total += targets.size(0)\n",
    "            correct += (predicted == targets).sum().item()\n",
    "    return correct / total"
   ]
  },
  {
   "cell_type": "code",
   "execution_count": 31,
   "id": "9298191dac304fad",
   "metadata": {
    "collapsed": false,
    "ExecuteTime": {
     "end_time": "2024-04-27T17:53:14.071760Z",
     "start_time": "2024-04-27T17:53:14.066322Z"
    }
   },
   "outputs": [],
   "source": [
    "def load_and_evaluate_models(configurations, model_constructor, val_loader, trained_embeddings=None):\n",
    "    best_model = None\n",
    "    best_model_name = \"\"\n",
    "    best_accuracy = 0\n",
    "\n",
    "    print(\"Evaluating configurations...\")\n",
    "    print(\"-\" * 80)\n",
    "    print(\"{:<40} | {:<40}\".format(\"Model Configuration\", \"Validation Accuracy\"))\n",
    "    print(\"-\" * 80)\n",
    "\n",
    "    for config in configurations:\n",
    "        if model_constructor == CBOW:\n",
    "            model = model_constructor(emb_dim=config['emb_dim'], hidden_dim=config['hidden_dim']).to(device)\n",
    "        elif model_constructor == SimpleMLP:\n",
    "            model = model_constructor(trained_embeddings, emb_dim=trained_embeddings.shape[1],\n",
    "                                      hidden_dim=config['hidden_dim']).to(device)\n",
    "\n",
    "        model = load_model(model, config['model_name'])\n",
    "\n",
    "        val_accuracy = accuracy(model, val_loader)\n",
    "        print(\"{:<40} | {:<40.2%}\".format(config['model_name'], val_accuracy))\n",
    "\n",
    "        if val_accuracy > best_accuracy:\n",
    "            best_accuracy = val_accuracy\n",
    "            best_model = model\n",
    "            best_model_name = config['model_name']\n",
    "\n",
    "    print(\"-\" * 80)\n",
    "\n",
    "    return best_model, best_model_name, best_accuracy"
   ]
  },
  {
   "cell_type": "code",
   "execution_count": 32,
   "outputs": [
    {
     "name": "stdout",
     "output_type": "stream",
     "text": [
      "Evaluating configurations...\n",
      "--------------------------------------------------------------------------------\n",
      "Model Configuration                      | Validation Accuracy                     \n",
      "--------------------------------------------------------------------------------\n",
      "CBOW_model_emb10_hidden64_lr1e-3         | 19.71%                                  \n",
      "CBOW_model_emb16_hidden64_lr1e-4         | 19.95%                                  \n",
      "CBOW_model_emb10_hidden128_lr1e-4        | 19.35%                                  \n",
      "CBOW_model_emb20_hidden128_lr1e-5        | 17.26%                                  \n",
      "CBOW_model_emb64_hidden128_lr1e-5        | 18.78%                                  \n",
      "CBOW_model_emb84_hidden128_lr1e-5        | 18.85%                                  \n",
      "CBOW_model_emb64_hidden256_lr1e-4        | 22.35%                                  \n",
      "CBOW_model_emb128_hidden128_lr1e-4       | 22.12%                                  \n",
      "CBOW_model_emb64_hidden128_lr1e-3        | 21.90%                                  \n",
      "--------------------------------------------------------------------------------\n",
      "Validation Accuracy of the best CBOW model (CBOW_model_emb64_hidden256_lr1e-4): 22.35%\n"
     ]
    }
   ],
   "source": [
    "best_CBOW_model, best_CBOW_model_name, best_CBOW_val_accuracy = load_and_evaluate_models(CBOW_configs, CBOW, val_loader)\n",
    "print(f\"Validation Accuracy of the best CBOW model ({best_CBOW_model_name}): {best_CBOW_val_accuracy:.2%}\")"
   ],
   "metadata": {
    "collapsed": false,
    "ExecuteTime": {
     "end_time": "2024-04-27T17:53:21.908168Z",
     "start_time": "2024-04-27T17:53:14.532213Z"
    }
   },
   "id": "9166f546ca1e21b2"
  },
  {
   "cell_type": "code",
   "execution_count": 33,
   "id": "c226fa8d2ba48a74",
   "metadata": {
    "collapsed": false,
    "ExecuteTime": {
     "end_time": "2024-04-27T17:53:43.922489Z",
     "start_time": "2024-04-27T17:53:41.775456Z"
    }
   },
   "outputs": [
    {
     "name": "stdout",
     "output_type": "stream",
     "text": [
      "Test Accuracy of the best CBOW model (CBOW_model_emb64_hidden256_lr1e-4): 25.09%\n"
     ]
    }
   ],
   "source": [
    "CBOW_test_accuracy = accuracy(best_CBOW_model, test_loader)\n",
    "print(f\"Test Accuracy of the best CBOW model ({best_CBOW_model_name}): {CBOW_test_accuracy:.2%}\")"
   ]
  },
  {
   "cell_type": "markdown",
   "id": "82711c018e25e726",
   "metadata": {
    "collapsed": false
   },
   "source": [
    "5. Compute the cosine similarity matrix of the vocabulary based on the trained embedding. For some words of your choice (e.g. *me*, *white*, *man*, *have*, *be*, *child*, *yes*, *what* etc.), report the 10 most similar words. Comment on your results."
   ]
  },
  {
   "cell_type": "code",
   "execution_count": 34,
   "id": "532816665732979",
   "metadata": {
    "collapsed": false,
    "ExecuteTime": {
     "end_time": "2024-04-27T17:54:15.940620Z",
     "start_time": "2024-04-27T17:54:05.433681Z"
    }
   },
   "outputs": [],
   "source": [
    "best_model_embeddings = best_CBOW_model.embedding.weight.detach().cpu().numpy()\n",
    "\n",
    "mat_size = len(best_model_embeddings)\n",
    "cos_sim_mat = np.zeros(shape=(mat_size, mat_size))\n",
    "\n",
    "for w1 in range(mat_size):\n",
    "    for w2 in range(mat_size):\n",
    "        cos_sim_mat[w1][w2] = np.dot(best_model_embeddings[w1], best_model_embeddings[w2]) / (\n",
    "                np.linalg.norm(best_model_embeddings[w1]) * np.linalg.norm(best_model_embeddings[w2]))"
   ]
  },
  {
   "cell_type": "code",
   "execution_count": 35,
   "id": "2fa8845918b46946",
   "metadata": {
    "collapsed": false,
    "ExecuteTime": {
     "end_time": "2024-04-27T17:54:15.952200Z",
     "start_time": "2024-04-27T17:54:15.944458Z"
    }
   },
   "outputs": [],
   "source": [
    "test_words = [\"me\", \"white\", \"man\", \"have\", \"be\", \"child\", \"yes\", \"what\"]\n",
    "test_words_idx = [vocab.get_stoi()[word] for word in test_words]"
   ]
  },
  {
   "cell_type": "code",
   "execution_count": 36,
   "id": "29062a8e17825af3",
   "metadata": {
    "collapsed": false,
    "ExecuteTime": {
     "end_time": "2024-04-27T17:54:15.953904Z",
     "start_time": "2024-04-27T17:54:15.948631Z"
    }
   },
   "outputs": [],
   "source": [
    "top_n = 10\n",
    "similar_words = {}\n",
    "\n",
    "for word, idx in zip(test_words, test_words_idx):\n",
    "    # get cosine similarities for the current word against all other words\n",
    "    similarities = cos_sim_mat[idx]\n",
    "\n",
    "    # get indices of the top 10 most similar words (excluding the word itself)\n",
    "    # argsort returns indices of sorted array, with the smallest first, so we take the last 10 items\n",
    "    most_similar_idxs = np.argsort(similarities)[-top_n - 1:-1][::-1]\n",
    "\n",
    "    # map indices back to words\n",
    "    similar_words[word] = [vocab.get_itos()[i] for i in most_similar_idxs]"
   ]
  },
  {
   "cell_type": "code",
   "execution_count": 37,
   "id": "793030b39ab25c3",
   "metadata": {
    "collapsed": false,
    "ExecuteTime": {
     "end_time": "2024-04-27T17:54:15.968598Z",
     "start_time": "2024-04-27T17:54:15.954890Z"
    }
   },
   "outputs": [
    {
     "name": "stdout",
     "output_type": "stream",
     "text": [
      "Words most similar to 'me': ['us', 'him', 'thee', 'you', 'replies', 'courage', 'truth', 'wished', 'frightful', 'mon']\n",
      "Words most similar to 'white': ['blue', 'red', 'foliage', 'creature', 'warm', 'yellow', 'glass', 'spirit', 'smiling', 'shadows']\n",
      "Words most similar to 'man': ['woman', 'lady', 'girl', 'soldier', 'person', 'general', 'figure', 'prince', 'fellow', 'mystery']\n",
      "Words most similar to 'have': ['ve', 'had', 'having', 'stand', 'has', 'ask', 'act', 'reach', 'call', 'hundred']\n",
      "Words most similar to 'be': ['happen', 'being', 'been', 'find', 'lie', 'stand', 'prevent', 'remain', 'help', 'avoid']\n",
      "Words most similar to 'child': ['mother', 'husband', 'colonel', 'driver', 'wolf', 'not', 'conversation', 'princess', 'lad', 'creature']\n",
      "Words most similar to 'yes': ['sir', 'indeed', 'replies', 'cross', 'repeated', 'tomorrow', 'exclaimed', 'nonsense', 'nose', 'yours']\n",
      "Words most similar to 'what': ['halted', 'something', 'seated', 'how', 'why', 'wish', 'unless', 'staff', 'la', 'useful']\n"
     ]
    }
   ],
   "source": [
    "for word, similar in similar_words.items():\n",
    "    print(f\"Words most similar to '{word}': {similar}\")"
   ]
  },
  {
   "cell_type": "markdown",
   "id": "332fee011d91aa34",
   "metadata": {
    "collapsed": false
   },
   "source": [
    "6. Visualize the embedding space on <https://projector.tensorflow.org>. To do so, upload the vocabulary and their corresponding values in the embedding space as two tsv files. Try to find and select clusters. Report both plots (you can use screenshots) and their corresponding selections for some meaningful clusters. Comment on your results."
   ]
  },
  {
   "cell_type": "code",
   "execution_count": 38,
   "id": "cc80f0631c5b3c33",
   "metadata": {
    "collapsed": false,
    "ExecuteTime": {
     "end_time": "2024-04-27T17:54:22.880332Z",
     "start_time": "2024-04-27T17:54:22.825766Z"
    }
   },
   "outputs": [],
   "source": [
    "tf_projector_folder_path = \"tensorflow_projector\"\n",
    "ensure_directory_exists(tf_projector_folder_path)\n",
    "\n",
    "df_embeddings = pd.DataFrame(best_model_embeddings)\n",
    "df_embeddings.to_csv(\"tensorflow_projector/vectors.tsv\", sep=\"\\t\", header=False, index=False)\n",
    "\n",
    "vocab_items = vocab.get_itos()\n",
    "df_vocab = pd.DataFrame(vocab_items)\n",
    "df_vocab.to_csv(\"tensorflow_projector/metadata.tsv\", sep=\"\\t\", header=False, index=False)"
   ]
  },
  {
   "cell_type": "markdown",
   "id": "f8fde0076c50aeb4",
   "metadata": {
    "collapsed": false
   },
   "source": [
    "## 2.2 Conjugating *be* and *have*"
   ]
  },
  {
   "cell_type": "markdown",
   "id": "a9ebc6c735681510",
   "metadata": {
    "collapsed": false
   },
   "source": [
    "To predict be and have conjugation, the (contexts, targets) datasets must be such that the targets are *be*, *am*, *are*, *is*, *was*, *were*, *been*, *being*, *have*, *has*, *had*, *having*. The output layer must match the number of classes to predict and the labels must be mapped from their original index in the vocabulary to integers between 0 and 11."
   ]
  },
  {
   "cell_type": "code",
   "execution_count": 39,
   "id": "f9524b8f99e672a8",
   "metadata": {
    "collapsed": false,
    "ExecuteTime": {
     "end_time": "2024-04-27T18:02:41.310617Z",
     "start_time": "2024-04-27T18:02:41.297920Z"
    }
   },
   "outputs": [],
   "source": [
    "CONJUGATIONS = {target: i for i, target in enumerate([\n",
    "    \"be\", \"am\", \"are\", \"is\", \"was\", \"were\", \"been\", \"being\", \"have\", \"has\", \"had\", \"having\"\n",
    "])}\n",
    "\n",
    "\n",
    "def create_conjugation_dataset(text, vocab, context_size=CONTEXT_SIZE):\n",
    "    contexts = []\n",
    "    targets = []\n",
    "\n",
    "    for i in range(context_size, len(text) - context_size):\n",
    "        target_word = text[i]\n",
    "        if target_word in CONJUGATIONS:\n",
    "            target_idx = CONJUGATIONS[target_word]\n",
    "\n",
    "            context = [vocab[text[j]] for j in range(i - context_size, i + context_size + 1) if j != i]\n",
    "            contexts.append(torch.tensor(context))\n",
    "            targets.append(target_idx)\n",
    "\n",
    "    return TensorDataset(torch.stack(contexts), torch.tensor(targets, dtype=torch.long))"
   ]
  },
  {
   "cell_type": "code",
   "execution_count": 40,
   "id": "8cd224c3dcac86f0",
   "metadata": {
    "collapsed": false,
    "ExecuteTime": {
     "end_time": "2024-04-27T18:02:42.229059Z",
     "start_time": "2024-04-27T18:02:42.212484Z"
    }
   },
   "outputs": [],
   "source": [
    "def load_conjugation_dataset(words, vocab, filename, generated_path=GENERATED_PATH):\n",
    "    full_path = os.path.join(generated_path, filename)\n",
    "    if os.path.isfile(full_path):\n",
    "        return torch.load(full_path)\n",
    "    else:\n",
    "        dataset = create_conjugation_dataset(words, vocab)\n",
    "        torch.save(dataset, full_path)\n",
    "        return dataset\n",
    "\n",
    "\n",
    "data_train_conj = load_conjugation_dataset(words_train, vocab, \"data_train_conj.pt\")\n",
    "data_val_conj = load_conjugation_dataset(words_val, vocab, \"data_val_conj.pt\")\n",
    "data_test_conj = load_conjugation_dataset(words_test, vocab, \"data_test_conj.pt\")"
   ]
  },
  {
   "cell_type": "code",
   "execution_count": 41,
   "id": "acca146a794edb6e",
   "metadata": {
    "collapsed": false,
    "ExecuteTime": {
     "end_time": "2024-04-27T18:02:42.667146Z",
     "start_time": "2024-04-27T18:02:42.654811Z"
    }
   },
   "outputs": [
    {
     "name": "stdout",
     "output_type": "stream",
     "text": [
      "Conjugation training dataset size: 124,030\n",
      "Conjugation validation dataset size: 2,590\n",
      "Conjugation test dataset size: 4,765\n"
     ]
    }
   ],
   "source": [
    "print(f\"Conjugation training dataset size: {len(data_train_conj):,}\")\n",
    "print(f\"Conjugation validation dataset size: {len(data_val_conj):,}\")\n",
    "print(f\"Conjugation test dataset size: {len(data_test_conj):,}\")"
   ]
  },
  {
   "cell_type": "code",
   "execution_count": 42,
   "id": "fd6637b79c14eac7",
   "metadata": {
    "collapsed": false,
    "ExecuteTime": {
     "end_time": "2024-04-27T18:02:43.334938Z",
     "start_time": "2024-04-27T18:02:43.316848Z"
    }
   },
   "outputs": [],
   "source": [
    "train_loader_conj = DataLoader(data_train_conj, batch_size=BATCH_SIZE, shuffle=True)\n",
    "val_loader_conj = DataLoader(data_val_conj, batch_size=BATCH_SIZE, shuffle=False)\n",
    "test_loader_conj = DataLoader(data_test_conj, batch_size=BATCH_SIZE, shuffle=False)"
   ]
  },
  {
   "cell_type": "markdown",
   "id": "1eb8090d996ffb35",
   "metadata": {
    "collapsed": false
   },
   "source": [
    "Your trained word embedding can be integrated in your next models in different ways. For example, you can transform inputs before feeding them to your models, or have a first layer in your models with the same weight values as your trained embedding matrix, or simply define the computations between the input and the embedding matrix in the forward function. In any case, make sure that your embedding layer doesn’t get updated when training the rest of your models!"
   ]
  },
  {
   "cell_type": "code",
   "execution_count": 43,
   "id": "b82ae387a0d62a8c",
   "metadata": {
    "collapsed": false,
    "ExecuteTime": {
     "end_time": "2024-04-27T18:02:44.052893Z",
     "start_time": "2024-04-27T18:02:44.032550Z"
    }
   },
   "outputs": [],
   "source": [
    "trained_embeddings = best_CBOW_model.embedding.weight.data"
   ]
  },
  {
   "cell_type": "code",
   "execution_count": 44,
   "id": "8932751e5b7fa346",
   "metadata": {
    "collapsed": false,
    "ExecuteTime": {
     "end_time": "2024-04-27T18:02:44.957079Z",
     "start_time": "2024-04-27T18:02:44.944333Z"
    }
   },
   "outputs": [],
   "source": [
    "OUTPUT_DIM = len(CONJUGATIONS)"
   ]
  },
  {
   "cell_type": "code",
   "execution_count": 47,
   "id": "116126e8",
   "metadata": {
    "ExecuteTime": {
     "end_time": "2024-04-27T18:02:46.336382Z",
     "start_time": "2024-04-27T18:02:46.322038Z"
    }
   },
   "outputs": [],
   "source": [
    "class SimpleMLP(nn.Module):\n",
    "    def __init__(self, embedding_matrix, emb_dim, hidden_dim, context_size=CONTEXT_SIZE, output_dim=OUTPUT_DIM):\n",
    "        super(SimpleMLP, self).__init__()\n",
    "        self.embedding = nn.Embedding.from_pretrained(embedding_matrix, freeze=True)\n",
    "        self.lin1 = nn.Linear(context_size * 2 * emb_dim, hidden_dim)\n",
    "        self.lin2 = nn.Linear(hidden_dim, output_dim)\n",
    "\n",
    "    def forward(self, x):\n",
    "        x = self.embedding(x).view(x.size(0), -1)\n",
    "        x = torch.relu(self.lin1(x))\n",
    "        x = self.lin2(x)\n",
    "        return x"
   ]
  },
  {
   "cell_type": "code",
   "execution_count": 48,
   "outputs": [],
   "source": [
    "SimpleMLP_configs = [\n",
    "    {'hidden_dim': 64, 'learning_rate': 1e-3, 'model_name': 'SimpleMLP_model_hidden64_lr1e-3'},\n",
    "    {'hidden_dim': 64, 'learning_rate': 1e-4, 'model_name': 'SimpleMLP_model_hidden64_lr1e-4'},\n",
    "    {'hidden_dim': 64, 'learning_rate': 1e-5, 'model_name': 'SimpleMLP_model_hidden64_lr1e-5'},\n",
    "    {'hidden_dim': 128, 'learning_rate': 1e-3, 'model_name': 'SimpleMLP_model_hidden128_lr1e-3'},\n",
    "    {'hidden_dim': 128, 'learning_rate': 1e-4, 'model_name': 'SimpleMLP_model_hidden128_lr1e-4'},\n",
    "    {'hidden_dim': 128, 'learning_rate': 1e-5, 'model_name': 'SimpleMLP_model_hidden128_lr1e-5'},\n",
    "    {'hidden_dim': 256, 'learning_rate': 1e-3, 'model_name': 'SimpleMLP_model_hidden256_lr1e-3'},\n",
    "    {'hidden_dim': 256, 'learning_rate': 1e-4, 'model_name': 'SimpleMLP_model_hidden256_lr1e-4'},\n",
    "    {'hidden_dim': 256, 'learning_rate': 1e-5, 'model_name': 'SimpleMLP_model_hidden256_lr1e-5'}\n",
    "]"
   ],
   "metadata": {
    "collapsed": false,
    "ExecuteTime": {
     "end_time": "2024-04-27T18:02:47.549137Z",
     "start_time": "2024-04-27T18:02:47.533795Z"
    }
   },
   "id": "4fbf61cdaa39c5cb"
  },
  {
   "cell_type": "code",
   "execution_count": null,
   "outputs": [],
   "source": [
    "train_and_save_models(SimpleMLP_configs, SimpleMLP, train_loader_conj)"
   ],
   "metadata": {
    "collapsed": false
   },
   "id": "5d59fb10fee82b06"
  },
  {
   "cell_type": "code",
   "execution_count": 50,
   "outputs": [
    {
     "data": {
      "text/plain": "<Figure size 640x480 with 1 Axes>",
      "image/png": "[encoded data removed]"
     },
     "metadata": {},
     "output_type": "display_data"
    }
   ],
   "source": [
    "plot_losses([config['model_name'] for config in SimpleMLP_configs])"
   ],
   "metadata": {
    "collapsed": false,
    "ExecuteTime": {
     "end_time": "2024-04-27T18:03:37.908295Z",
     "start_time": "2024-04-27T18:03:37.797837Z"
    }
   },
   "id": "19c0aeec58c13eb9"
  },
  {
   "cell_type": "code",
   "execution_count": 51,
   "outputs": [
    {
     "name": "stdout",
     "output_type": "stream",
     "text": [
      "Evaluating configurations...\n",
      "--------------------------------------------------------------------------------\n",
      "Model Configuration                      | Validation Accuracy                     \n",
      "--------------------------------------------------------------------------------\n",
      "SimpleMLP_model_hidden64_lr1e-3          | 60.89%                                  \n",
      "SimpleMLP_model_hidden64_lr1e-4          | 62.47%                                  \n",
      "SimpleMLP_model_hidden64_lr1e-5          | 57.10%                                  \n",
      "SimpleMLP_model_hidden128_lr1e-3         | 61.78%                                  \n",
      "SimpleMLP_model_hidden128_lr1e-4         | 63.32%                                  \n",
      "SimpleMLP_model_hidden128_lr1e-5         | 59.03%                                  \n",
      "SimpleMLP_model_hidden256_lr1e-3         | 58.49%                                  \n",
      "SimpleMLP_model_hidden256_lr1e-4         | 62.63%                                  \n",
      "SimpleMLP_model_hidden256_lr1e-5         | 59.65%                                  \n",
      "--------------------------------------------------------------------------------\n",
      "Validation Accuracy of the best model (SimpleMLP_model_hidden128_lr1e-4): 63.32%\n"
     ]
    }
   ],
   "source": [
    "best_SimpleMLP_model, best_SimpleMLP_model_name, best_SimpleMLP_val_accuracy = load_and_evaluate_models(\n",
    "    SimpleMLP_configs, SimpleMLP, val_loader_conj, trained_embeddings)\n",
    "print(f\"Validation Accuracy of the best model ({best_SimpleMLP_model_name}): {best_SimpleMLP_val_accuracy:.2%}\")"
   ],
   "metadata": {
    "collapsed": false,
    "ExecuteTime": {
     "end_time": "2024-04-27T18:03:40.602379Z",
     "start_time": "2024-04-27T18:03:40.458656Z"
    }
   },
   "id": "1fabdf50f57ddd9f"
  },
  {
   "cell_type": "code",
   "execution_count": 52,
   "outputs": [
    {
     "name": "stdout",
     "output_type": "stream",
     "text": [
      "Test Accuracy of the best model (SimpleMLP_model_hidden128_lr1e-4): 55.95%\n"
     ]
    }
   ],
   "source": [
    "SimpleMLP_test_accuracy = accuracy(best_SimpleMLP_model, test_loader_conj)\n",
    "print(f\"Test Accuracy of the best model ({best_SimpleMLP_model_name}): {SimpleMLP_test_accuracy:.2%}\")"
   ],
   "metadata": {
    "collapsed": false,
    "ExecuteTime": {
     "end_time": "2024-04-27T18:04:08.536762Z",
     "start_time": "2024-04-27T18:04:08.508058Z"
    }
   },
   "id": "443b50f26b373c65"
  },
  {
   "cell_type": "markdown",
   "source": [
    "Positional Encoding: <https://pytorch.org/tutorials/beginner/transformer_tutorial.html>\n",
    "\n",
    "Self-Attention: <https://spotintelligence.com/2023/01/31/self-attention/>\n",
    "\n",
    "<https://github.com/datnnt1997/multi-head_self-attention/blob/master/SelfAttention.ipynb>\n",
    "\n",
    "<https://uvadlc-notebooks.readthedocs.io/en/latest/tutorial_notebooks/tutorial6/Transformers_and_MHAttention.html>\n",
    "\n",
    "<https://towardsdatascience.com/build-your-own-transformer-from-scratch-using-pytorch-84c850470dcb>\n",
    "\n",
    "<https://jalammar.github.io/illustrated-transformer/>"
   ],
   "metadata": {
    "collapsed": false
   },
   "id": "297230090ee454fc"
  },
  {
   "cell_type": "code",
   "execution_count": 391,
   "outputs": [],
   "source": [
    "class PositionalEncoding(nn.Module):\n",
    "    def __init__(self, max_len, emb_dim):\n",
    "        super(PositionalEncoding, self).__init__()\n",
    "        pe = torch.zeros(max_len, emb_dim)\n",
    "        position = torch.arange(0, max_len, dtype=torch.float).unsqueeze(1)\n",
    "        div_term = torch.exp(torch.arange(0, emb_dim, 2).float() * -(np.log(10000.0) / emb_dim))\n",
    "        pe[:, 0::2] = torch.sin(position * div_term)\n",
    "        pe[:, 1::2] = torch.cos(position * div_term)\n",
    "        self.register_buffer('pe', pe.unsqueeze(0))  # register matrix as a buffer that does not require gradients\n",
    "\n",
    "    def forward(self, x):\n",
    "        # word embeddings + positional encodings\n",
    "        return x + self.pe[:, :x.size(1)]"
   ],
   "metadata": {
    "collapsed": false,
    "ExecuteTime": {
     "end_time": "2024-04-28T12:21:46.456678Z",
     "start_time": "2024-04-28T12:21:46.438101Z"
    }
   },
   "id": "55e9387a58b4ec20"
  },
  {
   "cell_type": "code",
   "execution_count": 392,
   "outputs": [],
   "source": [
    "class MultiHeadAttention(nn.Module):\n",
    "    def __init__(self, emb_dim, num_heads):\n",
    "        super(MultiHeadAttention, self).__init__()\n",
    "        # Make sure the embedding dimension can be evenly divided by the number of heads\n",
    "        assert emb_dim % num_heads == 0, \"emb_dim must be divisible by num_heads\"\n",
    "\n",
    "        # Calculate the size of each attention head\n",
    "        self.dim_per_head = emb_dim // num_heads\n",
    "        self.num_heads = num_heads\n",
    "\n",
    "        # Weights for transforming inputs to queries, keys, and values\n",
    "        self.W_q = nn.ModuleList([nn.Linear(emb_dim, self.dim_per_head, bias=False) for _ in range(num_heads)])\n",
    "        self.W_k = nn.ModuleList([nn.Linear(emb_dim, self.dim_per_head, bias=False) for _ in range(num_heads)])\n",
    "        self.W_v = nn.ModuleList([nn.Linear(emb_dim, self.dim_per_head, bias=False) for _ in range(num_heads)])\n",
    "\n",
    "        # Final linear layer that will transform the concatenated outputs from all attention heads\n",
    "        self.W_o = nn.Linear(emb_dim, emb_dim)\n",
    "\n",
    "    def forward(self, x):\n",
    "        # x: [N, max_len, emb_dim]\n",
    "\n",
    "        N = x.size(0)\n",
    "\n",
    "        # Apply linear transformations and reshape for multi-head attention computation\n",
    "        qs = [l_q(x).view(N, -1, self.dim_per_head) for l_q in self.W_q]  # [N, max_len, dim_per_head]\n",
    "        ks = [l_k(x).view(N, -1, self.dim_per_head) for l_k in self.W_k]\n",
    "        vs = [l_v(x).view(N, -1, self.dim_per_head) for l_v in self.W_v]\n",
    "\n",
    "        # Attention mechanism for each head\n",
    "        # For each set of Q, K, V compute the scaled dot-product attention\n",
    "        head_outputs = []\n",
    "        for q, k, v in zip(qs, ks, vs):\n",
    "            # Compute attention scores using matrix multiplication between queries and keys\n",
    "            # The scores are scaled down by the square root of the size of each attention head (dim_per_head)\n",
    "            attn_scores = torch.matmul(q, k.transpose(-2, -1)) / np.sqrt(self.dim_per_head)  # [N, max_len, max_len]\n",
    "\n",
    "            # Softmax normalizes the scores so they’re all positive and add up to 1\n",
    "            attn = F.softmax(attn_scores, dim=-1)  # [N, max_len, max_len]\n",
    "\n",
    "            # Multiply softmax score with the values to get the weighted context vectors for each head\n",
    "            head_outputs.append(torch.matmul(attn, v))  # [N, max_len, dim_per_head]\n",
    "\n",
    "        # Concatenate the context vectors from all attention heads\n",
    "        concat_heads = torch.cat(head_outputs, dim=-1)  # [N, max_len, emb_dim]\n",
    "\n",
    "        # Pass the concatenated vectors through the final linear layer to get multi-head attention output\n",
    "        output = self.W_o(concat_heads)  # [N, max_len, emb_dim]\n",
    "\n",
    "        return output"
   ],
   "metadata": {
    "collapsed": false,
    "ExecuteTime": {
     "end_time": "2024-04-28T12:21:46.631741Z",
     "start_time": "2024-04-28T12:21:46.617147Z"
    }
   },
   "id": "bb8b911aadaf3a46"
  },
  {
   "cell_type": "code",
   "execution_count": 393,
   "outputs": [],
   "source": [
    "class MLPWithAttention(nn.Module):\n",
    "    def __init__(self, embedding_matrix, emb_dim, num_heads, max_len, hidden_dim, output_dim):\n",
    "        super(MLPWithAttention, self).__init__()\n",
    "        self.embedding = nn.Embedding.from_pretrained(embedding_matrix, freeze=True)\n",
    "        self.pos_encoder = PositionalEncoding(max_len, emb_dim)\n",
    "        self.attention = MultiHeadAttention(emb_dim, num_heads)\n",
    "        self.fc1 = nn.Linear(emb_dim, hidden_dim)\n",
    "        self.fc2 = nn.Linear(hidden_dim, output_dim)  # maps to conjugation classes\n",
    "\n",
    "    def forward(self, x):\n",
    "        x = self.embedding(x)  # Convert token indices to embeddings\n",
    "        x = self.pos_encoder(x)  # Add positional encoding\n",
    "        x = self.attention(x)  # Apply attention over the sequence\n",
    "        x = x.mean(dim=1)  # Aggregate across the sequence dimension\n",
    "        x = F.relu(self.fc1(x))\n",
    "        x = self.fc2(x)  # Produce logits\n",
    "        return F.log_softmax(x, dim=1)"
   ],
   "metadata": {
    "collapsed": false,
    "ExecuteTime": {
     "end_time": "2024-04-28T12:21:46.791167Z",
     "start_time": "2024-04-28T12:21:46.775503Z"
    }
   },
   "id": "3c21da80d8b70247"
  },
  {
   "cell_type": "code",
   "execution_count": 394,
   "outputs": [],
   "source": [
    "emb_dim = trained_embeddings.shape[1]  # embedding size from CBOW model\n",
    "num_heads = 8\n",
    "max_len = CONTEXT_SIZE * 2\n",
    "hidden_dim = 128"
   ],
   "metadata": {
    "collapsed": false,
    "ExecuteTime": {
     "end_time": "2024-04-28T12:21:46.946603Z",
     "start_time": "2024-04-28T12:21:46.929879Z"
    }
   },
   "id": "c02d34f44182e258"
  },
  {
   "cell_type": "code",
   "execution_count": 400,
   "outputs": [],
   "source": [
    "torch.manual_seed(256)\n",
    "torch.cuda.manual_seed(256)\n",
    "np.random.seed(256)\n",
    "\n",
    "MLPWithAttention_model = MLPWithAttention(trained_embeddings, emb_dim, num_heads, max_len, hidden_dim, OUTPUT_DIM).to(\n",
    "    device)\n",
    "optimizer = torch.optim.Adam(MLPWithAttention_model.parameters(), lr=1e-3)\n",
    "loss_fn = nn.NLLLoss()"
   ],
   "metadata": {
    "collapsed": false,
    "ExecuteTime": {
     "end_time": "2024-04-28T12:25:01.109708Z",
     "start_time": "2024-04-28T12:25:01.092477Z"
    }
   },
   "id": "14d221ea3a4350a2"
  },
  {
   "cell_type": "code",
   "execution_count": 401,
   "outputs": [
    {
     "name": "stdout",
     "output_type": "stream",
     "text": [
      "14:25:09.693220 | Epoch 1 | Training Loss: 1.25513\n",
      "14:25:18.097745 | Epoch 2 | Training Loss: 1.08175\n",
      "14:25:26.108477 | Epoch 3 | Training Loss: 1.04214\n",
      "14:25:35.198280 | Epoch 4 | Training Loss: 1.01694\n",
      "14:25:45.029802 | Epoch 5 | Training Loss: 0.99780\n",
      "14:25:53.679561 | Epoch 6 | Training Loss: 0.98229\n",
      "14:26:03.776816 | Epoch 7 | Training Loss: 0.96970\n",
      "14:26:14.635692 | Epoch 8 | Training Loss: 0.95857\n",
      "14:26:25.006867 | Epoch 9 | Training Loss: 0.94934\n",
      "14:26:34.421181 | Epoch 10 | Training Loss: 0.94054\n",
      "14:26:41.713584 | Epoch 11 | Training Loss: 0.93089\n",
      "14:26:48.860223 | Epoch 12 | Training Loss: 0.92311\n",
      "14:26:57.578179 | Epoch 13 | Training Loss: 0.91655\n",
      "14:27:04.888339 | Epoch 14 | Training Loss: 0.91033\n",
      "14:27:13.006763 | Epoch 15 | Training Loss: 0.90483\n",
      "14:27:22.371185 | Epoch 16 | Training Loss: 0.89899\n",
      "14:27:31.522980 | Epoch 17 | Training Loss: 0.89497\n",
      "14:27:40.405073 | Epoch 18 | Training Loss: 0.88932\n",
      "14:27:49.593355 | Epoch 19 | Training Loss: 0.88401\n",
      "14:27:58.800391 | Epoch 20 | Training Loss: 0.88127\n",
      "14:28:07.643858 | Epoch 21 | Training Loss: 0.87559\n",
      "14:28:17.655173 | Epoch 22 | Training Loss: 0.87317\n",
      "14:28:27.785481 | Epoch 23 | Training Loss: 0.86792\n",
      "14:28:36.559763 | Epoch 24 | Training Loss: 0.86444\n",
      "14:28:45.114894 | Epoch 25 | Training Loss: 0.86201\n",
      "14:28:54.078400 | Epoch 26 | Training Loss: 0.85804\n",
      "14:29:03.395052 | Epoch 27 | Training Loss: 0.85485\n",
      "14:29:12.587418 | Epoch 28 | Training Loss: 0.85105\n",
      "14:29:21.596719 | Epoch 29 | Training Loss: 0.84936\n",
      "14:29:30.490382 | Epoch 30 | Training Loss: 0.84569\n",
      "14:29:39.706553 | Epoch 31 | Training Loss: 0.84343\n",
      "14:29:49.103120 | Epoch 32 | Training Loss: 0.84080\n",
      "14:29:59.993148 | Epoch 33 | Training Loss: 0.83821\n",
      "14:30:09.453782 | Epoch 34 | Training Loss: 0.83536\n",
      "14:30:18.368866 | Epoch 35 | Training Loss: 0.83383\n",
      "14:30:27.849813 | Epoch 36 | Training Loss: 0.83090\n",
      "14:30:37.635379 | Epoch 37 | Training Loss: 0.82911\n",
      "14:30:47.246484 | Epoch 38 | Training Loss: 0.82528\n",
      "14:30:56.143663 | Epoch 39 | Training Loss: 0.82580\n",
      "14:31:05.390039 | Epoch 40 | Training Loss: 0.82265\n",
      "14:31:13.974166 | Epoch 41 | Training Loss: 0.82122\n",
      "14:31:23.197683 | Epoch 42 | Training Loss: 0.81973\n",
      "14:31:31.982641 | Epoch 43 | Training Loss: 0.81726\n",
      "14:31:42.085486 | Epoch 44 | Training Loss: 0.81689\n",
      "14:31:52.092504 | Epoch 45 | Training Loss: 0.81443\n",
      "14:32:01.735729 | Epoch 46 | Training Loss: 0.81223\n",
      "14:32:12.619870 | Epoch 47 | Training Loss: 0.81080\n",
      "14:32:21.679388 | Epoch 48 | Training Loss: 0.80995\n",
      "14:32:30.258316 | Epoch 49 | Training Loss: 0.80709\n",
      "14:32:38.252664 | Epoch 50 | Training Loss: 0.80646\n"
     ]
    }
   ],
   "source": [
    "MLPWithAttention_losses = train_model(MLPWithAttention_model, train_loader_conj, optimizer, loss_fn, epochs=50)"
   ],
   "metadata": {
    "collapsed": false,
    "ExecuteTime": {
     "end_time": "2024-04-28T12:32:38.256064Z",
     "start_time": "2024-04-28T12:25:01.288185Z"
    }
   },
   "id": "ffea9a177068ab7d"
  },
  {
   "cell_type": "code",
   "execution_count": 414,
   "outputs": [
    {
     "name": "stdout",
     "output_type": "stream",
     "text": [
      "Validation Accuracy: 59.58%\n"
     ]
    }
   ],
   "source": [
    "MLPWithAttention_val_accuracy = accuracy(MLPWithAttention_model, val_loader_conj)\n",
    "print(f\"Validation Accuracy: {MLPWithAttention_val_accuracy:.2%}\")"
   ],
   "metadata": {
    "collapsed": false,
    "ExecuteTime": {
     "end_time": "2024-04-28T19:04:36.454978Z",
     "start_time": "2024-04-28T19:04:36.369636Z"
    }
   },
   "id": "a3a45a9cec70f1dd"
  },
  {
   "cell_type": "code",
   "execution_count": 406,
   "outputs": [
    {
     "data": {
      "text/plain": "<Figure size 640x480 with 1 Axes>",
      "image/png": "[encoded data removed]"
     },
     "metadata": {},
     "output_type": "display_data"
    }
   ],
   "source": [
    "plt.plot(MLPWithAttention_losses)\n",
    "plt.show()"
   ],
   "metadata": {
    "collapsed": false,
    "ExecuteTime": {
     "end_time": "2024-04-28T12:32:48.728782Z",
     "start_time": "2024-04-28T12:32:48.685708Z"
    }
   },
   "id": "a85c09ef1299f007"
  },
  {
   "cell_type": "markdown",
   "source": [
    "<https://www.deeplearningwizard.com/deep_learning/practical_pytorch/pytorch_lstm_neuralnetwork/#steps_2>\n",
    "\n",
    "<https://machinelearningmastery.com/text-generation-with-lstm-in-pytorch/>"
   ],
   "metadata": {
    "collapsed": false
   },
   "id": "1debeff088df12c"
  },
  {
   "cell_type": "code",
   "execution_count": 519,
   "outputs": [],
   "source": [
    "class SimpleRNN(nn.Module):\n",
    "    def __init__(self, embedding_matrix, emb_dim, hidden_dim, num_layers, output_dim):\n",
    "        super(SimpleRNN, self).__init__()\n",
    "        self.embedding = nn.Embedding.from_pretrained(embedding_matrix, freeze=True)\n",
    "        self.lstm = nn.LSTM(emb_dim, hidden_dim, num_layers, batch_first=True)\n",
    "        self.dropout = nn.Dropout(0.2)\n",
    "        self.fc = nn.Linear(hidden_dim, output_dim)\n",
    "\n",
    "    def forward(self, x):\n",
    "        x = self.embedding(x)\n",
    "        output, (hn, cn) = self.lstm(x)\n",
    "        last_output = output[:, -1, :]  # get the output of the last time step\n",
    "        x = self.fc(self.dropout(last_output))  # produce logits for each class\n",
    "        return F.log_softmax(x, dim=1)"
   ],
   "metadata": {
    "collapsed": false,
    "ExecuteTime": {
     "end_time": "2024-04-28T20:00:10.575291Z",
     "start_time": "2024-04-28T20:00:10.558180Z"
    }
   },
   "id": "fa2ae22cf4ec1cfd"
  },
  {
   "cell_type": "code",
   "execution_count": 520,
   "outputs": [],
   "source": [
    "torch.manual_seed(256)\n",
    "torch.cuda.manual_seed(256)\n",
    "np.random.seed(256)\n",
    "\n",
    "SimpleRNN_model = SimpleRNN(trained_embeddings, emb_dim=trained_embeddings.shape[1], hidden_dim=256, num_layers=2,\n",
    "                            output_dim=OUTPUT_DIM).to(device)\n",
    "optimizer = torch.optim.Adam(SimpleRNN_model.parameters(), lr=1e-3)\n",
    "loss_fn = nn.NLLLoss()"
   ],
   "metadata": {
    "collapsed": false,
    "ExecuteTime": {
     "end_time": "2024-04-28T20:00:10.968375Z",
     "start_time": "2024-04-28T20:00:10.950875Z"
    }
   },
   "id": "3afb27f520c52b34"
  },
  {
   "cell_type": "code",
   "execution_count": 521,
   "outputs": [
    {
     "name": "stdout",
     "output_type": "stream",
     "text": [
      "22:00:54.748717 | Epoch 1 | Training Loss: 1.15665\n",
      "22:01:38.155598 | Epoch 2 | Training Loss: 0.96515\n",
      "22:02:20.318028 | Epoch 3 | Training Loss: 0.89039\n",
      "22:03:04.685358 | Epoch 4 | Training Loss: 0.82915\n",
      "22:03:44.206097 | Epoch 5 | Training Loss: 0.76739\n",
      "22:04:25.186514 | Epoch 6 | Training Loss: 0.70443\n",
      "22:05:07.806439 | Epoch 7 | Training Loss: 0.63573\n",
      "22:05:50.521527 | Epoch 8 | Training Loss: 0.56515\n",
      "22:06:32.619238 | Epoch 9 | Training Loss: 0.49160\n",
      "22:07:17.228736 | Epoch 10 | Training Loss: 0.41914\n",
      "22:07:59.560666 | Epoch 11 | Training Loss: 0.35114\n",
      "22:08:44.142177 | Epoch 12 | Training Loss: 0.29225\n",
      "22:09:29.182993 | Epoch 13 | Training Loss: 0.24449\n",
      "22:10:12.266601 | Epoch 14 | Training Loss: 0.20320\n",
      "22:10:54.033587 | Epoch 15 | Training Loss: 0.17418\n",
      "22:11:31.839696 | Epoch 16 | Training Loss: 0.15153\n",
      "22:12:09.152420 | Epoch 17 | Training Loss: 0.13550\n",
      "22:12:56.686498 | Epoch 18 | Training Loss: 0.12222\n",
      "22:13:46.157723 | Epoch 19 | Training Loss: 0.11536\n",
      "22:14:33.967482 | Epoch 20 | Training Loss: 0.10388\n"
     ]
    }
   ],
   "source": [
    "SimpleRNN_losses = train_model(SimpleRNN_model, train_loader_conj, optimizer, loss_fn, epochs=20)"
   ],
   "metadata": {
    "collapsed": false,
    "ExecuteTime": {
     "end_time": "2024-04-28T20:14:33.972759Z",
     "start_time": "2024-04-28T20:00:11.326856Z"
    }
   },
   "id": "6d7b30dff4f59f4c"
  },
  {
   "cell_type": "code",
   "execution_count": 524,
   "outputs": [
    {
     "name": "stdout",
     "output_type": "stream",
     "text": [
      "Validation Accuracy: 60.54%\n"
     ]
    }
   ],
   "source": [
    "SimpleRNN_val_accuracy = accuracy(SimpleRNN_model, val_loader_conj)\n",
    "print(f\"Validation Accuracy: {SimpleRNN_val_accuracy:.2%}\")"
   ],
   "metadata": {
    "collapsed": false,
    "ExecuteTime": {
     "end_time": "2024-04-28T20:15:15.064082Z",
     "start_time": "2024-04-28T20:15:14.127538Z"
    }
   },
   "id": "f0b24fdb0bc999ff"
  },
  {
   "cell_type": "markdown",
   "source": [
    "## 2.3 Text generation"
   ],
   "metadata": {
    "collapsed": false
   },
   "id": "82bba1bc0a998385"
  },
  {
   "cell_type": "markdown",
   "source": [
    "1. Use your trained word embedding and define a RNN architecture that can predict the next word given the context before the target."
   ],
   "metadata": {
    "collapsed": false
   },
   "id": "d88a66b450ebf708"
  },
  {
   "cell_type": "code",
   "execution_count": null,
   "outputs": [],
   "source": [],
   "metadata": {
    "collapsed": false
   },
   "id": "9474108ac336e447"
  }
 ],
 "metadata": {
  "kernelspec": {
   "display_name": "Python 3",
   "language": "python",
   "name": "python3"
  },
  "language_info": {
   "codemirror_mode": {
    "name": "ipython",
    "version": 3
   },
   "file_extension": ".py",
   "mimetype": "text/x-python",
   "name": "python",
   "nbconvert_exporter": "python",
   "pygments_lexer": "ipython3",
   "version": "3.11.7"
  }
 },
 "nbformat": 4,
 "nbformat_minor": 5
}
