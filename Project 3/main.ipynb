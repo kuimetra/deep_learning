{
 "cells": [
  {
   "cell_type": "code",
   "execution_count": 1,
   "id": "dc3749b76e893bd4",
   "metadata": {
    "collapsed": false,
    "ExecuteTime": {
     "end_time": "2024-04-26T12:30:35.729186Z",
     "start_time": "2024-04-26T12:30:34.564397Z"
    }
   },
   "outputs": [],
   "source": [
    "from torchtext.data.utils import get_tokenizer\n",
    "from torchtext.vocab import build_vocab_from_iterator\n",
    "from torch.utils.data import DataLoader, TensorDataset\n",
    "import torch.nn.functional as F\n",
    "import torch.optim as optim\n",
    "import torch.nn as nn\n",
    "import matplotlib.pyplot as plt\n",
    "from datetime import datetime\n",
    "import pandas as pd\n",
    "import numpy as np\n",
    "import torch\n",
    "import os\n",
    "import re"
   ]
  },
  {
   "cell_type": "code",
   "execution_count": 2,
   "id": "7b216aac8fa49f71",
   "metadata": {
    "collapsed": false,
    "ExecuteTime": {
     "end_time": "2024-04-26T12:30:35.731514Z",
     "start_time": "2024-04-26T12:30:35.728620Z"
    }
   },
   "outputs": [],
   "source": [
    "torch.manual_seed(256)\n",
    "torch.cuda.manual_seed(256)\n",
    "np.random.seed(256)"
   ]
  },
  {
   "cell_type": "code",
   "execution_count": 3,
   "id": "8ebf58a160f821f6",
   "metadata": {
    "collapsed": false,
    "ExecuteTime": {
     "end_time": "2024-04-26T12:30:35.734637Z",
     "start_time": "2024-04-26T12:30:35.731758Z"
    }
   },
   "outputs": [
    {
     "name": "stdout",
     "output_type": "stream",
     "text": [
      "Using cpu device.\n"
     ]
    }
   ],
   "source": [
    "device = torch.device(\"cuda\" if torch.cuda.is_available() else \"cpu\")\n",
    "print(f\"Using {device} device.\")"
   ]
  },
  {
   "cell_type": "markdown",
   "id": "56f18624e811dc2d",
   "metadata": {
    "collapsed": false
   },
   "source": [
    "## 2.1 Word embedding"
   ]
  },
  {
   "cell_type": "markdown",
   "id": "ecdeb62e62883d05",
   "metadata": {
    "collapsed": false
   },
   "source": [
    "1. Read txt files and tokenize them to obtain train/validation/test lists of words."
   ]
  },
  {
   "cell_type": "code",
   "execution_count": 4,
   "id": "180dd603429352f4",
   "metadata": {
    "collapsed": false,
    "ExecuteTime": {
     "end_time": "2024-04-26T12:30:35.742324Z",
     "start_time": "2024-04-26T12:30:35.735617Z"
    }
   },
   "outputs": [],
   "source": [
    "TOKENIZER = get_tokenizer(\"basic_english\")\n",
    "\n",
    "\n",
    "def read_txt_files(datapath):\n",
    "    files = os.listdir(datapath)\n",
    "    files = [datapath + f for f in files if f.endswith(\".txt\")]\n",
    "\n",
    "    lines = []\n",
    "    for f_name in files:\n",
    "        with open(f_name) as f:\n",
    "            lines += f.readlines()\n",
    "    return lines\n",
    "\n",
    "\n",
    "def tokenize(lines, tokenizer=TOKENIZER):\n",
    "    list_text = []\n",
    "    for line in lines:\n",
    "        list_text += tokenizer(line)\n",
    "    return list_text\n",
    "\n",
    "\n",
    "def yield_tokens(lines, tokenizer=TOKENIZER):\n",
    "    no_digits = \"\\w*[0-9]+\\w*\"  # Regex to match words containing numbers\n",
    "    no_names = \"\\w*[A-Z]+\\w*\"  # Regex to match words with capital letters (names)\n",
    "    no_spaces = \"\\s+\"  # Regex to match sequences of whitespace\n",
    "\n",
    "    # Processing each line to remove digits, names, and extra spaces\n",
    "    for line in lines:\n",
    "        line = re.sub(no_digits, \" \", line)\n",
    "        line = re.sub(no_names, \" \", line)\n",
    "        line = re.sub(no_spaces, \" \", line)\n",
    "        # Yielding the tokenized and cleaned line\n",
    "        yield tokenizer(line)"
   ]
  },
  {
   "cell_type": "code",
   "execution_count": 5,
   "id": "e46a7ce8b9c09f97",
   "metadata": {
    "collapsed": false,
    "ExecuteTime": {
     "end_time": "2024-04-26T12:30:36.116270Z",
     "start_time": "2024-04-26T12:30:35.738030Z"
    }
   },
   "outputs": [],
   "source": [
    "GENERATED_PATH = \"./generated/\"  # Path where generated data files are stored\n",
    "\n",
    "# Check if the training data file already exists in the generated path\n",
    "if os.path.isfile(GENERATED_PATH + \"words_train.pt\"):\n",
    "    # Load preprocessed training, validation, and test word lists from .pt files\n",
    "    words_train = torch.load(GENERATED_PATH + \"words_train.pt\")\n",
    "    words_val = torch.load(GENERATED_PATH + \"words_val.pt\")\n",
    "    words_test = torch.load(GENERATED_PATH + \"words_test.pt\")\n",
    "else:\n",
    "    # If preprocessed data does not exist, read text files\n",
    "    lines_books_train = read_txt_files(\"data/data_train/\")\n",
    "    lines_books_val = read_txt_files(\"data/data_val/\")\n",
    "    lines_books_test = read_txt_files(\"data/data_test/\")\n",
    "\n",
    "    # Tokenize the lines from train, validation, and test datasets\n",
    "    words_train = tokenize(lines_books_train)\n",
    "    words_val = tokenize(lines_books_val)\n",
    "    words_test = tokenize(lines_books_test)\n",
    "\n",
    "    # Save the tokenized word lists to .pt files\n",
    "    torch.save(words_train, GENERATED_PATH + \"words_train.pt\")\n",
    "    torch.save(words_val, GENERATED_PATH + \"words_val.pt\")\n",
    "    torch.save(words_test, GENERATED_PATH + \"words_test.pt\")"
   ]
  },
  {
   "cell_type": "markdown",
   "id": "e3d6615cee6d135c",
   "metadata": {
    "collapsed": false
   },
   "source": [
    "2. Define a vocabulary based on the training dataset. To avoid getting a too large vocabulary, a solution can be to keep only words that appear at least 100 times in the training dataset. Report the total number of words in the training dataset, the number of distinct words in the training dataset, and the size of the defined vocabulary. Comment on your results."
   ]
  },
  {
   "cell_type": "code",
   "execution_count": 6,
   "id": "79cd1cab7154c135",
   "metadata": {
    "collapsed": false,
    "ExecuteTime": {
     "end_time": "2024-04-26T12:30:36.123176Z",
     "start_time": "2024-04-26T12:30:36.117406Z"
    }
   },
   "outputs": [],
   "source": [
    "MIN_FREQ = 100\n",
    "\n",
    "\n",
    "def create_vocabulary(lines, min_freq=MIN_FREQ):\n",
    "    # Building vocabulary from an iterator of tokenized lines, filtering out infrequent tokens\n",
    "    vocab = build_vocab_from_iterator(yield_tokens(lines), min_freq=min_freq,\n",
    "                                      specials=[\"<unk>\", ',', '.', '(', ')', '?', '!'])\n",
    "    # Appending token \"I\", since we removed all words with an uppercase when building the vocabulary\n",
    "    vocab.append_token(\"i\")\n",
    "    # Setting default index for unknown words\n",
    "    vocab.set_default_index(vocab[\"<unk>\"])\n",
    "    return vocab"
   ]
  },
  {
   "cell_type": "code",
   "execution_count": 7,
   "id": "cf7baee7fcace153",
   "metadata": {
    "collapsed": false,
    "ExecuteTime": {
     "end_time": "2024-04-26T12:30:36.133591Z",
     "start_time": "2024-04-26T12:30:36.120044Z"
    }
   },
   "outputs": [],
   "source": [
    "VOCAB_FILENAME = \"vocabulary.pt\"\n",
    "\n",
    "# Check if the vocabulary file already exists in the generated path\n",
    "if os.path.isfile(GENERATED_PATH + VOCAB_FILENAME):\n",
    "    # Load the vocabulary from a file if it already exists\n",
    "    vocab = torch.load(GENERATED_PATH + VOCAB_FILENAME)\n",
    "else:\n",
    "    # If the vocabulary file does not exist, create a new vocabulary from training data\n",
    "    vocab = create_vocabulary(lines_books_train, min_freq=MIN_FREQ)\n",
    "    # Save the newly created vocabulary to a file\n",
    "    torch.save(vocab, GENERATED_PATH + VOCAB_FILENAME)\n",
    "\n",
    "VOCAB_SIZE = len(vocab)"
   ]
  },
  {
   "cell_type": "code",
   "execution_count": 8,
   "id": "9f174be539d0b11b",
   "metadata": {
    "collapsed": false,
    "ExecuteTime": {
     "end_time": "2024-04-26T12:30:36.322191Z",
     "start_time": "2024-04-26T12:30:36.319438Z"
    }
   },
   "outputs": [
    {
     "name": "stdout",
     "output_type": "stream",
     "text": [
      "Total number of words in the training dataset: 2,684,706\n",
      "Total number of words in the validation dataset: 49,526\n",
      "Total number of words in the test dataset: 124,152\n",
      "\n",
      "Number of distinct words in the training dataset: 52,105\n",
      "Number of distinct words in the validation dataset: 5,778\n",
      "Number of distinct words in the test dataset: 9,585\n",
      "\n",
      "Size of the defined vocabulary: 1,880\n"
     ]
    }
   ],
   "source": [
    "print(f\"Total number of words in the training dataset: {len(words_train):,}\")\n",
    "print(f\"Total number of words in the validation dataset: {len(words_val):,}\")\n",
    "print(f\"Total number of words in the test dataset: {len(words_test):,}\", end=\"\\n\\n\")\n",
    "\n",
    "print(f\"Number of distinct words in the training dataset: {len(set(words_train)):,}\")\n",
    "print(f\"Number of distinct words in the validation dataset: {len(set(words_val)):,}\")\n",
    "print(f\"Number of distinct words in the test dataset: {len(set(words_test)):,}\", end=\"\\n\\n\")\n",
    "\n",
    "print(f\"Size of the defined vocabulary: {VOCAB_SIZE:,}\")"
   ]
  },
  {
   "cell_type": "code",
   "execution_count": 9,
   "id": "b4c4165ae11f6e10",
   "metadata": {
    "collapsed": false,
    "ExecuteTime": {
     "end_time": "2024-04-26T12:30:36.398120Z",
     "start_time": "2024-04-26T12:30:36.392590Z"
    }
   },
   "outputs": [],
   "source": [
    "def count_occurrences(words, vocab):\n",
    "    occurrences = torch.zeros(len(vocab), dtype=torch.int)\n",
    "    for w in words:\n",
    "        occurrences[vocab[w]] += 1\n",
    "    return occurrences"
   ]
  },
  {
   "cell_type": "code",
   "execution_count": 10,
   "id": "1e516a890cd3ce97",
   "metadata": {
    "collapsed": false,
    "ExecuteTime": {
     "end_time": "2024-04-26T12:30:45.302053Z",
     "start_time": "2024-04-26T12:30:36.547883Z"
    }
   },
   "outputs": [],
   "source": [
    "word_counts_df = pd.DataFrame({\n",
    "    \"Word\": vocab.lookup_tokens(range(len(vocab))),\n",
    "    \"Occurrences\": count_occurrences(words_train, vocab).numpy()\n",
    "})\n",
    "\n",
    "sorted_word_counts = word_counts_df.sort_values(by=\"Occurrences\", ascending=False).reset_index(drop=True)\n",
    "sorted_word_counts.index = sorted_word_counts.index + 1"
   ]
  },
  {
   "cell_type": "code",
   "execution_count": 11,
   "id": "2aa1dbc37499968d",
   "metadata": {
    "collapsed": false,
    "ExecuteTime": {
     "end_time": "2024-04-26T12:30:45.309906Z",
     "start_time": "2024-04-26T12:30:45.303684Z"
    }
   },
   "outputs": [
    {
     "data": {
      "text/plain": "                Word  Occurrences\n1              <unk>       433907\n2                  ,       182537\n3                the       151278\n4                  .       123727\n5                and        82289\n...              ...          ...\n1876          pistol          100\n1877         slipped          100\n1878  station-master          100\n1879          wounds          100\n1880           agree          100\n\n[1880 rows x 2 columns]",
      "text/html": "<div>\n<style scoped>\n    .dataframe tbody tr th:only-of-type {\n        vertical-align: middle;\n    }\n\n    .dataframe tbody tr th {\n        vertical-align: top;\n    }\n\n    .dataframe thead th {\n        text-align: right;\n    }\n</style>\n<table border=\"1\" class=\"dataframe\">\n  <thead>\n    <tr style=\"text-align: right;\">\n      <th></th>\n      <th>Word</th>\n      <th>Occurrences</th>\n    </tr>\n  </thead>\n  <tbody>\n    <tr>\n      <th>1</th>\n      <td>&lt;unk&gt;</td>\n      <td>433907</td>\n    </tr>\n    <tr>\n      <th>2</th>\n      <td>,</td>\n      <td>182537</td>\n    </tr>\n    <tr>\n      <th>3</th>\n      <td>the</td>\n      <td>151278</td>\n    </tr>\n    <tr>\n      <th>4</th>\n      <td>.</td>\n      <td>123727</td>\n    </tr>\n    <tr>\n      <th>5</th>\n      <td>and</td>\n      <td>82289</td>\n    </tr>\n    <tr>\n      <th>...</th>\n      <td>...</td>\n      <td>...</td>\n    </tr>\n    <tr>\n      <th>1876</th>\n      <td>pistol</td>\n      <td>100</td>\n    </tr>\n    <tr>\n      <th>1877</th>\n      <td>slipped</td>\n      <td>100</td>\n    </tr>\n    <tr>\n      <th>1878</th>\n      <td>station-master</td>\n      <td>100</td>\n    </tr>\n    <tr>\n      <th>1879</th>\n      <td>wounds</td>\n      <td>100</td>\n    </tr>\n    <tr>\n      <th>1880</th>\n      <td>agree</td>\n      <td>100</td>\n    </tr>\n  </tbody>\n</table>\n<p>1880 rows × 2 columns</p>\n</div>"
     },
     "execution_count": 11,
     "metadata": {},
     "output_type": "execute_result"
    }
   ],
   "source": [
    "sorted_word_counts"
   ]
  },
  {
   "cell_type": "code",
   "execution_count": 12,
   "id": "1121f0251a057029",
   "metadata": {
    "collapsed": false,
    "ExecuteTime": {
     "end_time": "2024-04-26T12:30:45.312952Z",
     "start_time": "2024-04-26T12:30:45.310854Z"
    }
   },
   "outputs": [],
   "source": [
    "CONTEXT_SIZE = 3  # Number of words considered before and after the target word\n",
    "\n",
    "\n",
    "def create_context_target_dataset(text, vocab, context_size=CONTEXT_SIZE):\n",
    "    contexts = []\n",
    "    targets = []\n",
    "\n",
    "    for i in range(context_size, len(text) - context_size):\n",
    "        target = text[i]\n",
    "        target_idx = vocab[target]\n",
    "\n",
    "        context = [vocab[text[j]] for j in range(i - context_size, i + context_size + 1) if j != i]\n",
    "\n",
    "        targets.append(target_idx)\n",
    "        contexts.append(torch.tensor(context))\n",
    "\n",
    "    return TensorDataset(torch.stack(contexts), torch.tensor(targets))\n",
    "\n",
    "# def create_context_target_dataset(text, vocab, context_size=CONTEXT_SIZE, max_occurrences=None):\n",
    "#     target_counts = {}\n",
    "#     contexts = []\n",
    "#     targets = []\n",
    "# \n",
    "#     # Loop over the words list with enough space to form the context window\n",
    "#     for i in range(context_size, len(text) - context_size):\n",
    "#         target_word = text[i]\n",
    "# \n",
    "#         # Skip if the target word is punctuation\n",
    "#         if target_word in [',', '.', '(', ')', '?', '!']:\n",
    "#             continue\n",
    "# \n",
    "#         # Convert the word to its vocabulary index, skip if not in vocabulary\n",
    "#         target_idx = vocab.get_stoi().get(target_word, None)\n",
    "#         if target_idx is None:\n",
    "#             continue\n",
    "# \n",
    "#         # Limit occurrences of each word\n",
    "#         if max_occurrences is not None:\n",
    "#             if target_word in target_counts and target_counts[target_word] >= max_occurrences:\n",
    "#                 continue\n",
    "#             target_counts[target_word] = target_counts.get(target_word, 0) + 1\n",
    "# \n",
    "#         # Extract the context words: context_size words before and context_size words after the target word\n",
    "#         context = [vocab[text[j]] for j in range(i - context_size, i + context_size + 1) if j != i]\n",
    "#         contexts.append(torch.tensor(context))\n",
    "#         targets.append(target_idx)\n",
    "# \n",
    "#     return TensorDataset(torch.stack(contexts), torch.tensor(targets, dtype=torch.long))"
   ]
  },
  {
   "cell_type": "code",
   "execution_count": 13,
   "id": "ec1c029e087bb33a",
   "metadata": {
    "collapsed": false,
    "ExecuteTime": {
     "end_time": "2024-04-26T12:30:45.375522Z",
     "start_time": "2024-04-26T12:30:45.314333Z"
    }
   },
   "outputs": [],
   "source": [
    "def load_dataset(words, vocab, filename, generated_path=GENERATED_PATH):\n",
    "    full_path = os.path.join(generated_path, filename)\n",
    "    if os.path.isfile(full_path):\n",
    "        return torch.load(full_path)\n",
    "    else:\n",
    "        dataset = create_context_target_dataset(words, vocab)\n",
    "        torch.save(dataset, full_path)\n",
    "        return dataset\n",
    "\n",
    "\n",
    "data_train = load_dataset(words_train, vocab, \"data_train.pt\")\n",
    "data_val = load_dataset(words_val, vocab, \"data_val.pt\")\n",
    "data_test = load_dataset(words_test, vocab, \"data_test.pt\")"
   ]
  },
  {
   "cell_type": "code",
   "execution_count": 14,
   "id": "32c46f4667cd0cd7",
   "metadata": {
    "collapsed": false,
    "ExecuteTime": {
     "end_time": "2024-04-26T12:30:45.375698Z",
     "start_time": "2024-04-26T12:30:45.351318Z"
    }
   },
   "outputs": [
    {
     "name": "stdout",
     "output_type": "stream",
     "text": [
      "Training dataset size: 2,684,700\n",
      "Validation dataset size: 49,520\n",
      "Test dataset size: 124,146\n"
     ]
    }
   ],
   "source": [
    "print(f\"Training dataset size: {len(data_train):,}\")\n",
    "print(f\"Validation dataset size: {len(data_val):,}\")\n",
    "print(f\"Test dataset size: {len(data_test):,}\")"
   ]
  },
  {
   "cell_type": "code",
   "execution_count": 15,
   "id": "ec3168a690e0a5ca",
   "metadata": {
    "collapsed": false,
    "ExecuteTime": {
     "end_time": "2024-04-26T12:30:45.375730Z",
     "start_time": "2024-04-26T12:30:45.354035Z"
    }
   },
   "outputs": [],
   "source": [
    "BATCH_SIZE = 128\n",
    "\n",
    "train_loader = DataLoader(data_train, batch_size=BATCH_SIZE, shuffle=True)\n",
    "val_loader = DataLoader(data_val, batch_size=BATCH_SIZE, shuffle=True)\n",
    "test_loader = DataLoader(data_test, batch_size=BATCH_SIZE, shuffle=True)"
   ]
  },
  {
   "cell_type": "markdown",
   "id": "63eaf39159ad4b4c",
   "metadata": {
    "collapsed": false
   },
   "source": [
    "3. Define a continuous bag of words model architecture based on this vocabulary that contains an embedding layer. To drastically reduce the computational cost, the dimension of the embedding `emb_dim` can be very low such as 16, 12, or even 10. Of course, in a real setting, a larger space would be used. You are not allowed to use `nn.LazyLinear` in this project."
   ]
  },
  {
   "cell_type": "markdown",
   "id": "2a7291fb9d6248cd",
   "metadata": {
    "collapsed": false
   },
   "source": [
    "https://pytorch.org/tutorials/beginner/nlp/word_embeddings_tutorial.html"
   ]
  },
  {
   "cell_type": "code",
   "execution_count": 16,
   "id": "9a2231208b9d8d5f",
   "metadata": {
    "collapsed": false,
    "ExecuteTime": {
     "end_time": "2024-04-26T12:30:45.375763Z",
     "start_time": "2024-04-26T12:30:45.356508Z"
    }
   },
   "outputs": [],
   "source": [
    "class CBOW(nn.Module):\n",
    "    def __init__(self, vocab_size, emb_dim, hidden_dim):\n",
    "        super(CBOW, self).__init__()\n",
    "        self.embedding = nn.Embedding(vocab_size, emb_dim)\n",
    "        self.lin1 = nn.Linear(emb_dim, hidden_dim)\n",
    "        self.relu = nn.ReLU()\n",
    "        self.lin2 = nn.Linear(hidden_dim, vocab_size)\n",
    "\n",
    "    def forward(self, x):\n",
    "        out = self.embedding(x).sum(dim=1)\n",
    "        out = self.lin1(out)\n",
    "        out = self.relu(out)\n",
    "        out = self.lin2(out)\n",
    "        out = F.log_softmax(out, dim=1)\n",
    "        return out"
   ]
  },
  {
   "cell_type": "code",
   "execution_count": 17,
   "id": "301f3f01ab9ba8c3",
   "metadata": {
    "collapsed": false,
    "ExecuteTime": {
     "end_time": "2024-04-26T12:30:45.375811Z",
     "start_time": "2024-04-26T12:30:45.360249Z"
    }
   },
   "outputs": [],
   "source": [
    "def train_model(model, train_loader, optimizer, loss_fn, epochs=20):\n",
    "    training_losses = []\n",
    "\n",
    "    for epoch in range(1, epochs + 1):\n",
    "        model.train()\n",
    "        train_loss = 0\n",
    "        for contexts, targets in train_loader:\n",
    "            contexts, targets = contexts.to(device), targets.to(device)\n",
    "            optimizer.zero_grad()\n",
    "            outputs = model(contexts)\n",
    "            loss = loss_fn(outputs, targets)\n",
    "            loss.backward()\n",
    "            optimizer.step()\n",
    "            train_loss += loss.item()\n",
    "        avg_train_loss = train_loss / len(train_loader)\n",
    "        training_losses.append(avg_train_loss)\n",
    "\n",
    "        timestamp = datetime.now().strftime('%H:%M:%S.%f')\n",
    "        print(f\"\\r{timestamp} | Epoch {epoch} | Training Loss: {avg_train_loss:.5f}\", end=\"\")\n",
    "\n",
    "    return training_losses"
   ]
  },
  {
   "cell_type": "code",
   "execution_count": 18,
   "id": "d2aee5e15b33d61d",
   "metadata": {
    "collapsed": false,
    "ExecuteTime": {
     "end_time": "2024-04-26T12:30:45.375843Z",
     "start_time": "2024-04-26T12:30:45.362630Z"
    }
   },
   "outputs": [],
   "source": [
    "def calculate_weights(data, num_classes):\n",
    "    # Initialize counts with zeros for each possible word index\n",
    "    counts = torch.zeros(num_classes, dtype=torch.int)\n",
    "\n",
    "    # Count occurrences of each word in the dataset\n",
    "    for word in data:\n",
    "        word_idx = vocab[word]\n",
    "        counts[word_idx] += 1\n",
    "\n",
    "    # Total number of samples\n",
    "    total_samples = counts.sum()\n",
    "\n",
    "    # Weights for each class\n",
    "    weights = total_samples / (counts * VOCAB_SIZE)\n",
    "\n",
    "    # Replace inf/NaN with zero (in case some classes do not appear in the counts)\n",
    "    weights[torch.isinf(weights) | torch.isnan(weights)] = 0\n",
    "\n",
    "    # Normalize weights so that their maximum is 1\n",
    "    weights = weights / weights.max()\n",
    "\n",
    "    return weights.to(device)"
   ]
  },
  {
   "cell_type": "code",
   "execution_count": 19,
   "id": "2c1f1e7f0bdb68e8",
   "metadata": {
    "collapsed": false,
    "ExecuteTime": {
     "end_time": "2024-04-26T12:30:54.007106Z",
     "start_time": "2024-04-26T12:30:45.365918Z"
    }
   },
   "outputs": [],
   "source": [
    "class_weights = calculate_weights(words_train, num_classes=VOCAB_SIZE)"
   ]
  },
  {
   "cell_type": "code",
   "execution_count": 69,
   "outputs": [],
   "source": [
    "def ensure_directory_exists(folder):\n",
    "    \"\"\"Creates the directory if it does not exist.\"\"\"\n",
    "    os.makedirs(folder, exist_ok=True)"
   ],
   "metadata": {
    "collapsed": false,
    "ExecuteTime": {
     "end_time": "2024-04-26T15:19:39.877005Z",
     "start_time": "2024-04-26T15:19:39.861188Z"
    }
   },
   "id": "94adb04abbfef674"
  },
  {
   "cell_type": "code",
   "execution_count": 20,
   "id": "2aa57128dac9bd7b",
   "metadata": {
    "collapsed": false,
    "ExecuteTime": {
     "end_time": "2024-04-26T12:30:54.009353Z",
     "start_time": "2024-04-26T12:30:54.007265Z"
    }
   },
   "outputs": [],
   "source": [
    "def save_losses(train_losses, model_name, folder=\"losses\"):\n",
    "    ensure_directory_exists(folder)\n",
    "    filepath = os.path.join(folder, f\"{model_name}_losses.csv\")\n",
    "    df = pd.DataFrame({\n",
    "        \"train_loss\": train_losses\n",
    "    })\n",
    "    df.to_csv(filepath, index=False)"
   ]
  },
  {
   "cell_type": "code",
   "execution_count": 21,
   "id": "a3ea4eb82686c07c",
   "metadata": {
    "collapsed": false,
    "ExecuteTime": {
     "end_time": "2024-04-26T12:30:54.016140Z",
     "start_time": "2024-04-26T12:30:54.009561Z"
    }
   },
   "outputs": [],
   "source": [
    "def load_losses(model_name, folder=\"losses\"):\n",
    "    filepath = os.path.join(folder, f\"{model_name}_losses.csv\")\n",
    "    df = pd.read_csv(filepath)\n",
    "    return df['train_loss'].tolist()"
   ]
  },
  {
   "cell_type": "code",
   "execution_count": 22,
   "id": "758c2a6da3ca3de9",
   "metadata": {
    "collapsed": false,
    "ExecuteTime": {
     "end_time": "2024-04-26T12:30:54.016272Z",
     "start_time": "2024-04-26T12:30:54.011851Z"
    }
   },
   "outputs": [],
   "source": [
    "def save_model(model, model_name, folder=\"models\"):\n",
    "    filepath = os.path.join(folder, f\"{model_name}.pth\")\n",
    "    torch.save(model.state_dict(), filepath)"
   ]
  },
  {
   "cell_type": "code",
   "execution_count": 23,
   "id": "3386be4c347be17c",
   "metadata": {
    "collapsed": false,
    "ExecuteTime": {
     "end_time": "2024-04-26T12:30:54.016306Z",
     "start_time": "2024-04-26T12:30:54.013746Z"
    }
   },
   "outputs": [],
   "source": [
    "def load_model(model, model_name, folder=\"models\"):\n",
    "    ensure_directory_exists(folder)\n",
    "    filepath = os.path.join(folder, f\"{model_name}.pth\")\n",
    "    model.load_state_dict(torch.load(filepath, map_location=device))\n",
    "    model.to(device)\n",
    "    return model"
   ]
  },
  {
   "cell_type": "code",
   "execution_count": 50,
   "outputs": [],
   "source": [
    "configurations = [\n",
    "    # {'emb_dim': 10, 'hidden_dim': 64, 'learning_rate': 1e-3, 'model_name': 'cbow_model_emb10_hidden64_lr1e-3'},\n",
    "    # {'emb_dim': 16, 'hidden_dim': 64, 'learning_rate': 1e-4, 'model_name': 'cbow_model_emb16_hidden64_lr1e-4'},\n",
    "    # {'emb_dim': 10, 'hidden_dim': 128, 'learning_rate': 1e-4, 'model_name': 'cbow_model_emb10_hidden128_lr1e-4'},\n",
    "    # {'emb_dim': 20, 'hidden_dim': 128, 'learning_rate': 1e-5, 'model_name': 'cbow_model_emb20_hidden128_lr1e-5'},\n",
    "    # {'emb_dim': 64, 'hidden_dim': 128, 'learning_rate': 1e-5, 'model_name': 'cbow_model_emb64_hidden128_lr1e-5'},\n",
    "    # {'emb_dim': 84, 'hidden_dim': 128, 'learning_rate': 1e-5, 'model_name': 'cbow_model_emb84_hidden128_lr1e-5'},\n",
    "    # {'emb_dim': 64, 'hidden_dim': 256, 'learning_rate': 1e-4, 'model_name': 'cbow_model_emb64_hidden256_lr1e-4'},\n",
    "    # {'emb_dim': 128, 'hidden_dim': 128, 'learning_rate': 1e-4, 'model_name': 'cbow_model_emb128_hidden128_lr1e-4'}\n",
    "    {'emb_dim': 64, 'hidden_dim': 128, 'learning_rate': 1e-3, 'model_name': 'cbow_model_emb64_hidden128_lr1e-3'}\n",
    "]"
   ],
   "metadata": {
    "collapsed": false,
    "ExecuteTime": {
     "end_time": "2024-04-26T14:28:54.047419Z",
     "start_time": "2024-04-26T14:28:54.030567Z"
    }
   },
   "id": "deee06aa6ca0c7da"
  },
  {
   "cell_type": "code",
   "execution_count": 51,
   "outputs": [
    {
     "name": "stdout",
     "output_type": "stream",
     "text": [
      "Training cbow_model_emb64_hidden128_lr1e-3...\n",
      "17:11:59.051784 | Epoch 20 | Training Loss: 4.02004"
     ]
    }
   ],
   "source": [
    "for config in configurations:\n",
    "    model = CBOW(vocab_size=VOCAB_SIZE, emb_dim=config['emb_dim'], hidden_dim=config['hidden_dim']).to(device)\n",
    "    optimizer = optim.Adam(model.parameters(), lr=config['learning_rate'])\n",
    "    loss_fn = nn.NLLLoss()\n",
    "\n",
    "    print(f\"Training {config['model_name']}...\")\n",
    "    model_losses = train_model(model, train_loader, optimizer, loss_fn, epochs=20)\n",
    "\n",
    "    save_model(model, config['model_name'])\n",
    "    save_losses(model_losses, config['model_name'])"
   ],
   "metadata": {
    "collapsed": false,
    "ExecuteTime": {
     "end_time": "2024-04-26T15:11:59.061843Z",
     "start_time": "2024-04-26T14:28:54.316956Z"
    }
   },
   "id": "e923602473864b08"
  },
  {
   "cell_type": "code",
   "execution_count": 52,
   "outputs": [],
   "source": [
    "def plot_losses(model_names):\n",
    "    cmap = plt.get_cmap(\"Paired\")\n",
    "\n",
    "    for i, model_name in enumerate(model_names):\n",
    "        losses = load_losses(model_name)\n",
    "        plt.plot(losses, label=model_name, color=cmap(i))\n",
    "\n",
    "    plt.title(\"Model Losses During Training\")\n",
    "    plt.xlabel(\"Epochs\")\n",
    "    plt.ylabel(\"Training Loss\")\n",
    "    plt.legend(loc='center left', bbox_to_anchor=(1, 0.5), title=\"Model Names\")\n",
    "    plt.grid(color='silver', linestyle='--', linewidth=0.5)\n",
    "    plt.show()"
   ],
   "metadata": {
    "collapsed": false,
    "ExecuteTime": {
     "end_time": "2024-04-26T15:14:18.899893Z",
     "start_time": "2024-04-26T15:14:18.887777Z"
    }
   },
   "id": "508ddf1503b6fa10"
  },
  {
   "cell_type": "code",
   "execution_count": 53,
   "outputs": [
    {
     "data": {
      "text/plain": "<Figure size 640x480 with 1 Axes>",
      "image/png": "[encoded data removed]"
     },
     "metadata": {},
     "output_type": "display_data"
    }
   ],
   "source": [
    "plot_losses([config['model_name'] for config in configurations])"
   ],
   "metadata": {
    "collapsed": false,
    "ExecuteTime": {
     "end_time": "2024-04-26T15:14:19.340195Z",
     "start_time": "2024-04-26T15:14:19.254633Z"
    }
   },
   "id": "450ca9e7a13b1c99"
  },
  {
   "cell_type": "markdown",
   "id": "7fb1dc9393049b56",
   "metadata": {
    "collapsed": false
   },
   "source": [
    "4. Train several models, select the best one, and evaluate its performance. Note that the performance here is potentially extremely low, but the real objective is not to train a good predictor, only to have a good representation of the semantics of each word in the vocabulary."
   ]
  },
  {
   "cell_type": "code",
   "execution_count": 200,
   "id": "1202182fa734da97",
   "metadata": {
    "collapsed": false,
    "ExecuteTime": {
     "end_time": "2024-04-26T16:29:26.213956Z",
     "start_time": "2024-04-26T16:29:26.174243Z"
    }
   },
   "outputs": [],
   "source": [
    "def accuracy(model, data_loader):\n",
    "    model.eval()\n",
    "    correct = 0\n",
    "    total = 0\n",
    "    with torch.no_grad():\n",
    "        for contexts, targets in data_loader:\n",
    "            contexts, targets = contexts.to(device), targets.to(device)\n",
    "            outputs = model(contexts)\n",
    "            _, predicted = torch.max(outputs.data, 1)\n",
    "            total += targets.size(0)\n",
    "            correct += (predicted == targets).sum().item()\n",
    "    return correct / total"
   ]
  },
  {
   "cell_type": "code",
   "execution_count": 55,
   "outputs": [
    {
     "name": "stdout",
     "output_type": "stream",
     "text": [
      "Evaluating configurations...\n",
      "--------------------------------------------------------------------------------\n",
      "Model Configuration                      | Validation Accuracy                     \n",
      "--------------------------------------------------------------------------------\n",
      "cbow_model_emb64_hidden128_lr1e-3        | 22.10%                                  \n",
      "--------------------------------------------------------------------------------\n",
      "Validation Accuracy of the best model (cbow_model_emb64_hidden128_lr1e-3): 22.10%\n"
     ]
    }
   ],
   "source": [
    "def load_and_evaluate_models(configurations, val_loader):\n",
    "    best_model = None\n",
    "    best_model_name = \"\"\n",
    "    best_accuracy = 0\n",
    "\n",
    "    print(\"Evaluating configurations...\")\n",
    "    print(\"-\" * 80)\n",
    "    print(\"{:<40} | {:<40}\".format(\"Model Configuration\", \"Validation Accuracy\"))\n",
    "    print(\"-\" * 80)\n",
    "\n",
    "    for config in configurations:\n",
    "        model = CBOW(vocab_size=VOCAB_SIZE, emb_dim=config['emb_dim'], hidden_dim=config['hidden_dim']).to(device)\n",
    "        model = load_model(model, config['model_name'])\n",
    "\n",
    "        val_accuracy = accuracy(model, val_loader)\n",
    "        print(\"{:<40} | {:<40.2%}\".format(config['model_name'], val_accuracy))\n",
    "\n",
    "        if val_accuracy > best_accuracy:\n",
    "            best_accuracy = val_accuracy\n",
    "            best_model = model\n",
    "            best_model_name = config['model_name']\n",
    "\n",
    "    print(\"-\" * 80)\n",
    "\n",
    "    return best_model, best_model_name, best_accuracy\n",
    "\n",
    "\n",
    "best_model, best_model_name, best_val_accuracy = load_and_evaluate_models(configurations, val_loader)\n",
    "print(f\"Validation Accuracy of the best model ({best_model_name}): {best_val_accuracy:.2%}\")"
   ],
   "metadata": {
    "collapsed": false,
    "ExecuteTime": {
     "end_time": "2024-04-26T15:14:22.508070Z",
     "start_time": "2024-04-26T15:14:21.529250Z"
    }
   },
   "id": "9166f546ca1e21b2"
  },
  {
   "cell_type": "code",
   "execution_count": 56,
   "id": "c226fa8d2ba48a74",
   "metadata": {
    "collapsed": false,
    "ExecuteTime": {
     "end_time": "2024-04-26T15:14:24.484692Z",
     "start_time": "2024-04-26T15:14:22.508427Z"
    }
   },
   "outputs": [
    {
     "name": "stdout",
     "output_type": "stream",
     "text": [
      "Test Accuracy of the best model (cbow_model_emb64_hidden128_lr1e-3): 24.91%\n"
     ]
    }
   ],
   "source": [
    "test_accuracy = accuracy(best_model, test_loader)\n",
    "print(f\"Test Accuracy of the best model ({best_model_name}): {test_accuracy:.2%}\")"
   ]
  },
  {
   "cell_type": "markdown",
   "id": "82711c018e25e726",
   "metadata": {
    "collapsed": false
   },
   "source": [
    "5. Compute the cosine similarity matrix of the vocabulary based on the trained embedding. For some words of your choice (e.g. *me*, *white*, *man*, *have*, *be*, *child*, *yes*, *what* etc.), report the 10 most similar words. Comment on your results."
   ]
  },
  {
   "cell_type": "code",
   "execution_count": 57,
   "id": "532816665732979",
   "metadata": {
    "collapsed": false,
    "ExecuteTime": {
     "end_time": "2024-04-26T15:14:36.119433Z",
     "start_time": "2024-04-26T15:14:25.543908Z"
    }
   },
   "outputs": [],
   "source": [
    "best_model_embeddings = best_model.embedding.weight.detach().cpu().numpy()\n",
    "\n",
    "mat_size = len(best_model_embeddings)\n",
    "cos_sim_mat = np.zeros(shape=(mat_size, mat_size))\n",
    "\n",
    "for w1 in range(mat_size):\n",
    "    for w2 in range(mat_size):\n",
    "        cos_sim_mat[w1][w2] = np.dot(best_model_embeddings[w1], best_model_embeddings[w2]) / (\n",
    "                np.linalg.norm(best_model_embeddings[w1]) * np.linalg.norm(best_model_embeddings[w2]))"
   ]
  },
  {
   "cell_type": "code",
   "execution_count": 58,
   "id": "2fa8845918b46946",
   "metadata": {
    "collapsed": false,
    "ExecuteTime": {
     "end_time": "2024-04-26T15:14:36.128635Z",
     "start_time": "2024-04-26T15:14:36.126833Z"
    }
   },
   "outputs": [],
   "source": [
    "test_words = [\"me\", \"white\", \"man\", \"have\", \"be\", \"child\", \"yes\", \"what\"]\n",
    "test_words_idx = [vocab.get_stoi()[word] for word in test_words]"
   ]
  },
  {
   "cell_type": "code",
   "execution_count": 59,
   "id": "29062a8e17825af3",
   "metadata": {
    "collapsed": false,
    "ExecuteTime": {
     "end_time": "2024-04-26T15:14:36.137229Z",
     "start_time": "2024-04-26T15:14:36.131811Z"
    }
   },
   "outputs": [],
   "source": [
    "top_n = 10\n",
    "similar_words = {}\n",
    "\n",
    "for word, idx in zip(test_words, test_words_idx):\n",
    "    # get cosine similarities for the current word against all other words\n",
    "    similarities = cos_sim_mat[idx]\n",
    "\n",
    "    # get indices of the top 10 most similar words (excluding the word itself)\n",
    "    # argsort returns indices of sorted array, with the smallest first, so we take the last 10 items\n",
    "    most_similar_idxs = np.argsort(similarities)[-top_n - 1:-1][::-1]\n",
    "\n",
    "    # map indices back to words\n",
    "    similar_words[word] = [vocab.get_itos()[i] for i in most_similar_idxs]"
   ]
  },
  {
   "cell_type": "code",
   "execution_count": 60,
   "id": "793030b39ab25c3",
   "metadata": {
    "collapsed": false,
    "ExecuteTime": {
     "end_time": "2024-04-26T15:14:42.976037Z",
     "start_time": "2024-04-26T15:14:42.959646Z"
    }
   },
   "outputs": [
    {
     "name": "stdout",
     "output_type": "stream",
     "text": [
      "Words most similar to 'me': ['us', 'him', 'them', 'thee', 'yourself', 'myself', 'himself', 'herself', 'her', 'anyone']\n",
      "Words most similar to 'white': ['black', 'gray', 'red', 'yellow', 'double', 'delicate', 'flat', 'sharp', 'dirty', 'beard']\n",
      "Words most similar to 'man': ['woman', 'girl', 'soldier', 'stranger', 'person', 'lady', 'child', 'gentleman', 'creature', 'dog']\n",
      "Words most similar to 'have': ['ve', 'had', 'has', 'be', 'having', 'feel', 'hast', 'call', 'give', 'do']\n",
      "Words most similar to 'be': ['remain', 'grow', 'stand', 'have', 'enter', 'die', 'keep', 'happen', 'serve', 'get']\n",
      "Words most similar to 'child': ['boy', 'woman', 'doctor', 'cat', 'dog', 'maid', 'man', 'wolf', 'girl', 'stranger']\n",
      "Words most similar to 'yes': ['sir', 'indeed', 'replies', 'murmured', 'exclaimed', 'replied', 'muttered', 'then', 'mon', 'remarked']\n",
      "Words most similar to 'what': ['how', 'why', 'whatever', 'whether', 'something', 'that', 'anything', 'nothing', 'where', 'whom']\n"
     ]
    }
   ],
   "source": [
    "for word, similar in similar_words.items():\n",
    "    print(f\"Words most similar to '{word}': {similar}\")"
   ]
  },
  {
   "cell_type": "markdown",
   "id": "332fee011d91aa34",
   "metadata": {
    "collapsed": false
   },
   "source": [
    "6. Visualize the embedding space on <https://projector.tensorflow.org>. To do so, upload the vocabulary and their corresponding values in the embedding space as two tsv files. Try to find and select clusters. Report both plots (you can use screenshots) and their corresponding selections for some meaningful clusters. Comment on your results."
   ]
  },
  {
   "cell_type": "code",
   "execution_count": 70,
   "id": "cc80f0631c5b3c33",
   "metadata": {
    "collapsed": false,
    "ExecuteTime": {
     "end_time": "2024-04-26T15:19:44.297757Z",
     "start_time": "2024-04-26T15:19:44.229973Z"
    }
   },
   "outputs": [],
   "source": [
    "tf_projector_folder_path = \"tensorflow_projector\"\n",
    "ensure_directory_exists(tf_projector_folder_path)\n",
    "\n",
    "df_embeddings = pd.DataFrame(best_model_embeddings)\n",
    "df_embeddings.to_csv(\"tensorflow_projector/vectors.tsv\", sep=\"\\t\", header=False, index=False)\n",
    "\n",
    "vocab_items = vocab.get_itos()\n",
    "df_vocab = pd.DataFrame(vocab_items)\n",
    "df_vocab.to_csv(\"tensorflow_projector/metadata.tsv\", sep=\"\\t\", header=False, index=False)"
   ]
  },
  {
   "cell_type": "markdown",
   "source": [
    "## 2.2 Conjugating *be* and *have*"
   ],
   "metadata": {
    "collapsed": false
   },
   "id": "f8fde0076c50aeb4"
  },
  {
   "cell_type": "markdown",
   "source": [
    "To predict be and have conjugation, the (contexts, targets) datasets must be such that the targets are *be*, *am*, *are*, *is*, *was*, *were*, *been*, *being*, *have*, *has*, *had*, *having*. The output layer must match the number of classes to predict and the labels must be mapped from their original index in the vocabulary to integers between 0 and 11."
   ],
   "metadata": {
    "collapsed": false
   },
   "id": "a9ebc6c735681510"
  },
  {
   "cell_type": "code",
   "execution_count": 166,
   "outputs": [],
   "source": [
    "CONJUGATIONS = {target: i for i, target in enumerate([\n",
    "    \"be\", \"am\", \"are\", \"is\", \"was\", \"were\", \"been\", \"being\", \"have\", \"has\", \"had\", \"having\"\n",
    "])}\n",
    "\n",
    "\n",
    "def create_conjugation_dataset(text, vocab, context_size=CONTEXT_SIZE):\n",
    "    contexts = []\n",
    "    targets = []\n",
    "\n",
    "    for i in range(context_size, len(text) - context_size):\n",
    "        target_word = text[i]\n",
    "        if target_word in CONJUGATIONS:\n",
    "            target_idx = CONJUGATIONS[target_word]\n",
    "\n",
    "            context = [vocab[text[j]] for j in range(i - context_size, i + context_size + 1) if j != i]\n",
    "            contexts.append(torch.tensor(context))\n",
    "            targets.append(target_idx)\n",
    "\n",
    "    return TensorDataset(torch.stack(contexts), torch.tensor(targets, dtype=torch.long))"
   ],
   "metadata": {
    "collapsed": false,
    "ExecuteTime": {
     "end_time": "2024-04-26T16:10:47.491913Z",
     "start_time": "2024-04-26T16:10:47.472969Z"
    }
   },
   "id": "f9524b8f99e672a8"
  },
  {
   "cell_type": "code",
   "execution_count": 167,
   "outputs": [],
   "source": [
    "def load_conjugation_dataset(words, vocab, filename, generated_path=GENERATED_PATH):\n",
    "    full_path = os.path.join(generated_path, filename)\n",
    "    if os.path.isfile(full_path):\n",
    "        return torch.load(full_path)\n",
    "    else:\n",
    "        dataset = create_conjugation_dataset(words, vocab)\n",
    "        torch.save(dataset, full_path)\n",
    "        return dataset\n",
    "\n",
    "\n",
    "data_train_conj = load_conjugation_dataset(words_train, vocab, \"data_train_conj.pt\")\n",
    "data_val_conj = load_conjugation_dataset(words_val, vocab, \"data_val_conj.pt\")\n",
    "data_test_conj = load_conjugation_dataset(words_test, vocab, \"data_test_conj.pt\")"
   ],
   "metadata": {
    "collapsed": false,
    "ExecuteTime": {
     "end_time": "2024-04-26T16:10:49.149646Z",
     "start_time": "2024-04-26T16:10:47.902625Z"
    }
   },
   "id": "8cd224c3dcac86f0"
  },
  {
   "cell_type": "code",
   "execution_count": 168,
   "outputs": [
    {
     "name": "stdout",
     "output_type": "stream",
     "text": [
      "Conjugation training dataset size: 124,030\n",
      "Conjugation validation dataset size: 2,590\n",
      "Conjugation test dataset size: 4,765\n"
     ]
    }
   ],
   "source": [
    "print(f\"Conjugation training dataset size: {len(data_train_conj):,}\")\n",
    "print(f\"Conjugation validation dataset size: {len(data_val_conj):,}\")\n",
    "print(f\"Conjugation test dataset size: {len(data_test_conj):,}\")"
   ],
   "metadata": {
    "collapsed": false,
    "ExecuteTime": {
     "end_time": "2024-04-26T16:10:49.747042Z",
     "start_time": "2024-04-26T16:10:49.731210Z"
    }
   },
   "id": "acca146a794edb6e"
  },
  {
   "cell_type": "code",
   "execution_count": 169,
   "outputs": [],
   "source": [
    "train_loader_conj = DataLoader(data_train_conj, batch_size=BATCH_SIZE, shuffle=True)\n",
    "val_loader_conj = DataLoader(data_val_conj, batch_size=BATCH_SIZE, shuffle=False)\n",
    "test_loader_conj = DataLoader(data_test_conj, batch_size=BATCH_SIZE, shuffle=False)"
   ],
   "metadata": {
    "collapsed": false,
    "ExecuteTime": {
     "end_time": "2024-04-26T16:10:51.259368Z",
     "start_time": "2024-04-26T16:10:51.242590Z"
    }
   },
   "id": "fd6637b79c14eac7"
  },
  {
   "cell_type": "markdown",
   "source": [
    "Your trained word embedding can be integrated in your next models in different ways. For example, you can transform inputs before feeding them to your models, or have a first layer in your models with the same weight values as your trained embedding matrix, or simply define the computations between the input and the embedding matrix in the forward function. In any case, make sure that your embedding layer doesn’t get updated when training the rest of your models!"
   ],
   "metadata": {
    "collapsed": false
   },
   "id": "1eb8090d996ffb35"
  },
  {
   "cell_type": "code",
   "execution_count": 170,
   "outputs": [],
   "source": [
    "trained_embeddings = best_model.embedding.weight.data"
   ],
   "metadata": {
    "collapsed": false,
    "ExecuteTime": {
     "end_time": "2024-04-26T16:10:53.818665Z",
     "start_time": "2024-04-26T16:10:53.798770Z"
    }
   },
   "id": "b82ae387a0d62a8c"
  },
  {
   "cell_type": "code",
   "execution_count": 174,
   "outputs": [
    {
     "data": {
      "text/plain": "torch.Size([1880, 64])"
     },
     "execution_count": 174,
     "metadata": {},
     "output_type": "execute_result"
    }
   ],
   "source": [
    "trained_embeddings.shape"
   ],
   "metadata": {
    "collapsed": false,
    "ExecuteTime": {
     "end_time": "2024-04-26T16:12:57.960887Z",
     "start_time": "2024-04-26T16:12:57.939535Z"
    }
   },
   "id": "d66e8a2ace80d2d8"
  },
  {
   "cell_type": "code",
   "execution_count": 183,
   "outputs": [],
   "source": [
    "class SimpleMLP(nn.Module):\n",
    "    def __init__(self, vocab_size, embedding_dim, embedding_weights):\n",
    "        super().__init__()\n",
    "        self.embeddings = nn.Embedding(vocab_size, embedding_dim)\n",
    "        self.embeddings.load_state_dict({\"weight\": embedding_weights})\n",
    "        self.embeddings.requires_grad = False\n",
    "        self.fc1 = nn.Linear(embedding_dim, 128)\n",
    "        self.relu = nn.ReLU()\n",
    "        self.fc2 = nn.Linear(128, OUTPUT_DIM)\n",
    "\n",
    "    def forward(self, x):\n",
    "        x = self.embeddings(x)  # Embedding layer\n",
    "        x = x.mean(dim=1)  # Average the embeddings of the context words\n",
    "\n",
    "        x = self.fc1(x)\n",
    "        x = self.relu(x)\n",
    "        x = self.fc2(x)\n",
    "        return F.log_softmax(x, dim=1)"
   ],
   "metadata": {
    "collapsed": false,
    "ExecuteTime": {
     "end_time": "2024-04-26T16:16:02.963211Z",
     "start_time": "2024-04-26T16:16:02.945544Z"
    }
   },
   "id": "657475bb33da0aa5"
  },
  {
   "cell_type": "code",
   "execution_count": 184,
   "outputs": [],
   "source": [
    "OUTPUT_DIM = len(CONJUGATIONS)"
   ],
   "metadata": {
    "collapsed": false,
    "ExecuteTime": {
     "end_time": "2024-04-26T16:16:03.201123Z",
     "start_time": "2024-04-26T16:16:03.192347Z"
    }
   },
   "id": "8932751e5b7fa346"
  },
  {
   "cell_type": "code",
   "execution_count": 185,
   "outputs": [],
   "source": [
    "# class_weights_conj = calculate_weights(data_train_conj, num_classes=OUTPUT_DIM)"
   ],
   "metadata": {
    "collapsed": false,
    "ExecuteTime": {
     "end_time": "2024-04-26T16:16:03.540611Z",
     "start_time": "2024-04-26T16:16:03.531608Z"
    }
   },
   "id": "b29eb9cc134c165b"
  },
  {
   "cell_type": "code",
   "execution_count": 186,
   "outputs": [
    {
     "name": "stdout",
     "output_type": "stream",
     "text": [
      "18:16:45.106538 | Epoch 20 | Training Loss: 1.16658"
     ]
    }
   ],
   "source": [
    "SimpleMLP_model = SimpleMLP(VOCAB_SIZE, embedding_dim=64, embedding_weights=trained_embeddings).to(device)\n",
    "optimizer = optim.Adam(SimpleMLP_model.parameters(), lr=1e-4)\n",
    "loss_fn = nn.NLLLoss()\n",
    "\n",
    "SimpleMLP_losses = train_model(SimpleMLP_model, train_loader_conj, optimizer, loss_fn, epochs=20)"
   ],
   "metadata": {
    "collapsed": false,
    "ExecuteTime": {
     "end_time": "2024-04-26T16:16:45.110151Z",
     "start_time": "2024-04-26T16:16:03.983902Z"
    }
   },
   "id": "af7ac63c7cfdb3a2"
  },
  {
   "cell_type": "code",
   "execution_count": 201,
   "outputs": [
    {
     "name": "stdout",
     "output_type": "stream",
     "text": [
      "SimpleMLP Validation Accuracy: 55.83%\n"
     ]
    }
   ],
   "source": [
    "SimpleMLP_val_accuracy = accuracy(SimpleMLP_model, val_loader_conj)\n",
    "print(f'SimpleMLP Validation Accuracy: {SimpleMLP_val_accuracy * 100:.2f}%')"
   ],
   "metadata": {
    "collapsed": false,
    "ExecuteTime": {
     "end_time": "2024-04-26T16:29:30.190316Z",
     "start_time": "2024-04-26T16:29:30.165586Z"
    }
   },
   "id": "297dca379b930be6"
  },
  {
   "cell_type": "code",
   "execution_count": 188,
   "outputs": [
    {
     "data": {
      "text/plain": "<Figure size 640x480 with 1 Axes>",
      "image/png": "[encoded data removed]"
     },
     "metadata": {},
     "output_type": "display_data"
    }
   ],
   "source": [
    "plt.plot(SimpleMLP_losses)\n",
    "plt.show()"
   ],
   "metadata": {
    "collapsed": false,
    "ExecuteTime": {
     "end_time": "2024-04-26T16:17:03.528744Z",
     "start_time": "2024-04-26T16:17:03.468821Z"
    }
   },
   "id": "55315c3dd66e24a"
  },
  {
   "cell_type": "code",
   "execution_count": null,
   "outputs": [],
   "source": [],
   "metadata": {
    "collapsed": false
   },
   "id": "1c6aa8256c8d9a3b"
  }
 ],
 "metadata": {
  "kernelspec": {
   "display_name": "Python 3",
   "language": "python",
   "name": "python3"
  },
  "language_info": {
   "codemirror_mode": {
    "name": "ipython",
    "version": 3
   },
   "file_extension": ".py",
   "mimetype": "text/x-python",
   "name": "python",
   "nbconvert_exporter": "python",
   "pygments_lexer": "ipython3",
   "version": "3.11.7"
  }
 },
 "nbformat": 4,
 "nbformat_minor": 5
}
