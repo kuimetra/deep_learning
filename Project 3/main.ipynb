{
 "cells": [
  {
   "cell_type": "code",
   "execution_count": 44,
   "outputs": [],
   "source": [
    "from torchtext.data.utils import get_tokenizer\n",
    "from torchtext.vocab import build_vocab_from_iterator\n",
    "from torch.utils.data import DataLoader, TensorDataset\n",
    "import torch.nn.functional as F\n",
    "import torch.optim as optim\n",
    "import torch.nn as nn\n",
    "from datetime import datetime\n",
    "import pandas as pd\n",
    "import numpy as np\n",
    "import torch\n",
    "import csv\n",
    "import os\n",
    "import re"
   ],
   "metadata": {
    "collapsed": false,
    "ExecuteTime": {
     "end_time": "2024-04-18T08:02:17.310102Z",
     "start_time": "2024-04-18T08:02:17.304675Z"
    }
   },
   "id": "dc3749b76e893bd4"
  },
  {
   "cell_type": "code",
   "execution_count": 45,
   "outputs": [],
   "source": [
    "torch.manual_seed(256)\n",
    "torch.cuda.manual_seed(256)\n",
    "np.random.seed(256)"
   ],
   "metadata": {
    "collapsed": false,
    "ExecuteTime": {
     "end_time": "2024-04-18T08:02:19.324224Z",
     "start_time": "2024-04-18T08:02:19.316209Z"
    }
   },
   "id": "7b216aac8fa49f71"
  },
  {
   "cell_type": "code",
   "execution_count": 3,
   "outputs": [
    {
     "name": "stdout",
     "output_type": "stream",
     "text": [
      "Using cpu device.\n"
     ]
    }
   ],
   "source": [
    "device = torch.device(\"cuda\" if torch.cuda.is_available() else \"cpu\")\n",
    "print(f\"Using {device} device.\")"
   ],
   "metadata": {
    "collapsed": false,
    "ExecuteTime": {
     "end_time": "2024-04-17T20:20:45.996196Z",
     "start_time": "2024-04-17T20:20:45.993555Z"
    }
   },
   "id": "8ebf58a160f821f6"
  },
  {
   "cell_type": "markdown",
   "source": [
    "## 2.1 Word embedding"
   ],
   "metadata": {
    "collapsed": false
   },
   "id": "56f18624e811dc2d"
  },
  {
   "cell_type": "markdown",
   "source": [
    "1. Read txt files and tokenize them to obtain train/validation/test lists of words."
   ],
   "metadata": {
    "collapsed": false
   },
   "id": "ecdeb62e62883d05"
  },
  {
   "cell_type": "code",
   "execution_count": 4,
   "outputs": [],
   "source": [
    "TOKENIZER = get_tokenizer(\"basic_english\")\n",
    "\n",
    "\n",
    "def read_txt_files(datapath):\n",
    "    files = os.listdir(datapath)\n",
    "    files = [datapath + f for f in files if f.endswith(\".txt\")]\n",
    "\n",
    "    lines = []\n",
    "    for f_name in files:\n",
    "        with open(f_name) as f:\n",
    "            lines += f.readlines()\n",
    "    return lines\n",
    "\n",
    "\n",
    "def tokenize(lines, tokenizer=TOKENIZER):\n",
    "    list_text = []\n",
    "    for line in lines:\n",
    "        list_text += tokenizer(line)\n",
    "    return list_text\n",
    "\n",
    "\n",
    "def yield_tokens(lines, tokenizer=TOKENIZER):\n",
    "    no_digits = \"\\w*[0-9]+\\w*\"  # Regex to match words containing numbers\n",
    "    no_names = \"\\w*[A-Z]+\\w*\"  # Regex to match words with capital letters (names)\n",
    "    no_spaces = \"\\s+\"  # Regex to match sequences of whitespace\n",
    "\n",
    "    # Processing each line to remove digits, names, and extra spaces\n",
    "    for line in lines:\n",
    "        line = re.sub(no_digits, \" \", line)\n",
    "        line = re.sub(no_names, \" \", line)\n",
    "        line = re.sub(no_spaces, \" \", line)\n",
    "        # Yielding the tokenized and cleaned line\n",
    "        yield tokenizer(line)"
   ],
   "metadata": {
    "collapsed": false,
    "ExecuteTime": {
     "end_time": "2024-04-17T20:20:46.040819Z",
     "start_time": "2024-04-17T20:20:46.038494Z"
    }
   },
   "id": "180dd603429352f4"
  },
  {
   "cell_type": "code",
   "execution_count": 5,
   "outputs": [],
   "source": [
    "GENERATED_PATH = \"./generated/\"  # Path where generated data files are stored\n",
    "\n",
    "# Check if the training data file already exists in the generated path\n",
    "if os.path.isfile(GENERATED_PATH + \"words_train.pt\"):\n",
    "    # Load preprocessed training, validation, and test word lists from .pt files\n",
    "    words_train = torch.load(GENERATED_PATH + \"words_train.pt\")\n",
    "    words_val = torch.load(GENERATED_PATH + \"words_val.pt\")\n",
    "    words_test = torch.load(GENERATED_PATH + \"words_test.pt\")\n",
    "else:\n",
    "    # If preprocessed data does not exist, read text files\n",
    "    lines_books_train = read_txt_files(\"data/data_train/\")\n",
    "    lines_books_val = read_txt_files(\"data/data_val/\")\n",
    "    lines_books_test = read_txt_files(\"data/data_test/\")\n",
    "\n",
    "    # Tokenize the lines from train, validation, and test datasets\n",
    "    words_train = tokenize(lines_books_train)\n",
    "    words_val = tokenize(lines_books_val)\n",
    "    words_test = tokenize(lines_books_test)\n",
    "\n",
    "    # Save the tokenized word lists to .pt files\n",
    "    torch.save(words_train, GENERATED_PATH + \"words_train.pt\")\n",
    "    torch.save(words_val, GENERATED_PATH + \"words_val.pt\")\n",
    "    torch.save(words_test, GENERATED_PATH + \"words_test.pt\")"
   ],
   "metadata": {
    "collapsed": false,
    "ExecuteTime": {
     "end_time": "2024-04-17T20:20:46.622080Z",
     "start_time": "2024-04-17T20:20:46.241020Z"
    }
   },
   "id": "e46a7ce8b9c09f97"
  },
  {
   "cell_type": "markdown",
   "source": [
    "2. Define a vocabulary based on the training dataset. To avoid getting a too large vocabulary, a solution can be to keep only words that appear at least 100 times in the training dataset. Report the total number of words in the training dataset, the number of distinct words in the training dataset, and the size of the defined vocabulary. Comment on your results."
   ],
   "metadata": {
    "collapsed": false
   },
   "id": "e3d6615cee6d135c"
  },
  {
   "cell_type": "code",
   "execution_count": 6,
   "outputs": [],
   "source": [
    "MIN_FREQ = 100\n",
    "\n",
    "\n",
    "def create_vocabulary(lines, min_freq=MIN_FREQ):\n",
    "    # Building vocabulary from an iterator of tokenized lines, filtering out infrequent tokens\n",
    "    vocab = build_vocab_from_iterator(yield_tokens(lines), min_freq=min_freq, specials=[\"<unk>\"])\n",
    "    # Appending token \"I\", since we removed all words with an uppercase when building the vocabulary\n",
    "    vocab.append_token(\"i\")\n",
    "    # Setting default index for unknown words\n",
    "    vocab.set_default_index(vocab[\"<unk>\"])\n",
    "    return vocab"
   ],
   "metadata": {
    "collapsed": false,
    "ExecuteTime": {
     "end_time": "2024-04-17T20:20:46.654077Z",
     "start_time": "2024-04-17T20:20:46.642400Z"
    }
   },
   "id": "79cd1cab7154c135"
  },
  {
   "cell_type": "code",
   "execution_count": 7,
   "outputs": [],
   "source": [
    "VOCAB_FILENAME = \"vocabulary.pt\"\n",
    "\n",
    "# Check if the vocabulary file already exists in the generated path\n",
    "if os.path.isfile(GENERATED_PATH + VOCAB_FILENAME):\n",
    "    # Load the vocabulary from a file if it already exists\n",
    "    vocab = torch.load(GENERATED_PATH + VOCAB_FILENAME)\n",
    "else:\n",
    "    # If the vocabulary file does not exist, create a new vocabulary from training data\n",
    "    vocab = create_vocabulary(lines_books_train, min_freq=MIN_FREQ)\n",
    "    # Save the newly created vocabulary to a file\n",
    "    torch.save(vocab, GENERATED_PATH + VOCAB_FILENAME)\n",
    "\n",
    "VOCAB_SIZE = len(vocab)"
   ],
   "metadata": {
    "collapsed": false,
    "ExecuteTime": {
     "end_time": "2024-04-17T20:20:46.876543Z",
     "start_time": "2024-04-17T20:20:46.857285Z"
    }
   },
   "id": "cf7baee7fcace153"
  },
  {
   "cell_type": "code",
   "execution_count": 8,
   "outputs": [
    {
     "name": "stdout",
     "output_type": "stream",
     "text": [
      "Total number of words in the training dataset: 2,684,706\n",
      "Total number of words in the validation dataset: 49,526\n",
      "Total number of words in the test dataset: 124,152\n",
      "\n",
      "Number of distinct words in the training dataset: 52,105\n",
      "Number of distinct words in the validation dataset: 5,778\n",
      "Number of distinct words in the test dataset: 9,585\n",
      "\n",
      "Size of the defined vocabulary: 1,880\n"
     ]
    }
   ],
   "source": [
    "print(f\"Total number of words in the training dataset: {len(words_train):,}\")\n",
    "print(f\"Total number of words in the validation dataset: {len(words_val):,}\")\n",
    "print(f\"Total number of words in the test dataset: {len(words_test):,}\", end=\"\\n\\n\")\n",
    "\n",
    "print(f\"Number of distinct words in the training dataset: {len(set(words_train)):,}\")\n",
    "print(f\"Number of distinct words in the validation dataset: {len(set(words_val)):,}\")\n",
    "print(f\"Number of distinct words in the test dataset: {len(set(words_test)):,}\", end=\"\\n\\n\")\n",
    "\n",
    "print(f\"Size of the defined vocabulary: {VOCAB_SIZE:,}\")"
   ],
   "metadata": {
    "collapsed": false,
    "ExecuteTime": {
     "end_time": "2024-04-17T20:20:48.976894Z",
     "start_time": "2024-04-17T20:20:48.974606Z"
    }
   },
   "id": "9f174be539d0b11b"
  },
  {
   "cell_type": "code",
   "execution_count": 9,
   "outputs": [],
   "source": [
    "def count_occurrences(words, vocab):\n",
    "    occurrences = torch.zeros(len(vocab), dtype=torch.int)\n",
    "    for w in words:\n",
    "        occurrences[vocab[w]] += 1\n",
    "    return occurrences"
   ],
   "metadata": {
    "collapsed": false,
    "ExecuteTime": {
     "end_time": "2024-04-17T20:20:49.457100Z",
     "start_time": "2024-04-17T20:20:49.454321Z"
    }
   },
   "id": "b4c4165ae11f6e10"
  },
  {
   "cell_type": "code",
   "execution_count": 10,
   "outputs": [],
   "source": [
    "word_counts_df = pd.DataFrame({\n",
    "    \"Word\": vocab.lookup_tokens(range(len(vocab))),\n",
    "    \"Occurrences\": count_occurrences(words_train, vocab).numpy()\n",
    "})\n",
    "\n",
    "sorted_word_counts = word_counts_df.sort_values(by=\"Occurrences\", ascending=False).reset_index(drop=True)\n",
    "sorted_word_counts.index = sorted_word_counts.index + 1"
   ],
   "metadata": {
    "collapsed": false,
    "ExecuteTime": {
     "end_time": "2024-04-17T20:20:59.468392Z",
     "start_time": "2024-04-17T20:20:49.951403Z"
    }
   },
   "id": "1e516a890cd3ce97"
  },
  {
   "cell_type": "code",
   "execution_count": 11,
   "outputs": [
    {
     "data": {
      "text/plain": "                Word  Occurrences\n1              <unk>       433907\n2                  ,       182537\n3                the       151278\n4                  .       123727\n5                and        82289\n...              ...          ...\n1876          pistol          100\n1877         slipped          100\n1878  station-master          100\n1879          wounds          100\n1880           agree          100\n\n[1880 rows x 2 columns]",
      "text/html": "<div>\n<style scoped>\n    .dataframe tbody tr th:only-of-type {\n        vertical-align: middle;\n    }\n\n    .dataframe tbody tr th {\n        vertical-align: top;\n    }\n\n    .dataframe thead th {\n        text-align: right;\n    }\n</style>\n<table border=\"1\" class=\"dataframe\">\n  <thead>\n    <tr style=\"text-align: right;\">\n      <th></th>\n      <th>Word</th>\n      <th>Occurrences</th>\n    </tr>\n  </thead>\n  <tbody>\n    <tr>\n      <th>1</th>\n      <td>&lt;unk&gt;</td>\n      <td>433907</td>\n    </tr>\n    <tr>\n      <th>2</th>\n      <td>,</td>\n      <td>182537</td>\n    </tr>\n    <tr>\n      <th>3</th>\n      <td>the</td>\n      <td>151278</td>\n    </tr>\n    <tr>\n      <th>4</th>\n      <td>.</td>\n      <td>123727</td>\n    </tr>\n    <tr>\n      <th>5</th>\n      <td>and</td>\n      <td>82289</td>\n    </tr>\n    <tr>\n      <th>...</th>\n      <td>...</td>\n      <td>...</td>\n    </tr>\n    <tr>\n      <th>1876</th>\n      <td>pistol</td>\n      <td>100</td>\n    </tr>\n    <tr>\n      <th>1877</th>\n      <td>slipped</td>\n      <td>100</td>\n    </tr>\n    <tr>\n      <th>1878</th>\n      <td>station-master</td>\n      <td>100</td>\n    </tr>\n    <tr>\n      <th>1879</th>\n      <td>wounds</td>\n      <td>100</td>\n    </tr>\n    <tr>\n      <th>1880</th>\n      <td>agree</td>\n      <td>100</td>\n    </tr>\n  </tbody>\n</table>\n<p>1880 rows × 2 columns</p>\n</div>"
     },
     "execution_count": 11,
     "metadata": {},
     "output_type": "execute_result"
    }
   ],
   "source": [
    "sorted_word_counts"
   ],
   "metadata": {
    "collapsed": false,
    "ExecuteTime": {
     "end_time": "2024-04-17T20:20:59.488293Z",
     "start_time": "2024-04-17T20:20:59.478335Z"
    }
   },
   "id": "2aa1dbc37499968d"
  },
  {
   "cell_type": "code",
   "execution_count": 12,
   "outputs": [],
   "source": [
    "def get_word_type_label(word):\n",
    "    if word == '<unk>':  # Unknown word\n",
    "        return 0\n",
    "    elif word in [',', '.', '(', ')', '?', '!']:  # Punctuation\n",
    "        return 1\n",
    "    else:  # A valid word that exists in the vocabulary\n",
    "        return 2\n",
    "\n",
    "\n",
    "# Map each vocabulary word to its appropriate type label\n",
    "MAP_TARGET = {vocab[w]: get_word_type_label(w) for w in vocab.lookup_tokens(range(VOCAB_SIZE))}\n",
    "CONTEXT_SIZE = 3  # Number of words considered before and after the target word\n",
    "\n",
    "\n",
    "def create_context_target_dataset(text, vocab, context_size=CONTEXT_SIZE, map_target=MAP_TARGET):\n",
    "    n_text = len(text)\n",
    "    contexts = []\n",
    "    targets = []\n",
    "\n",
    "    for i in range(context_size, n_text - context_size):\n",
    "        # Extract the context words: context_size words before and context_size words after the target word\n",
    "        context = [vocab[text[j]] for j in range(i - context_size, i + context_size + 1) if j != i]\n",
    "        # Get the target word and convert it to its label using the map_target dictionary\n",
    "        target = map_target[vocab[text[i]]]\n",
    "        contexts.append(torch.tensor(context))\n",
    "        targets.append(target)\n",
    "\n",
    "    return TensorDataset(torch.stack(contexts), torch.tensor(targets))"
   ],
   "metadata": {
    "collapsed": false,
    "ExecuteTime": {
     "end_time": "2024-04-17T20:20:59.488408Z",
     "start_time": "2024-04-17T20:20:59.486043Z"
    }
   },
   "id": "1121f0251a057029"
  },
  {
   "cell_type": "code",
   "execution_count": 13,
   "outputs": [],
   "source": [
    "def load_dataset(words, vocab, filename, generated_path=GENERATED_PATH):\n",
    "    full_path = os.path.join(generated_path, filename)\n",
    "    if os.path.isfile(full_path):\n",
    "        return torch.load(full_path)\n",
    "    else:\n",
    "        dataset = create_context_target_dataset(words, vocab)\n",
    "        torch.save(dataset, full_path)\n",
    "        return dataset\n",
    "\n",
    "\n",
    "data_train = load_dataset(words_train, vocab, \"data_train.pt\")\n",
    "data_val = load_dataset(words_val, vocab, \"data_val.pt\")\n",
    "data_test = load_dataset(words_test, vocab, \"data_test.pt\")"
   ],
   "metadata": {
    "collapsed": false,
    "ExecuteTime": {
     "end_time": "2024-04-17T20:20:59.531660Z",
     "start_time": "2024-04-17T20:20:59.489787Z"
    }
   },
   "id": "ec1c029e087bb33a"
  },
  {
   "cell_type": "code",
   "execution_count": 14,
   "outputs": [
    {
     "name": "stdout",
     "output_type": "stream",
     "text": [
      "Training dataset size: 2,684,700\n",
      "Validation dataset size: 49,520\n",
      "Test dataset size: 124,146\n"
     ]
    }
   ],
   "source": [
    "print(f\"Training dataset size: {len(data_train):,}\")\n",
    "print(f\"Validation dataset size: {len(data_val):,}\")\n",
    "print(f\"Test dataset size: {len(data_test):,}\")"
   ],
   "metadata": {
    "collapsed": false,
    "ExecuteTime": {
     "end_time": "2024-04-17T20:20:59.531836Z",
     "start_time": "2024-04-17T20:20:59.525704Z"
    }
   },
   "id": "4f5b00a12bc9f5d8"
  },
  {
   "cell_type": "code",
   "execution_count": 15,
   "outputs": [],
   "source": [
    "batch_size = 128\n",
    "\n",
    "train_loader = DataLoader(data_train, batch_size=batch_size, shuffle=True)\n",
    "val_loader = DataLoader(data_val, batch_size=batch_size, shuffle=True)\n",
    "test_loader = DataLoader(data_test, batch_size=batch_size, shuffle=True)"
   ],
   "metadata": {
    "collapsed": false,
    "ExecuteTime": {
     "end_time": "2024-04-17T20:20:59.531907Z",
     "start_time": "2024-04-17T20:20:59.528363Z"
    }
   },
   "id": "936f6b3b186dcabe"
  },
  {
   "cell_type": "markdown",
   "source": [
    "3. Define a continuous bag of words model architecture based on this vocabulary that contains an embedding layer. To drastically reduce the computational cost, the dimension of the embedding `emb_dim` can be very low such as 16, 12, or even 10. Of course, in a real setting, a larger space would be used. You are not allowed to use `nn.LazyLinear` in this project."
   ],
   "metadata": {
    "collapsed": false
   },
   "id": "a2e36f612c053685"
  },
  {
   "cell_type": "markdown",
   "source": [
    "https://pytorch.org/tutorials/beginner/nlp/word_embeddings_tutorial.html"
   ],
   "metadata": {
    "collapsed": false
   },
   "id": "38fbf06d8f6b5275"
  },
  {
   "cell_type": "code",
   "execution_count": 16,
   "outputs": [],
   "source": [
    "class CBOW(nn.Module):\n",
    "    def __init__(self, vocab_size, emb_dim):\n",
    "        super(CBOW, self).__init__()\n",
    "        # Embedding layer: maps each word index to a dense vector representation\n",
    "        self.embedding = nn.Embedding(vocab_size, emb_dim)\n",
    "        # Linear layer 1: transforms the summed embeddings to a hidden layer of size 128\n",
    "        self.linear1 = nn.Linear(emb_dim, 128)\n",
    "        # Activation function 1: applies ReLU to introduce non-linearity\n",
    "        self.activation_function1 = nn.ReLU()\n",
    "        # Linear layer 2: projects from the hidden layer to the output layer of size vocab_size\n",
    "        self.linear2 = nn.Linear(128, vocab_size)\n",
    "        # Activation function 2: applies log softmax to compute log probabilities\n",
    "        self.activation_function2 = nn.LogSoftmax(dim=-1)\n",
    "\n",
    "    def forward(self, inputs):\n",
    "        # Input shape: [batch_size, context_size * 2] (2 words to the left + 2 words to the right of the target)\n",
    "        # Embeds the input word indices to get dense vector representations\n",
    "        embeds = self.embedding(inputs)  # [batch_size, context_size * 2, emb_dim]\n",
    "        embeds = embeds.sum(dim=1)  # [batch_size, emb_dim]\n",
    "        out = self.linear1(embeds)  # [batch_size, 128]\n",
    "        out = self.activation_function1(out)\n",
    "        out = self.linear2(out)  # Output shape: [batch_size, vocab_size]\n",
    "        # Applies log softmax to get log probabilities\n",
    "        out = self.activation_function2(out)\n",
    "        return out"
   ],
   "metadata": {
    "collapsed": false,
    "ExecuteTime": {
     "end_time": "2024-04-17T20:20:59.534040Z",
     "start_time": "2024-04-17T20:20:59.531853Z"
    }
   },
   "id": "1c547edc80a39a82"
  },
  {
   "cell_type": "code",
   "execution_count": 17,
   "outputs": [],
   "source": [
    "def train_model(model, train_loader, optimizer, loss_fn, epochs=20):\n",
    "    training_losses = []\n",
    "\n",
    "    for epoch in range(1, epochs + 1):\n",
    "        model.train()\n",
    "        train_loss = 0\n",
    "        for contexts, targets in train_loader:\n",
    "            contexts, targets = contexts.to(device), targets.to(device)\n",
    "            optimizer.zero_grad()\n",
    "            outputs = model(contexts)\n",
    "            loss = loss_fn(outputs, targets)\n",
    "            loss.backward()\n",
    "            optimizer.step()\n",
    "            train_loss += loss.item()\n",
    "        avg_train_loss = train_loss / len(train_loader)\n",
    "        training_losses.append(avg_train_loss)\n",
    "\n",
    "        timestamp = datetime.now().strftime('%H:%M:%S.%f')\n",
    "        print(f\"{timestamp} | Epoch {epoch} | Training Loss: {avg_train_loss:.5f}\")\n",
    "\n",
    "    return training_losses"
   ],
   "metadata": {
    "collapsed": false,
    "ExecuteTime": {
     "end_time": "2024-04-17T20:20:59.546302Z",
     "start_time": "2024-04-17T20:20:59.534909Z"
    }
   },
   "id": "90cbb60d8c0c5343"
  },
  {
   "cell_type": "code",
   "execution_count": 18,
   "outputs": [],
   "source": [
    "def save_losses(train_losses, model_name, folder=\"losses\"):\n",
    "    filepath = os.path.join(folder, f\"{model_name}_losses.csv\")\n",
    "    df = pd.DataFrame({\n",
    "        \"train_loss\": train_losses\n",
    "    })\n",
    "    df.to_csv(filepath, index=False)\n",
    "    print(f\"Losses saved to {filepath}\")"
   ],
   "metadata": {
    "collapsed": false,
    "ExecuteTime": {
     "end_time": "2024-04-17T20:20:59.546463Z",
     "start_time": "2024-04-17T20:20:59.536935Z"
    }
   },
   "id": "cceb52aff23bf7cb"
  },
  {
   "cell_type": "code",
   "execution_count": 19,
   "outputs": [],
   "source": [
    "def load_losses(model_name, folder=\"losses\"):\n",
    "    filepath = os.path.join(folder, f\"{model_name}_losses.csv\")\n",
    "    df = pd.read_csv(filepath)\n",
    "    print(f\"Losses loaded from {filepath}\")\n",
    "    return df['train_loss'].tolist()"
   ],
   "metadata": {
    "collapsed": false,
    "ExecuteTime": {
     "end_time": "2024-04-17T20:20:59.546543Z",
     "start_time": "2024-04-17T20:20:59.540027Z"
    }
   },
   "id": "96b0fddd8ad6a14f"
  },
  {
   "cell_type": "code",
   "execution_count": 20,
   "outputs": [],
   "source": [
    "def save_model(model, model_name, folder=\"models\"):\n",
    "    filepath = os.path.join(folder, f\"{model_name}.pth\")\n",
    "    torch.save(model.state_dict(), filepath)\n",
    "    print(f\"Model saved to {filepath}\")"
   ],
   "metadata": {
    "collapsed": false,
    "ExecuteTime": {
     "end_time": "2024-04-17T20:20:59.546613Z",
     "start_time": "2024-04-17T20:20:59.543187Z"
    }
   },
   "id": "196ce20a5a5771ed"
  },
  {
   "cell_type": "code",
   "execution_count": 21,
   "outputs": [],
   "source": [
    "def load_model(model, model_name, folder=\"models\"):\n",
    "    filepath = os.path.join(folder, f\"{model_name}.pth\")\n",
    "    model.load_state_dict(torch.load(filepath))\n",
    "    model.to(device)\n",
    "    print(f\"Model loaded from {filepath}\")\n",
    "    return model"
   ],
   "metadata": {
    "collapsed": false,
    "ExecuteTime": {
     "end_time": "2024-04-17T20:20:59.548772Z",
     "start_time": "2024-04-17T20:20:59.545901Z"
    }
   },
   "id": "e481e59618310a14"
  },
  {
   "cell_type": "code",
   "execution_count": 22,
   "outputs": [
    {
     "name": "stdout",
     "output_type": "stream",
     "text": [
      "22:23:29.460322 | Epoch 1 | Training Loss: 0.72974\n",
      "22:26:15.371306 | Epoch 2 | Training Loss: 0.70739\n",
      "22:28:55.706064 | Epoch 3 | Training Loss: 0.70234\n",
      "22:31:24.830596 | Epoch 4 | Training Loss: 0.69890\n",
      "22:34:01.106903 | Epoch 5 | Training Loss: 0.69613\n",
      "22:36:35.083245 | Epoch 6 | Training Loss: 0.69380\n",
      "22:39:01.562883 | Epoch 7 | Training Loss: 0.69174\n",
      "22:41:25.126826 | Epoch 8 | Training Loss: 0.68997\n",
      "22:43:54.359591 | Epoch 9 | Training Loss: 0.68826\n",
      "22:46:14.071547 | Epoch 10 | Training Loss: 0.68688\n"
     ]
    }
   ],
   "source": [
    "CBOW_model = CBOW(vocab_size=VOCAB_SIZE, emb_dim=64).to(device)\n",
    "\n",
    "optimizer = optim.Adam(CBOW_model.parameters(), lr=0.001)\n",
    "loss_fn = nn.NLLLoss()\n",
    "\n",
    "CBOW_train_losses = train_model(CBOW_model, train_loader, optimizer, loss_fn, epochs=10)"
   ],
   "metadata": {
    "collapsed": false,
    "ExecuteTime": {
     "end_time": "2024-04-17T20:46:14.094172Z",
     "start_time": "2024-04-17T20:20:59.548270Z"
    }
   },
   "id": "e60bea86596c384a"
  },
  {
   "cell_type": "code",
   "execution_count": 23,
   "outputs": [
    {
     "name": "stdout",
     "output_type": "stream",
     "text": [
      "Model saved to models/cbow_model.pth\n",
      "Losses saved to losses/cbow_model_losses.csv\n"
     ]
    }
   ],
   "source": [
    "save_model(CBOW_model, \"cbow_model\")\n",
    "save_losses(CBOW_train_losses, model_name=\"cbow_model\")"
   ],
   "metadata": {
    "collapsed": false,
    "ExecuteTime": {
     "end_time": "2024-04-17T20:50:23.396920Z",
     "start_time": "2024-04-17T20:50:23.379419Z"
    }
   },
   "id": "f72282a187f4b7f2"
  },
  {
   "cell_type": "code",
   "execution_count": 24,
   "outputs": [
    {
     "name": "stdout",
     "output_type": "stream",
     "text": [
      "Model loaded from models/cbow_model.pth\n",
      "Losses loaded from losses/cbow_model_losses.csv\n"
     ]
    }
   ],
   "source": [
    "CBOW_model_loaded = CBOW(vocab_size=VOCAB_SIZE, emb_dim=64)\n",
    "CBOW_model_loaded = load_model(CBOW_model_loaded, \"cbow_model\")\n",
    "\n",
    "CBOW_train_losses_loaded = load_losses(\"cbow_model\")"
   ],
   "metadata": {
    "collapsed": false,
    "ExecuteTime": {
     "end_time": "2024-04-17T20:50:24.621370Z",
     "start_time": "2024-04-17T20:50:24.597148Z"
    }
   },
   "id": "a7d90f3e42d82dc1"
  },
  {
   "cell_type": "code",
   "execution_count": 25,
   "outputs": [],
   "source": [
    "CBOW_model = CBOW_model_loaded\n",
    "CBOW_train_losses = CBOW_train_losses_loaded"
   ],
   "metadata": {
    "collapsed": false,
    "ExecuteTime": {
     "end_time": "2024-04-17T20:50:25.659103Z",
     "start_time": "2024-04-17T20:50:25.647461Z"
    }
   },
   "id": "adcb51381d65d443"
  },
  {
   "cell_type": "markdown",
   "source": [
    "5. Compute the cosine similarity matrix of the vocabulary based on the trained embedding. For some words of your choice (e.g. *me*, *white*, *man*, *have*, *be*, *child*, *yes*, *what* etc.), report the 10 most similar words. Comment on your results."
   ],
   "metadata": {
    "collapsed": false
   },
   "id": "82711c018e25e726"
  },
  {
   "cell_type": "code",
   "execution_count": 46,
   "outputs": [],
   "source": [
    "best_model_embeddings = CBOW_model.embedding.weight.detach().cpu().numpy()\n",
    "\n",
    "mat_size = len(best_model_embeddings)\n",
    "cos_sim_mat = np.zeros(shape=(mat_size, mat_size))\n",
    "\n",
    "for w1 in range(mat_size):\n",
    "    for w2 in range(mat_size):\n",
    "        cos_sim_mat[w1][w2] = np.dot(best_model_embeddings[w1], best_model_embeddings[w2]) / (\n",
    "                np.linalg.norm(best_model_embeddings[w1]) * np.linalg.norm(best_model_embeddings[w2]))"
   ],
   "metadata": {
    "collapsed": false,
    "ExecuteTime": {
     "end_time": "2024-04-18T08:02:34.704650Z",
     "start_time": "2024-04-18T08:02:24.285799Z"
    }
   },
   "id": "532816665732979"
  },
  {
   "cell_type": "code",
   "execution_count": 47,
   "outputs": [],
   "source": [
    "test_words = [\"me\", \"white\", \"man\", \"have\", \"be\", \"child\", \"yes\", \"what\"]\n",
    "test_words_idx = [vocab.get_stoi()[word] for word in test_words]"
   ],
   "metadata": {
    "collapsed": false,
    "ExecuteTime": {
     "end_time": "2024-04-18T08:02:34.712762Z",
     "start_time": "2024-04-18T08:02:34.710744Z"
    }
   },
   "id": "2fa8845918b46946"
  },
  {
   "cell_type": "code",
   "execution_count": 48,
   "outputs": [],
   "source": [
    "top_n = 10\n",
    "similar_words = {}\n",
    "\n",
    "for word, idx in zip(test_words, test_words_idx):\n",
    "    # get cosine similarities for the current word against all other words\n",
    "    similarities = cos_sim_mat[idx]\n",
    "\n",
    "    # get indices of the top 10 most similar words (excluding the word itself)\n",
    "    # argsort returns indices of sorted array, with the smallest first, so we take the last 10 items\n",
    "    most_similar_idxs = np.argsort(similarities)[-top_n - 1:-1][::-1]\n",
    "    \n",
    "    # map indices back to words\n",
    "    similar_words[word] = [vocab.get_itos()[i] for i in most_similar_idxs]"
   ],
   "metadata": {
    "collapsed": false,
    "ExecuteTime": {
     "end_time": "2024-04-18T08:02:34.721088Z",
     "start_time": "2024-04-18T08:02:34.716114Z"
    }
   },
   "id": "29062a8e17825af3"
  },
  {
   "cell_type": "code",
   "execution_count": 49,
   "outputs": [
    {
     "name": "stdout",
     "output_type": "stream",
     "text": [
      "Words most similar to 'me': ['us', 'slipped', 'nature', 'turn', 'driving', 'yourself', 'nobody', 'play', 'weapons', 'skin']\n",
      "Words most similar to 'white': ['some', 'itself', 'sufficient', 'feet', 'brave', 's', 'brain', 'skald', 'terrified', 'themselves']\n",
      "Words most similar to 'man': ['woman', 'spirit', 'suffer', 'cat', 'pistol', 'kitchen', 'thing', 'wants', 'judge', 'castle']\n",
      "Words most similar to 'have': ['would', 'shall', 'hast', 'wound', 'land', 'need', 'doing', 'merely', 'presented', 'ought']\n",
      "Words most similar to 'be': ['speak', 'required', 'been', 'peasants', 'spread', 'hung', 'drawn', 'separated', 'talked', 'serve']\n",
      "Words most similar to 'child': ['distance', 'candle', 'touch', 'window', 'distinguished', 'happen', 'officer', 'expect', 'inn', 'sofa']\n",
      "Words most similar to 'yes': ['however', 'inquired', 'shouted', 'replied', 'sir', 'gentlemen', 'exclaimed', 'said', 'replies', 'repeated']\n",
      "Words most similar to 'what': ['how', 'firm', 'done', 'whether', 'glad', 'books', 'anxiety', 'talk', 'sudden', 'spoken']\n"
     ]
    }
   ],
   "source": [
    "for word, similar in similar_words.items():\n",
    "    print(f\"Words most similar to '{word}': {similar}\")"
   ],
   "metadata": {
    "collapsed": false,
    "ExecuteTime": {
     "end_time": "2024-04-18T08:02:34.726899Z",
     "start_time": "2024-04-18T08:02:34.722035Z"
    }
   },
   "id": "793030b39ab25c3"
  },
  {
   "cell_type": "markdown",
   "source": [
    "6. Visualize the embedding space on <https://projector.tensorflow.org>. To do so, upload the vocabulary and their corresponding values in the embedding space as two tsv files. Try to find and select clusters. Report both plots (you can use screenshots) and their corresponding selections for some meaningful clusters. Comment on your results."
   ],
   "metadata": {
    "collapsed": false
   },
   "id": "332fee011d91aa34"
  },
  {
   "cell_type": "code",
   "execution_count": 50,
   "outputs": [],
   "source": [
    "with open(\"tensorflow_projector/vectors.tsv\", \"w\") as vectors_file:\n",
    "    tsv_writer = csv.writer(vectors_file, delimiter=\"\\t\")\n",
    "    for weight in best_model_embeddings:\n",
    "        tsv_writer.writerow(weight)\n",
    "\n",
    "\n",
    "with open(\"tensorflow_projector/metadata.tsv\", \"w\") as metadata_file:\n",
    "    tsv_writer = csv.writer(metadata_file, delimiter=\"\\t\")\n",
    "    vocab_dict = vocab.get_itos()\n",
    "    for word in vocab_dict:\n",
    "        tsv_writer.writerow([word])"
   ],
   "metadata": {
    "collapsed": false,
    "ExecuteTime": {
     "end_time": "2024-04-18T08:02:34.765700Z",
     "start_time": "2024-04-18T08:02:34.725044Z"
    }
   },
   "id": "b7ce287c0f929418"
  },
  {
   "cell_type": "code",
   "execution_count": null,
   "outputs": [],
   "source": [],
   "metadata": {
    "collapsed": false
   },
   "id": "cc80f0631c5b3c33"
  }
 ],
 "metadata": {
  "kernelspec": {
   "display_name": "Python 3",
   "language": "python",
   "name": "python3"
  },
  "language_info": {
   "codemirror_mode": {
    "name": "ipython",
    "version": 2
   },
   "file_extension": ".py",
   "mimetype": "text/x-python",
   "name": "python",
   "nbconvert_exporter": "python",
   "pygments_lexer": "ipython2",
   "version": "2.7.6"
  }
 },
 "nbformat": 4,
 "nbformat_minor": 5
}
