{
 "cells": [
  {
   "cell_type": "code",
   "execution_count": 1,
   "id": "dc3749b76e893bd4",
   "metadata": {
    "collapsed": false,
    "ExecuteTime": {
     "end_time": "2024-04-24T12:24:08.371790Z",
     "start_time": "2024-04-24T12:24:07.376756Z"
    }
   },
   "outputs": [],
   "source": [
    "from torchtext.data.utils import get_tokenizer\n",
    "from torchtext.vocab import build_vocab_from_iterator\n",
    "from torch.utils.data import DataLoader, TensorDataset\n",
    "import torch.nn.functional as F\n",
    "import torch.optim as optim\n",
    "import torch.nn as nn\n",
    "from datetime import datetime\n",
    "from collections import Counter\n",
    "import pandas as pd\n",
    "import numpy as np\n",
    "import torch\n",
    "import csv\n",
    "import os\n",
    "import re"
   ]
  },
  {
   "cell_type": "code",
   "execution_count": 2,
   "id": "7b216aac8fa49f71",
   "metadata": {
    "collapsed": false,
    "ExecuteTime": {
     "end_time": "2024-04-24T12:24:08.398091Z",
     "start_time": "2024-04-24T12:24:08.373365Z"
    }
   },
   "outputs": [],
   "source": [
    "torch.manual_seed(256)\n",
    "torch.cuda.manual_seed(256)\n",
    "np.random.seed(256)"
   ]
  },
  {
   "cell_type": "code",
   "execution_count": 3,
   "id": "8ebf58a160f821f6",
   "metadata": {
    "collapsed": false,
    "ExecuteTime": {
     "end_time": "2024-04-24T12:24:08.398329Z",
     "start_time": "2024-04-24T12:24:08.376722Z"
    }
   },
   "outputs": [
    {
     "name": "stdout",
     "output_type": "stream",
     "text": [
      "Using cpu device.\n"
     ]
    }
   ],
   "source": [
    "device = torch.device(\"cuda\" if torch.cuda.is_available() else \"cpu\")\n",
    "print(f\"Using {device} device.\")"
   ]
  },
  {
   "cell_type": "markdown",
   "id": "56f18624e811dc2d",
   "metadata": {
    "collapsed": false
   },
   "source": [
    "## 2.1 Word embedding"
   ]
  },
  {
   "cell_type": "markdown",
   "id": "ecdeb62e62883d05",
   "metadata": {
    "collapsed": false
   },
   "source": [
    "1. Read txt files and tokenize them to obtain train/validation/test lists of words."
   ]
  },
  {
   "cell_type": "code",
   "execution_count": 4,
   "id": "180dd603429352f4",
   "metadata": {
    "collapsed": false,
    "ExecuteTime": {
     "end_time": "2024-04-24T12:24:08.398369Z",
     "start_time": "2024-04-24T12:24:08.381085Z"
    }
   },
   "outputs": [],
   "source": [
    "TOKENIZER = get_tokenizer(\"basic_english\")\n",
    "\n",
    "\n",
    "def read_txt_files(datapath):\n",
    "    files = os.listdir(datapath)\n",
    "    files = [datapath + f for f in files if f.endswith(\".txt\")]\n",
    "\n",
    "    lines = []\n",
    "    for f_name in files:\n",
    "        with open(f_name) as f:\n",
    "            lines += f.readlines()\n",
    "    return lines\n",
    "\n",
    "\n",
    "def tokenize(lines, tokenizer=TOKENIZER):\n",
    "    list_text = []\n",
    "    for line in lines:\n",
    "        list_text += tokenizer(line)\n",
    "    return list_text\n",
    "\n",
    "\n",
    "def yield_tokens(lines, tokenizer=TOKENIZER):\n",
    "    no_digits = \"\\w*[0-9]+\\w*\"  # Regex to match words containing numbers\n",
    "    no_names = \"\\w*[A-Z]+\\w*\"  # Regex to match words with capital letters (names)\n",
    "    no_spaces = \"\\s+\"  # Regex to match sequences of whitespace\n",
    "\n",
    "    # Processing each line to remove digits, names, and extra spaces\n",
    "    for line in lines:\n",
    "        line = re.sub(no_digits, \" \", line)\n",
    "        line = re.sub(no_names, \" \", line)\n",
    "        line = re.sub(no_spaces, \" \", line)\n",
    "        # Yielding the tokenized and cleaned line\n",
    "        yield tokenizer(line)"
   ]
  },
  {
   "cell_type": "code",
   "execution_count": 5,
   "id": "e46a7ce8b9c09f97",
   "metadata": {
    "collapsed": false,
    "ExecuteTime": {
     "end_time": "2024-04-24T12:24:09.029134Z",
     "start_time": "2024-04-24T12:24:08.538953Z"
    }
   },
   "outputs": [],
   "source": [
    "GENERATED_PATH = \"./generated/\"  # Path where generated data files are stored\n",
    "\n",
    "# Check if the training data file already exists in the generated path\n",
    "if os.path.isfile(GENERATED_PATH + \"words_train.pt\"):\n",
    "    # Load preprocessed training, validation, and test word lists from .pt files\n",
    "    words_train = torch.load(GENERATED_PATH + \"words_train.pt\")\n",
    "    words_val = torch.load(GENERATED_PATH + \"words_val.pt\")\n",
    "    words_test = torch.load(GENERATED_PATH + \"words_test.pt\")\n",
    "else:\n",
    "    # If preprocessed data does not exist, read text files\n",
    "    lines_books_train = read_txt_files(\"data/data_train/\")\n",
    "    lines_books_val = read_txt_files(\"data/data_val/\")\n",
    "    lines_books_test = read_txt_files(\"data/data_test/\")\n",
    "\n",
    "    # Tokenize the lines from train, validation, and test datasets\n",
    "    words_train = tokenize(lines_books_train)\n",
    "    words_val = tokenize(lines_books_val)\n",
    "    words_test = tokenize(lines_books_test)\n",
    "\n",
    "    # Save the tokenized word lists to .pt files\n",
    "    torch.save(words_train, GENERATED_PATH + \"words_train.pt\")\n",
    "    torch.save(words_val, GENERATED_PATH + \"words_val.pt\")\n",
    "    torch.save(words_test, GENERATED_PATH + \"words_test.pt\")"
   ]
  },
  {
   "cell_type": "markdown",
   "id": "e3d6615cee6d135c",
   "metadata": {
    "collapsed": false
   },
   "source": [
    "2. Define a vocabulary based on the training dataset. To avoid getting a too large vocabulary, a solution can be to keep only words that appear at least 100 times in the training dataset. Report the total number of words in the training dataset, the number of distinct words in the training dataset, and the size of the defined vocabulary. Comment on your results."
   ]
  },
  {
   "cell_type": "code",
   "execution_count": 6,
   "id": "79cd1cab7154c135",
   "metadata": {
    "collapsed": false,
    "ExecuteTime": {
     "end_time": "2024-04-24T12:24:09.062710Z",
     "start_time": "2024-04-24T12:24:09.030330Z"
    }
   },
   "outputs": [],
   "source": [
    "MIN_FREQ = 100\n",
    "\n",
    "\n",
    "def create_vocabulary(lines, min_freq=MIN_FREQ):\n",
    "    # Building vocabulary from an iterator of tokenized lines, filtering out infrequent tokens\n",
    "    vocab = build_vocab_from_iterator(yield_tokens(lines), min_freq=min_freq, specials=[\"<unk>\"])\n",
    "    # Appending token \"I\", since we removed all words with an uppercase when building the vocabulary\n",
    "    vocab.append_token(\"i\")\n",
    "    # Setting default index for unknown words\n",
    "    vocab.set_default_index(vocab[\"<unk>\"])\n",
    "    return vocab"
   ]
  },
  {
   "cell_type": "code",
   "execution_count": 7,
   "id": "cf7baee7fcace153",
   "metadata": {
    "collapsed": false,
    "ExecuteTime": {
     "end_time": "2024-04-24T12:24:09.130398Z",
     "start_time": "2024-04-24T12:24:09.076130Z"
    }
   },
   "outputs": [],
   "source": [
    "VOCAB_FILENAME = \"vocabulary.pt\"\n",
    "\n",
    "# Check if the vocabulary file already exists in the generated path\n",
    "if os.path.isfile(GENERATED_PATH + VOCAB_FILENAME):\n",
    "    # Load the vocabulary from a file if it already exists\n",
    "    vocab = torch.load(GENERATED_PATH + VOCAB_FILENAME)\n",
    "else:\n",
    "    # If the vocabulary file does not exist, create a new vocabulary from training data\n",
    "    vocab = create_vocabulary(lines_books_train, min_freq=MIN_FREQ)\n",
    "    # Save the newly created vocabulary to a file\n",
    "    torch.save(vocab, GENERATED_PATH + VOCAB_FILENAME)\n",
    "\n",
    "VOCAB_SIZE = len(vocab)"
   ]
  },
  {
   "cell_type": "code",
   "execution_count": 8,
   "id": "9f174be539d0b11b",
   "metadata": {
    "collapsed": false,
    "ExecuteTime": {
     "end_time": "2024-04-24T12:24:09.358641Z",
     "start_time": "2024-04-24T12:24:09.356113Z"
    }
   },
   "outputs": [
    {
     "name": "stdout",
     "output_type": "stream",
     "text": [
      "Total number of words in the training dataset: 2,684,706\n",
      "Total number of words in the validation dataset: 49,526\n",
      "Total number of words in the test dataset: 124,152\n",
      "\n",
      "Number of distinct words in the training dataset: 52,105\n",
      "Number of distinct words in the validation dataset: 5,778\n",
      "Number of distinct words in the test dataset: 9,585\n",
      "\n",
      "Size of the defined vocabulary: 1,880\n"
     ]
    }
   ],
   "source": [
    "print(f\"Total number of words in the training dataset: {len(words_train):,}\")\n",
    "print(f\"Total number of words in the validation dataset: {len(words_val):,}\")\n",
    "print(f\"Total number of words in the test dataset: {len(words_test):,}\", end=\"\\n\\n\")\n",
    "\n",
    "print(f\"Number of distinct words in the training dataset: {len(set(words_train)):,}\")\n",
    "print(f\"Number of distinct words in the validation dataset: {len(set(words_val)):,}\")\n",
    "print(f\"Number of distinct words in the test dataset: {len(set(words_test)):,}\", end=\"\\n\\n\")\n",
    "\n",
    "print(f\"Size of the defined vocabulary: {VOCAB_SIZE:,}\")"
   ]
  },
  {
   "cell_type": "code",
   "execution_count": 9,
   "id": "b4c4165ae11f6e10",
   "metadata": {
    "collapsed": false,
    "ExecuteTime": {
     "end_time": "2024-04-24T12:24:09.458398Z",
     "start_time": "2024-04-24T12:24:09.453619Z"
    }
   },
   "outputs": [],
   "source": [
    "def count_occurrences(words, vocab):\n",
    "    occurrences = torch.zeros(len(vocab), dtype=torch.int)\n",
    "    for w in words:\n",
    "        occurrences[vocab[w]] += 1\n",
    "    return occurrences"
   ]
  },
  {
   "cell_type": "code",
   "execution_count": 10,
   "id": "1e516a890cd3ce97",
   "metadata": {
    "collapsed": false,
    "ExecuteTime": {
     "end_time": "2024-04-24T12:24:25.085694Z",
     "start_time": "2024-04-24T12:24:09.605687Z"
    }
   },
   "outputs": [],
   "source": [
    "word_counts_df = pd.DataFrame({\n",
    "    \"Word\": vocab.lookup_tokens(range(len(vocab))),\n",
    "    \"Occurrences\": count_occurrences(words_train, vocab).numpy()\n",
    "})\n",
    "\n",
    "sorted_word_counts = word_counts_df.sort_values(by=\"Occurrences\", ascending=False).reset_index(drop=True)\n",
    "sorted_word_counts.index = sorted_word_counts.index + 1"
   ]
  },
  {
   "cell_type": "code",
   "execution_count": 11,
   "id": "2aa1dbc37499968d",
   "metadata": {
    "collapsed": false,
    "ExecuteTime": {
     "end_time": "2024-04-24T12:24:25.134843Z",
     "start_time": "2024-04-24T12:24:25.096949Z"
    }
   },
   "outputs": [
    {
     "data": {
      "text/plain": "                Word  Occurrences\n1              <unk>       433907\n2                  ,       182537\n3                the       151278\n4                  .       123727\n5                and        82289\n...              ...          ...\n1876          pistol          100\n1877         slipped          100\n1878  station-master          100\n1879          wounds          100\n1880           agree          100\n\n[1880 rows x 2 columns]",
      "text/html": "<div>\n<style scoped>\n    .dataframe tbody tr th:only-of-type {\n        vertical-align: middle;\n    }\n\n    .dataframe tbody tr th {\n        vertical-align: top;\n    }\n\n    .dataframe thead th {\n        text-align: right;\n    }\n</style>\n<table border=\"1\" class=\"dataframe\">\n  <thead>\n    <tr style=\"text-align: right;\">\n      <th></th>\n      <th>Word</th>\n      <th>Occurrences</th>\n    </tr>\n  </thead>\n  <tbody>\n    <tr>\n      <th>1</th>\n      <td>&lt;unk&gt;</td>\n      <td>433907</td>\n    </tr>\n    <tr>\n      <th>2</th>\n      <td>,</td>\n      <td>182537</td>\n    </tr>\n    <tr>\n      <th>3</th>\n      <td>the</td>\n      <td>151278</td>\n    </tr>\n    <tr>\n      <th>4</th>\n      <td>.</td>\n      <td>123727</td>\n    </tr>\n    <tr>\n      <th>5</th>\n      <td>and</td>\n      <td>82289</td>\n    </tr>\n    <tr>\n      <th>...</th>\n      <td>...</td>\n      <td>...</td>\n    </tr>\n    <tr>\n      <th>1876</th>\n      <td>pistol</td>\n      <td>100</td>\n    </tr>\n    <tr>\n      <th>1877</th>\n      <td>slipped</td>\n      <td>100</td>\n    </tr>\n    <tr>\n      <th>1878</th>\n      <td>station-master</td>\n      <td>100</td>\n    </tr>\n    <tr>\n      <th>1879</th>\n      <td>wounds</td>\n      <td>100</td>\n    </tr>\n    <tr>\n      <th>1880</th>\n      <td>agree</td>\n      <td>100</td>\n    </tr>\n  </tbody>\n</table>\n<p>1880 rows × 2 columns</p>\n</div>"
     },
     "execution_count": 11,
     "metadata": {},
     "output_type": "execute_result"
    }
   ],
   "source": [
    "sorted_word_counts"
   ]
  },
  {
   "cell_type": "code",
   "execution_count": 12,
   "id": "1121f0251a057029",
   "metadata": {
    "collapsed": false,
    "ExecuteTime": {
     "end_time": "2024-04-24T12:24:25.156555Z",
     "start_time": "2024-04-24T12:24:25.104915Z"
    }
   },
   "outputs": [],
   "source": [
    "CONTEXT_SIZE = 3  # Number of words considered before and after the target word\n",
    "target_counts = {}\n",
    "\n",
    "\n",
    "def create_context_target_dataset(text, vocab, context_size=CONTEXT_SIZE, max_occurrences=None):\n",
    "    contexts = []\n",
    "    targets = []\n",
    "\n",
    "    # Loop over the words list with enough space to form the context window\n",
    "    for i in range(context_size, len(text) - context_size):\n",
    "        target_word = text[i]\n",
    "\n",
    "        # Skip if the target word is punctuation\n",
    "        if target_word in [',', '.', '(', ')', '?', '!']:\n",
    "            continue\n",
    "\n",
    "        # Convert the word to its vocabulary index, skip if not in vocabulary\n",
    "        target_idx = vocab.get_stoi().get(target_word, None)\n",
    "        if target_idx is None:\n",
    "            continue\n",
    "\n",
    "        # Limit occurrences of each word\n",
    "        if max_occurrences is not None:\n",
    "            if target_word in target_counts and target_counts[target_word] >= max_occurrences:\n",
    "                continue\n",
    "            target_counts[target_word] = target_counts.get(target_word, 0) + 1\n",
    "\n",
    "        # Extract the context words: context_size words before and context_size words after the target word\n",
    "        context = [vocab[text[j]] for j in range(i - context_size, i + context_size + 1) if j != i]\n",
    "        contexts.append(torch.tensor(context))\n",
    "        targets.append(target_idx)\n",
    "\n",
    "    return TensorDataset(torch.stack(contexts), torch.tensor(targets, dtype=torch.long))"
   ]
  },
  {
   "cell_type": "code",
   "execution_count": 13,
   "id": "ec1c029e087bb33a",
   "metadata": {
    "collapsed": false,
    "ExecuteTime": {
     "end_time": "2024-04-24T12:24:25.176390Z",
     "start_time": "2024-04-24T12:24:25.108755Z"
    }
   },
   "outputs": [],
   "source": [
    "def load_dataset(words, vocab, filename, generated_path=GENERATED_PATH):\n",
    "    full_path = os.path.join(generated_path, filename)\n",
    "    if os.path.isfile(full_path):\n",
    "        return torch.load(full_path)\n",
    "    else:\n",
    "        dataset, target_counts = create_context_target_dataset(words, vocab, max_occurrences=10000)\n",
    "        torch.save(dataset, full_path)\n",
    "        return dataset\n",
    "\n",
    "\n",
    "data_train = load_dataset(words_train, vocab, \"data_train.pt\")\n",
    "data_val = load_dataset(words_val, vocab, \"data_val.pt\")\n",
    "data_test = load_dataset(words_test, vocab, \"data_test.pt\")"
   ]
  },
  {
   "cell_type": "code",
   "execution_count": 14,
   "outputs": [
    {
     "name": "stdout",
     "output_type": "stream",
     "text": [
      "Training dataset size: 1,320,520\n",
      "Validation dataset size: 36,216\n",
      "Test dataset size: 83,645\n"
     ]
    }
   ],
   "source": [
    "print(f\"Training dataset size: {len(data_train):,}\")\n",
    "print(f\"Validation dataset size: {len(data_val):,}\")\n",
    "print(f\"Test dataset size: {len(data_test):,}\")"
   ],
   "metadata": {
    "collapsed": false,
    "ExecuteTime": {
     "end_time": "2024-04-24T12:24:25.224766Z",
     "start_time": "2024-04-24T12:24:25.138905Z"
    }
   },
   "id": "32c46f4667cd0cd7"
  },
  {
   "cell_type": "code",
   "execution_count": 15,
   "outputs": [],
   "source": [
    "batch_size = 128\n",
    "\n",
    "train_loader = DataLoader(data_train, batch_size=batch_size, shuffle=True)\n",
    "val_loader = DataLoader(data_val, batch_size=batch_size, shuffle=True)\n",
    "test_loader = DataLoader(data_test, batch_size=batch_size, shuffle=True)"
   ],
   "metadata": {
    "collapsed": false,
    "ExecuteTime": {
     "end_time": "2024-04-24T12:24:25.224872Z",
     "start_time": "2024-04-24T12:24:25.142519Z"
    }
   },
   "id": "ec3168a690e0a5ca"
  },
  {
   "cell_type": "markdown",
   "source": [
    "3. Define a continuous bag of words model architecture based on this vocabulary that contains an embedding layer. To drastically reduce the computational cost, the dimension of the embedding `emb_dim` can be very low such as 16, 12, or even 10. Of course, in a real setting, a larger space would be used. You are not allowed to use `nn.LazyLinear` in this project."
   ],
   "metadata": {
    "collapsed": false
   },
   "id": "63eaf39159ad4b4c"
  },
  {
   "cell_type": "markdown",
   "source": [
    "https://pytorch.org/tutorials/beginner/nlp/word_embeddings_tutorial.html"
   ],
   "metadata": {
    "collapsed": false
   },
   "id": "2a7291fb9d6248cd"
  },
  {
   "cell_type": "code",
   "execution_count": 16,
   "outputs": [],
   "source": [
    "class CBOW(nn.Module):\n",
    "    def __init__(self, vocab_size, emb_dim, context_size):\n",
    "        super(CBOW, self).__init__()\n",
    "        # Embedding layer: maps each word index to a dense vector representation\n",
    "        self.embedding = nn.Embedding(vocab_size, emb_dim)\n",
    "        # Linear layer 1: maps flattened context embeddings to a hidden layer\n",
    "        self.lin1 = nn.Linear(context_size * 2 * emb_dim, 128)\n",
    "        # Activation function: applies ReLU to introduce non-linearity\n",
    "        self.relu = nn.ReLU()\n",
    "        # Linear layer 2: projects from the hidden layer to the output layer of size vocab_size\n",
    "        self.lin2 = nn.Linear(128, vocab_size)\n",
    "\n",
    "    def forward(self, inputs):\n",
    "        # Embeds the input word indices to get dense vector representations\n",
    "        embeds = self.embedding(inputs)\n",
    "        # Flattens the embeddings into a single long vector per sample in the batch\n",
    "        embeds = embeds.view(embeds.size(0), -1)\n",
    "        out = self.lin1(embeds)\n",
    "        out = self.relu(out)\n",
    "        out = self.lin2(out)\n",
    "        # Applies log softmax to compute log probabilities\n",
    "        out = F.log_softmax(out, dim=1)\n",
    "        return out"
   ],
   "metadata": {
    "collapsed": false,
    "ExecuteTime": {
     "end_time": "2024-04-24T12:24:25.224910Z",
     "start_time": "2024-04-24T12:24:25.145902Z"
    }
   },
   "id": "9a2231208b9d8d5f"
  },
  {
   "cell_type": "code",
   "execution_count": 17,
   "outputs": [],
   "source": [
    "def train_model(model, train_loader, optimizer, loss_fn, epochs=20):\n",
    "    training_losses = []\n",
    "\n",
    "    for epoch in range(1, epochs + 1):\n",
    "        model.train()\n",
    "        train_loss = 0\n",
    "        for contexts, targets in train_loader:\n",
    "            contexts, targets = contexts.to(device), targets.to(device)\n",
    "            optimizer.zero_grad()\n",
    "            outputs = model(contexts)\n",
    "            loss = loss_fn(outputs, targets)\n",
    "            loss.backward()\n",
    "            optimizer.step()\n",
    "            train_loss += loss.item()\n",
    "        avg_train_loss = train_loss / len(train_loader)\n",
    "        training_losses.append(avg_train_loss)\n",
    "\n",
    "        timestamp = datetime.now().strftime('%H:%M:%S.%f')\n",
    "        print(f\"{timestamp} | Epoch {epoch} | Training Loss: {avg_train_loss:.5f}\")\n",
    "\n",
    "    return training_losses"
   ],
   "metadata": {
    "collapsed": false,
    "ExecuteTime": {
     "end_time": "2024-04-24T12:24:25.224947Z",
     "start_time": "2024-04-24T12:24:25.149418Z"
    }
   },
   "id": "301f3f01ab9ba8c3"
  },
  {
   "cell_type": "code",
   "execution_count": 18,
   "outputs": [],
   "source": [
    "def calculate_weights(data, vocab_size=VOCAB_SIZE):\n",
    "    # Initialize counts with zeros for each possible word index\n",
    "    counts = torch.zeros(vocab_size, dtype=torch.int)\n",
    "\n",
    "    # Count occurrences of each target in the dataset\n",
    "    for _, target in data:\n",
    "        counts[target.item()] += 1\n",
    "\n",
    "    # Total number of samples\n",
    "    total_samples = counts.sum()\n",
    "\n",
    "    # Weights for each class\n",
    "    weights = total_samples / (counts * VOCAB_SIZE)\n",
    "    \n",
    "    # Replace inf/NaN with zero (in case some classes do not appear in the counts)\n",
    "    weights[torch.isinf(weights) | torch.isnan(weights)] = 0\n",
    "    \n",
    "    # Normalize weights so that their maximum is 1\n",
    "    weights = weights / weights.max()\n",
    "\n",
    "    return weights.to(device)"
   ],
   "metadata": {
    "collapsed": false,
    "ExecuteTime": {
     "end_time": "2024-04-24T12:24:25.224981Z",
     "start_time": "2024-04-24T12:24:25.152259Z"
    }
   },
   "id": "d2aee5e15b33d61d"
  },
  {
   "cell_type": "code",
   "execution_count": 19,
   "outputs": [],
   "source": [
    "class_weights = calculate_weights(data_train)"
   ],
   "metadata": {
    "collapsed": false,
    "ExecuteTime": {
     "end_time": "2024-04-24T12:24:36.177663Z",
     "start_time": "2024-04-24T12:24:25.156687Z"
    }
   },
   "id": "2c1f1e7f0bdb68e8"
  },
  {
   "cell_type": "code",
   "execution_count": 20,
   "outputs": [],
   "source": [
    "def save_losses(train_losses, model_name, folder=\"losses\"):\n",
    "    filepath = os.path.join(folder, f\"{model_name}_losses.csv\")\n",
    "    df = pd.DataFrame({\n",
    "        \"train_loss\": train_losses\n",
    "    })\n",
    "    df.to_csv(filepath, index=False)\n",
    "    print(f\"Losses saved to {filepath}\")"
   ],
   "metadata": {
    "collapsed": false,
    "ExecuteTime": {
     "end_time": "2024-04-24T12:24:36.189684Z",
     "start_time": "2024-04-24T12:24:36.178432Z"
    }
   },
   "id": "2aa57128dac9bd7b"
  },
  {
   "cell_type": "code",
   "execution_count": 21,
   "outputs": [],
   "source": [
    "def load_losses(model_name, folder=\"losses\"):\n",
    "    filepath = os.path.join(folder, f\"{model_name}_losses.csv\")\n",
    "    df = pd.read_csv(filepath)\n",
    "    print(f\"Losses loaded from {filepath}\")\n",
    "    return df['train_loss'].tolist()"
   ],
   "metadata": {
    "collapsed": false,
    "ExecuteTime": {
     "end_time": "2024-04-24T12:24:36.189843Z",
     "start_time": "2024-04-24T12:24:36.181019Z"
    }
   },
   "id": "a3ea4eb82686c07c"
  },
  {
   "cell_type": "code",
   "execution_count": 22,
   "outputs": [],
   "source": [
    "def save_model(model, model_name, folder=\"models\"):\n",
    "    filepath = os.path.join(folder, f\"{model_name}.pth\")\n",
    "    torch.save(model.state_dict(), filepath)\n",
    "    print(f\"Model saved to {filepath}\")"
   ],
   "metadata": {
    "collapsed": false,
    "ExecuteTime": {
     "end_time": "2024-04-24T12:24:36.189883Z",
     "start_time": "2024-04-24T12:24:36.183569Z"
    }
   },
   "id": "758c2a6da3ca3de9"
  },
  {
   "cell_type": "code",
   "execution_count": 23,
   "outputs": [],
   "source": [
    "def load_model(model, model_name, folder=\"models\"):\n",
    "    filepath = os.path.join(folder, f\"{model_name}.pth\")\n",
    "    model.load_state_dict(torch.load(filepath))\n",
    "    model.to(device)\n",
    "    print(f\"Model loaded from {filepath}\")\n",
    "    return model"
   ],
   "metadata": {
    "collapsed": false,
    "ExecuteTime": {
     "end_time": "2024-04-24T12:24:36.189919Z",
     "start_time": "2024-04-24T12:24:36.185889Z"
    }
   },
   "id": "3386be4c347be17c"
  },
  {
   "cell_type": "code",
   "execution_count": 24,
   "outputs": [
    {
     "name": "stdout",
     "output_type": "stream",
     "text": [
      "14:25:41.361325 | Epoch 1 | Training Loss: 7.03392\n",
      "14:26:58.820247 | Epoch 2 | Training Loss: 6.27797\n",
      "14:28:19.277783 | Epoch 3 | Training Loss: 5.98253\n",
      "14:29:27.111803 | Epoch 4 | Training Loss: 5.79299\n",
      "14:30:33.973495 | Epoch 5 | Training Loss: 5.65539\n",
      "14:31:38.016560 | Epoch 6 | Training Loss: 5.54449\n",
      "14:32:44.728740 | Epoch 7 | Training Loss: 5.45386\n",
      "14:33:50.810275 | Epoch 8 | Training Loss: 5.37625\n",
      "14:34:57.625661 | Epoch 9 | Training Loss: 5.30669\n",
      "14:36:02.966691 | Epoch 10 | Training Loss: 5.24684\n",
      "14:37:07.295056 | Epoch 11 | Training Loss: 5.19368\n",
      "14:38:36.559131 | Epoch 12 | Training Loss: 5.14531\n",
      "14:39:43.908241 | Epoch 13 | Training Loss: 5.10108\n",
      "14:40:48.488931 | Epoch 14 | Training Loss: 5.06019\n",
      "14:41:58.292487 | Epoch 15 | Training Loss: 5.02435\n",
      "14:43:02.292321 | Epoch 16 | Training Loss: 4.98939\n",
      "14:44:08.581666 | Epoch 17 | Training Loss: 4.95772\n",
      "14:45:12.611048 | Epoch 18 | Training Loss: 4.92882\n",
      "14:46:17.881096 | Epoch 19 | Training Loss: 4.90085\n",
      "14:47:22.721523 | Epoch 20 | Training Loss: 4.87568\n",
      "14:48:29.615442 | Epoch 21 | Training Loss: 4.85227\n",
      "14:49:37.172585 | Epoch 22 | Training Loss: 4.83042\n",
      "14:50:43.157273 | Epoch 23 | Training Loss: 4.80922\n",
      "14:51:47.832645 | Epoch 24 | Training Loss: 4.78986\n",
      "14:52:53.978806 | Epoch 25 | Training Loss: 4.77135\n",
      "14:53:57.471042 | Epoch 26 | Training Loss: 4.75383\n",
      "14:54:59.535766 | Epoch 27 | Training Loss: 4.73666\n",
      "14:56:05.003947 | Epoch 28 | Training Loss: 4.72005\n",
      "14:57:12.720712 | Epoch 29 | Training Loss: 4.70497\n",
      "14:58:20.417194 | Epoch 30 | Training Loss: 4.69011\n",
      "14:59:40.128104 | Epoch 31 | Training Loss: 4.67685\n",
      "15:01:05.107102 | Epoch 32 | Training Loss: 4.66274\n",
      "15:02:10.178175 | Epoch 33 | Training Loss: 4.65130\n",
      "15:03:15.554450 | Epoch 34 | Training Loss: 4.63778\n",
      "15:04:20.630983 | Epoch 35 | Training Loss: 4.62685\n",
      "15:05:26.402567 | Epoch 36 | Training Loss: 4.61479\n",
      "15:06:31.824845 | Epoch 37 | Training Loss: 4.60550\n",
      "15:07:40.758594 | Epoch 38 | Training Loss: 4.59344\n",
      "15:08:50.567500 | Epoch 39 | Training Loss: 4.58322\n",
      "15:09:55.468188 | Epoch 40 | Training Loss: 4.57428\n",
      "15:11:08.414820 | Epoch 41 | Training Loss: 4.56348\n",
      "15:12:14.168662 | Epoch 42 | Training Loss: 4.55525\n",
      "15:13:19.643598 | Epoch 43 | Training Loss: 4.54680\n",
      "15:14:24.542183 | Epoch 44 | Training Loss: 4.53727\n",
      "15:15:31.701593 | Epoch 45 | Training Loss: 4.52955\n",
      "15:16:45.289402 | Epoch 46 | Training Loss: 4.52145\n",
      "15:18:05.386682 | Epoch 47 | Training Loss: 4.51338\n",
      "15:19:12.595908 | Epoch 48 | Training Loss: 4.50486\n",
      "15:20:32.575168 | Epoch 49 | Training Loss: 4.49816\n",
      "15:21:54.833519 | Epoch 50 | Training Loss: 4.49113\n"
     ]
    }
   ],
   "source": [
    "CBOW_model = CBOW(vocab_size=VOCAB_SIZE, emb_dim=64, context_size=CONTEXT_SIZE).to(device)\n",
    "\n",
    "optimizer = optim.Adam(CBOW_model.parameters(), lr=1e-4)\n",
    "loss_fn = nn.NLLLoss(weight=class_weights)\n",
    "\n",
    "CBOW_train_losses = train_model(CBOW_model, train_loader, optimizer, loss_fn, epochs=50)"
   ],
   "metadata": {
    "collapsed": false,
    "ExecuteTime": {
     "end_time": "2024-04-24T13:21:54.838551Z",
     "start_time": "2024-04-24T12:24:36.189015Z"
    }
   },
   "id": "f510eda8d63ed506"
  },
  {
   "cell_type": "code",
   "execution_count": 25,
   "id": "f72282a187f4b7f2",
   "metadata": {
    "collapsed": false,
    "ExecuteTime": {
     "end_time": "2024-04-24T13:21:54.875462Z",
     "start_time": "2024-04-24T13:21:54.847763Z"
    }
   },
   "outputs": [
    {
     "name": "stdout",
     "output_type": "stream",
     "text": [
      "Model saved to models/cbow_model.pth\n",
      "Losses saved to losses/cbow_model_losses.csv\n"
     ]
    }
   ],
   "source": [
    "save_model(CBOW_model, \"cbow_model\")\n",
    "save_losses(CBOW_train_losses, model_name=\"cbow_model\")"
   ]
  },
  {
   "cell_type": "code",
   "execution_count": null,
   "id": "a7d90f3e42d82dc1",
   "metadata": {
    "collapsed": false
   },
   "outputs": [],
   "source": [
    "CBOW_model_loaded = CBOW(vocab_size=VOCAB_SIZE, emb_dim=64, context_size=3)\n",
    "CBOW_model_loaded = load_model(CBOW_model_loaded, \"cbow_model\")\n",
    "\n",
    "CBOW_train_losses_loaded = load_losses(\"cbow_model\")"
   ]
  },
  {
   "cell_type": "code",
   "execution_count": null,
   "id": "adcb51381d65d443",
   "metadata": {
    "collapsed": false
   },
   "outputs": [],
   "source": [
    "CBOW_model = CBOW_model_loaded\n",
    "CBOW_train_losses = CBOW_train_losses_loaded"
   ]
  },
  {
   "cell_type": "markdown",
   "id": "7fb1dc9393049b56",
   "metadata": {
    "collapsed": false
   },
   "source": [
    "4. Train several models, select the best one, and evaluate its performance. Note that the performance here is potentially extremely low, but the real objective is not to train a good predictor, only to have a good representation of the semantics of each word in the vocabulary."
   ]
  },
  {
   "cell_type": "code",
   "execution_count": 26,
   "id": "de0427c38b3d13ba",
   "metadata": {
    "collapsed": false,
    "ExecuteTime": {
     "end_time": "2024-04-24T13:21:58.787588Z",
     "start_time": "2024-04-24T13:21:58.742894Z"
    }
   },
   "outputs": [],
   "source": [
    "def accuracy(model, data_loader):\n",
    "    model.eval()\n",
    "    correct = 0\n",
    "    total = 0\n",
    "    with torch.no_grad():\n",
    "        for contexts, targets in data_loader:\n",
    "            contexts, targets = contexts.to(device), targets.to(device)\n",
    "            outputs = model(contexts)\n",
    "            _, predicted = torch.max(outputs.data, 1)\n",
    "            total += targets.size(0)\n",
    "            correct += (predicted == targets).sum().item()\n",
    "    return correct / total"
   ]
  },
  {
   "cell_type": "code",
   "execution_count": 27,
   "id": "8e43a131adb92a8c",
   "metadata": {
    "collapsed": false,
    "ExecuteTime": {
     "end_time": "2024-04-24T13:21:59.095264Z",
     "start_time": "2024-04-24T13:21:59.079011Z"
    }
   },
   "outputs": [],
   "source": [
    "def model_selection(models, model_names, val_loader):\n",
    "    best_model = None\n",
    "    best_model_name = \"\"\n",
    "    best_acc = 0\n",
    "    for model, model_name in zip(models, model_names):\n",
    "        val_acc = accuracy(model, val_loader)\n",
    "        print(f\"{model_name} | Validation accuracy {val_acc:.2%}\")\n",
    "        if val_acc > best_acc:\n",
    "            best_model = model\n",
    "            best_model_name = model_name\n",
    "            best_acc = val_acc\n",
    "    return best_model, best_model_name"
   ]
  },
  {
   "cell_type": "code",
   "execution_count": 28,
   "id": "88a332f63c561e0f",
   "metadata": {
    "collapsed": false,
    "ExecuteTime": {
     "end_time": "2024-04-24T13:22:00.436532Z",
     "start_time": "2024-04-24T13:21:59.311397Z"
    }
   },
   "outputs": [
    {
     "name": "stdout",
     "output_type": "stream",
     "text": [
      "CBOW | Validation accuracy 8.27%\n"
     ]
    }
   ],
   "source": [
    "models = [CBOW_model, ]\n",
    "model_names = [\"CBOW\", ]\n",
    "\n",
    "# Choose the best model based on validation dataset\n",
    "best_model, best_model_name = model_selection(models, model_names, val_loader)"
   ]
  },
  {
   "cell_type": "code",
   "execution_count": 29,
   "id": "712f7512acbaac3",
   "metadata": {
    "collapsed": false,
    "ExecuteTime": {
     "end_time": "2024-04-24T13:22:02.180962Z",
     "start_time": "2024-04-24T13:22:00.436936Z"
    }
   },
   "outputs": [
    {
     "name": "stdout",
     "output_type": "stream",
     "text": [
      "The best model is CBOW | Test accuracy 7.83%\n"
     ]
    }
   ],
   "source": [
    "# Evaluate the best model on the test set\n",
    "test_acc = accuracy(best_model, test_loader)\n",
    "print(f\"The best model is {best_model_name} | Test accuracy {test_acc:.2%}\")"
   ]
  },
  {
   "cell_type": "markdown",
   "id": "82711c018e25e726",
   "metadata": {
    "collapsed": false
   },
   "source": [
    "5. Compute the cosine similarity matrix of the vocabulary based on the trained embedding. For some words of your choice (e.g. *me*, *white*, *man*, *have*, *be*, *child*, *yes*, *what* etc.), report the 10 most similar words. Comment on your results."
   ]
  },
  {
   "cell_type": "code",
   "execution_count": 30,
   "id": "532816665732979",
   "metadata": {
    "collapsed": false,
    "ExecuteTime": {
     "end_time": "2024-04-24T13:22:17.286159Z",
     "start_time": "2024-04-24T13:22:04.092370Z"
    }
   },
   "outputs": [],
   "source": [
    "best_model_embeddings = CBOW_model.embedding.weight.detach().cpu().numpy()\n",
    "\n",
    "mat_size = len(best_model_embeddings)\n",
    "cos_sim_mat = np.zeros(shape=(mat_size, mat_size))\n",
    "\n",
    "for w1 in range(mat_size):\n",
    "    for w2 in range(mat_size):\n",
    "        cos_sim_mat[w1][w2] = np.dot(best_model_embeddings[w1], best_model_embeddings[w2]) / (\n",
    "                np.linalg.norm(best_model_embeddings[w1]) * np.linalg.norm(best_model_embeddings[w2]))"
   ]
  },
  {
   "cell_type": "code",
   "execution_count": 31,
   "id": "2fa8845918b46946",
   "metadata": {
    "collapsed": false,
    "ExecuteTime": {
     "end_time": "2024-04-24T13:22:17.319342Z",
     "start_time": "2024-04-24T13:22:17.293676Z"
    }
   },
   "outputs": [],
   "source": [
    "test_words = [\"me\", \"white\", \"man\", \"have\", \"be\", \"child\", \"yes\", \"what\"]\n",
    "test_words_idx = [vocab.get_stoi()[word] for word in test_words]"
   ]
  },
  {
   "cell_type": "code",
   "execution_count": 32,
   "id": "29062a8e17825af3",
   "metadata": {
    "collapsed": false,
    "ExecuteTime": {
     "end_time": "2024-04-24T13:22:17.319553Z",
     "start_time": "2024-04-24T13:22:17.296411Z"
    }
   },
   "outputs": [],
   "source": [
    "top_n = 10\n",
    "similar_words = {}\n",
    "\n",
    "for word, idx in zip(test_words, test_words_idx):\n",
    "    # get cosine similarities for the current word against all other words\n",
    "    similarities = cos_sim_mat[idx]\n",
    "\n",
    "    # get indices of the top 10 most similar words (excluding the word itself)\n",
    "    # argsort returns indices of sorted array, with the smallest first, so we take the last 10 items\n",
    "    most_similar_idxs = np.argsort(similarities)[-top_n - 1:-1][::-1]\n",
    "\n",
    "    # map indices back to words\n",
    "    similar_words[word] = [vocab.get_itos()[i] for i in most_similar_idxs]"
   ]
  },
  {
   "cell_type": "code",
   "execution_count": 33,
   "id": "793030b39ab25c3",
   "metadata": {
    "collapsed": false,
    "ExecuteTime": {
     "end_time": "2024-04-24T13:22:18.174737Z",
     "start_time": "2024-04-24T13:22:18.160872Z"
    }
   },
   "outputs": [
    {
     "name": "stdout",
     "output_type": "stream",
     "text": [
      "Words most similar to 'me': ['us', 'him', 'yourself', 'you', 'thee', 'sir', 'them', 'importance', 'back', 'state']\n",
      "Words most similar to 'white': ['blue', 'red', 'green', 'black', 'mouth', 'yellow', 'anxiety', 'dead', 'some', 'sick']\n",
      "Words most similar to 'man': ['woman', 'cat', 'soldier', 'gentleman', 'officer', 'captain', 'fellow', 'pistol', 'elder', 'men']\n",
      "Words most similar to 'have': ['reality', 'need', 've', 'die', 'had', 'subject', 'tell', 'method', 'hast', 'having']\n",
      "Words most similar to 'be': ['been', 're', 'speak', 'discovered', 'station-master', 'grown', 'is', 'remain', 'thoroughly', 'roses']\n",
      "Words most similar to 'child': ['girl', 'm', 'cry', 'silently', 'expression', 'words', 'friend', 'sake', 'counsel', 'race']\n",
      "Words most similar to 'yes': ['depths', 'nor', 'absolute', 'recognized', '!', 'considered', 'makes', 'll', 'becomes', 'greatest']\n",
      "Words most similar to 'what': ['whatever', 'empty', 'how', 'every', 'nothing', 'something', 'hollow', 'understand', 'horror', 'conversation']\n"
     ]
    }
   ],
   "source": [
    "for word, similar in similar_words.items():\n",
    "    print(f\"Words most similar to '{word}': {similar}\")"
   ]
  },
  {
   "cell_type": "markdown",
   "id": "332fee011d91aa34",
   "metadata": {
    "collapsed": false
   },
   "source": [
    "6. Visualize the embedding space on <https://projector.tensorflow.org>. To do so, upload the vocabulary and their corresponding values in the embedding space as two tsv files. Try to find and select clusters. Report both plots (you can use screenshots) and their corresponding selections for some meaningful clusters. Comment on your results."
   ]
  },
  {
   "cell_type": "code",
   "execution_count": 34,
   "id": "b7ce287c0f929418",
   "metadata": {
    "collapsed": false,
    "ExecuteTime": {
     "end_time": "2024-04-24T13:24:43.321405Z",
     "start_time": "2024-04-24T13:24:43.262550Z"
    }
   },
   "outputs": [],
   "source": [
    "with open(\"tensorflow_projector/vectors.tsv\", \"w\") as vectors_file:\n",
    "    tsv_writer = csv.writer(vectors_file, delimiter=\"\\t\")\n",
    "    for weight in best_model_embeddings:\n",
    "        tsv_writer.writerow(weight)\n",
    "\n",
    "with open(\"tensorflow_projector/metadata.tsv\", \"w\") as metadata_file:\n",
    "    tsv_writer = csv.writer(metadata_file, delimiter=\"\\t\")\n",
    "    vocab_dict = vocab.get_itos()\n",
    "    for word in vocab_dict:\n",
    "        tsv_writer.writerow([word])"
   ]
  },
  {
   "cell_type": "code",
   "execution_count": null,
   "id": "cc80f0631c5b3c33",
   "metadata": {
    "collapsed": false
   },
   "outputs": [],
   "source": []
  }
 ],
 "metadata": {
  "kernelspec": {
   "display_name": "Python 3",
   "language": "python",
   "name": "python3"
  },
  "language_info": {
   "codemirror_mode": {
    "name": "ipython",
    "version": 3
   },
   "file_extension": ".py",
   "mimetype": "text/x-python",
   "name": "python",
   "nbconvert_exporter": "python",
   "pygments_lexer": "ipython3",
   "version": "3.11.7"
  }
 },
 "nbformat": 4,
 "nbformat_minor": 5
}
